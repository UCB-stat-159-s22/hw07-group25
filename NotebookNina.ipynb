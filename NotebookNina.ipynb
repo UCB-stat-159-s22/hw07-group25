{
 "cells": [
  {
   "cell_type": "code",
   "execution_count": 35,
   "id": "06273da8-7eb2-44d0-9ec5-b787aacd6b93",
   "metadata": {},
   "outputs": [
    {
     "name": "stderr",
     "output_type": "stream",
     "text": [
      "/srv/conda/envs/notebook/lib/python3.9/site-packages/pandas/core/generic.py:2703: PerformanceWarning: \n",
      "your performance may suffer as PyTables will pickle object types that it cannot\n",
      "map directly to c-types [inferred_type->mixed,key->block0_values] [items->Index(['research_category', '2008', '2009', '2009_ARRA', '2010', '2010_ARRA',\n",
      "       '2011', '2012', '2013', '2014', '2015', '2016', '2017', '2018', '2019',\n",
      "       '2020', '2021_Estimated', '2022_Estimated', '2019_US_Mortality_19',\n",
      "       '2019_US_Prevalence_SE_19'],\n",
      "      dtype='object')]\n",
      "\n",
      "  pytables.to_hdf(\n"
     ]
    }
   ],
   "source": [
    "import pandas as pd\n",
    "import numpy as np\n",
    "import h5py\n",
    "\n",
    "# load data\n",
    "df = pd.read_csv (r'data/raw_data/funding_data.csv')\n",
    "\n",
    "# replace + and - so they are coded as missing\n",
    "df = df.replace('+', np.NaN, regex=False)\n",
    "df = df.replace('-', np.NaN, regex=False)\n",
    "df = df.replace('*', np.NaN, regex=False)\n",
    "\n",
    "# Export the pandas DataFrame into HDF5\n",
    "h5File = \"data/cleaned_data/funding_data.hdf5\";\n",
    "df.to_hdf(h5File, \"/data/cleaned_data\");"
   ]
  },
  {
   "cell_type": "code",
   "execution_count": 36,
   "id": "19bef547-0b08-4b30-ae34-7a55bd3f9de5",
   "metadata": {},
   "outputs": [],
   "source": [
    "# Use pandas again to read data from the hdf5 file to the pandas DataFrame\n",
    "df = pd.read_hdf(h5File, \"/data/cleaned_data\");"
   ]
  },
  {
   "cell_type": "code",
   "execution_count": 37,
   "id": "a59320f0-fe38-4b39-bfd2-ec2df90e1e3c",
   "metadata": {},
   "outputs": [
    {
     "name": "stderr",
     "output_type": "stream",
     "text": [
      "/tmp/ipykernel_220/4231864846.py:3: SettingWithCopyWarning: \n",
      "A value is trying to be set on a copy of a slice from a DataFrame.\n",
      "Try using .loc[row_indexer,col_indexer] = value instead\n",
      "\n",
      "See the caveats in the documentation: https://pandas.pydata.org/pandas-docs/stable/user_guide/indexing.html#returning-a-view-versus-a-copy\n",
      "  data2019['2019'] = data2019['2019'].replace('[\\$,]', '', regex=True).astype(float)\n"
     ]
    },
    {
     "data": {
      "text/html": [
       "<div>\n",
       "<style scoped>\n",
       "    .dataframe tbody tr th:only-of-type {\n",
       "        vertical-align: middle;\n",
       "    }\n",
       "\n",
       "    .dataframe tbody tr th {\n",
       "        vertical-align: top;\n",
       "    }\n",
       "\n",
       "    .dataframe thead th {\n",
       "        text-align: right;\n",
       "    }\n",
       "</style>\n",
       "<table border=\"1\" class=\"dataframe\">\n",
       "  <thead>\n",
       "    <tr style=\"text-align: right;\">\n",
       "      <th></th>\n",
       "      <th>research_category</th>\n",
       "      <th>2019</th>\n",
       "    </tr>\n",
       "  </thead>\n",
       "  <tbody>\n",
       "    <tr>\n",
       "      <th>60</th>\n",
       "      <td>Clinical Research</td>\n",
       "      <td>15868.0</td>\n",
       "    </tr>\n",
       "    <tr>\n",
       "      <th>114</th>\n",
       "      <td>Genetics</td>\n",
       "      <td>9864.0</td>\n",
       "    </tr>\n",
       "    <tr>\n",
       "      <th>225</th>\n",
       "      <td>Prevention</td>\n",
       "      <td>9485.0</td>\n",
       "    </tr>\n",
       "    <tr>\n",
       "      <th>188</th>\n",
       "      <td>Neurosciences</td>\n",
       "      <td>9468.0</td>\n",
       "    </tr>\n",
       "    <tr>\n",
       "      <th>33</th>\n",
       "      <td>Biotechnology</td>\n",
       "      <td>7219.0</td>\n",
       "    </tr>\n",
       "    <tr>\n",
       "      <th>36</th>\n",
       "      <td>Brain Disorders</td>\n",
       "      <td>6954.0</td>\n",
       "    </tr>\n",
       "    <tr>\n",
       "      <th>41</th>\n",
       "      <td>Cancer</td>\n",
       "      <td>6520.0</td>\n",
       "    </tr>\n",
       "    <tr>\n",
       "      <th>29</th>\n",
       "      <td>Behavioral and Social Science</td>\n",
       "      <td>6499.0</td>\n",
       "    </tr>\n",
       "    <tr>\n",
       "      <th>142</th>\n",
       "      <td>Infectious Diseases</td>\n",
       "      <td>6313.0</td>\n",
       "    </tr>\n",
       "    <tr>\n",
       "      <th>61</th>\n",
       "      <td>Clinical Trials and Supportive Activities 17</td>\n",
       "      <td>6058.0</td>\n",
       "    </tr>\n",
       "  </tbody>\n",
       "</table>\n",
       "</div>"
      ],
      "text/plain": [
       "                                research_category     2019\n",
       "60                             Clinical Research   15868.0\n",
       "114                                     Genetics    9864.0\n",
       "225                                   Prevention    9485.0\n",
       "188                                Neurosciences    9468.0\n",
       "33                                 Biotechnology    7219.0\n",
       "36                               Brain Disorders    6954.0\n",
       "41                                        Cancer    6520.0\n",
       "29                 Behavioral and Social Science    6499.0\n",
       "142                          Infectious Diseases    6313.0\n",
       "61   Clinical Trials and Supportive Activities 17   6058.0"
      ]
     },
     "execution_count": 37,
     "metadata": {},
     "output_type": "execute_result"
    }
   ],
   "source": [
    "data2019 = df[[\"research_category\", \"2019\"]]\n",
    "\n",
    "data2019['2019'] = data2019['2019'].replace('[\\$,]', '', regex=True).astype(float)\n",
    "\n",
    "datatop10 = data2019.sort_values(\"2019\", ascending=False)[:10]\n",
    "datatop10"
   ]
  },
  {
   "cell_type": "code",
   "execution_count": 38,
   "id": "1cc4f822-3d97-44b8-be9f-b732bc948af6",
   "metadata": {},
   "outputs": [
    {
     "data": {
      "image/png": "[encoded data removed]",
      "text/plain": [
       "<Figure size 1080x576 with 1 Axes>"
      ]
     },
     "metadata": {
      "needs_background": "light"
     },
     "output_type": "display_data"
    }
   ],
   "source": [
    "import matplotlib.pyplot as plt\n",
    "\n",
    "fig, ax = plt.subplots(figsize=(15, 8))\n",
    "\n",
    "ax.barh(datatop10[\"research_category\"],datatop10[\"2019\"])\n",
    "ax.set_title(\"something\")\n",
    "ax.set_xlabel(\"Spending Category\")\n",
    "ax.set_ylabel(\"Spending ($)\");\n"
   ]
  },
  {
   "cell_type": "code",
   "execution_count": 40,
   "id": "8c7be8a0-c3d5-41d2-9263-bff9cd0c3d26",
   "metadata": {},
   "outputs": [],
   "source": [
    "def draw_barchart(year):\n",
    "    \n",
    "    datayear = df[[\"research_category\", year]]\n",
    "    \n",
    "    datayear[year] = datayear[year].replace('[\\$,]', '', regex=True).astype(float)\n",
    "    datayeartop10 = datayear.sort_values(year, ascending=False)[:10]\n",
    "    \n",
    "    fig, ax = plt.subplots(figsize=(15, 8))\n",
    "\n",
    "    ax.barh(datayeartop10[\"research_category\"],datayeartop10[year])\n",
    "    ax.set_title(\"Top 10 Spending Categories in )\n",
    "    ax.set_xlabel(\"Spending Category\")\n",
    "    ax.set_ylabel(\"Spending ($)\")\n",
    "    ax.grid(which='major', axis='x', linestyle='-');\n",
    "    \n"
   ]
  },
  {
   "cell_type": "code",
   "execution_count": 41,
   "id": "aeb00ab5-3ebf-49c9-9a97-cdce8d7eeeb8",
   "metadata": {},
   "outputs": [
    {
     "name": "stderr",
     "output_type": "stream",
     "text": [
      "/tmp/ipykernel_220/3127575906.py:5: SettingWithCopyWarning: \n",
      "A value is trying to be set on a copy of a slice from a DataFrame.\n",
      "Try using .loc[row_indexer,col_indexer] = value instead\n",
      "\n",
      "See the caveats in the documentation: https://pandas.pydata.org/pandas-docs/stable/user_guide/indexing.html#returning-a-view-versus-a-copy\n",
      "  datayear[year] = datayear[year].replace('[\\$,]', '', regex=True).astype(float)\n"
     ]
    },
    {
     "data": {
      "image/png": "[encoded data removed]",
      "text/plain": [
       "<Figure size 1080x576 with 1 Axes>"
      ]
     },
     "metadata": {
      "needs_background": "light"
     },
     "output_type": "display_data"
    }
   ],
   "source": [
    "draw_barchart('2014')"
   ]
  },
  {
   "cell_type": "code",
   "execution_count": null,
   "id": "958d0446-09da-496d-837a-9e6d6c110c55",
   "metadata": {},
   "outputs": [],
   "source": []
  }
 ],
 "metadata": {
  "kernelspec": {
   "display_name": "Python 3 (ipykernel)",
   "language": "python",
   "name": "python3"
  },
  "language_info": {
   "codemirror_mode": {
    "name": "ipython",
    "version": 3
   },
   "file_extension": ".py",
   "mimetype": "text/x-python",
   "name": "python",
   "nbconvert_exporter": "python",
   "pygments_lexer": "ipython3",
   "version": "3.9.9"
  }
 },
 "nbformat": 4,
 "nbformat_minor": 5
}
