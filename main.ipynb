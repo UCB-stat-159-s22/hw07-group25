{
 "cells": [
  {
   "cell_type": "markdown",
   "id": "35227da3-648e-4485-aa10-c43a152232eb",
   "metadata": {},
   "source": [
    "# STAT 159/259 Final Project: NIH Funding by Research, Condition, and Disease Categories"
   ]
  },
  {
   "cell_type": "markdown",
   "id": "6d941f31-c374-4eff-86c3-0018a905303e",
   "metadata": {},
   "source": [
    "Group Members: Madeline Adee, Nina Dickens, Tina Li. "
   ]
  },
  {
   "cell_type": "markdown",
   "id": "3417a2fb-238b-4519-b6eb-27e09bde8f04",
   "metadata": {},
   "source": [
    "### Overview"
   ]
  },
  {
   "cell_type": "markdown",
   "id": "d5ce3d0b-b816-4866-9497-e519c62cdd6c",
   "metadata": {},
   "source": [
    "This project is an analysis of National Institutes of Health (NIH) funding data. Data is provided publicly by the NIH on funding levels (in millions of dollars) by categories (defined by research, condition, or disease). Original data can be accessed [here at the NIH Research Portfolio Online Reporting Tools](https://report.nih.gov/funding/categorical-spending#/) website. We do an exploratory analysis to see what the top funding categories are, how the top funding categories have changed over time, and what the relationship is between funding level and US mortlity rates. "
   ]
  },
  {
   "cell_type": "markdown",
   "id": "e12731ad-54e6-450e-b78a-1ccf76150711",
   "metadata": {},
   "source": [
    "### Research Questions"
   ]
  },
  {
   "cell_type": "markdown",
   "id": "e90138b8-2386-4a3d-aa6e-96377590659b",
   "metadata": {},
   "source": [
    "- What are the top 10 NIH funding categories in 2019? \n",
    "- For the top 5 NIH funding categories in 2019, has the trend changed over time? \n",
    "- What is the relationship between mortality rates and funding by category in 2019? "
   ]
  },
  {
   "cell_type": "markdown",
   "id": "e5a68cb3-196b-4d1d-ac77-a05bdbe57600",
   "metadata": {},
   "source": [
    "### Setup"
   ]
  },
  {
   "cell_type": "markdown",
   "id": "f1a83b1e-3db6-42d2-9b61-7d9058aa02c9",
   "metadata": {},
   "source": [
    "We created an environment.yml file based on our environment for reproducibility, and have outsources some of our functions that involve more significant computation to the **functiontools** module in this repository. "
   ]
  },
  {
   "cell_type": "code",
   "execution_count": 1,
   "id": "69771a3b-dc96-45bd-8960-cd8e21e798d0",
   "metadata": {},
   "outputs": [
    {
     "data": {
      "text/html": [
       "        <script type=\"text/javascript\">\n",
       "        window.PlotlyConfig = {MathJaxConfig: 'local'};\n",
       "        if (window.MathJax) {MathJax.Hub.Config({SVG: {font: \"STIX-Web\"}});}\n",
       "        if (typeof require !== 'undefined') {\n",
       "        require.undef(\"plotly\");\n",
       "        requirejs.config({\n",
       "            paths: {\n",
       "                'plotly': ['https://cdn.plot.ly/plotly-2.11.1.min']\n",
       "            }\n",
       "        });\n",
       "        require(['plotly'], function(Plotly) {\n",
       "            window._Plotly = Plotly;\n",
       "        });\n",
       "        }\n",
       "        </script>\n",
       "        "
      ]
     },
     "metadata": {},
     "output_type": "display_data"
    }
   ],
   "source": [
    "import pandas as pd\n",
    "import numpy as np\n",
    "import h5py\n",
    "import plotly.express as px\n",
    "import plotly.offline as py\n",
    "from functiontools import functions as fun\n",
    "import matplotlib.pyplot as plt\n",
    "\n",
    "# Set notebook mode to work in offline\n",
    "py.init_notebook_mode(connected=True)"
   ]
  },
  {
   "cell_type": "markdown",
   "id": "3007a9cb-9d30-4624-a3ff-6c766aadd838",
   "metadata": {},
   "source": [
    "### Methods"
   ]
  },
  {
   "cell_type": "markdown",
   "id": "690d9ebc-029f-4439-8d2b-1be8c402f298",
   "metadata": {},
   "source": [
    "We downloaded the excel file available on this website and removed comments at the bottom to facilitate reading the data, but no changes were made to the raw data at this state. This modified file with no comments is saved here: data/raw_data/funding_data.csv. "
   ]
  },
  {
   "cell_type": "code",
   "execution_count": 2,
   "id": "42ca8a37-1733-4c3d-aef4-5c775122e952",
   "metadata": {},
   "outputs": [],
   "source": [
    "# load data\n",
    "df = pd.read_csv (r'data/raw_data/funding_data.csv')"
   ]
  },
  {
   "cell_type": "markdown",
   "id": "aed71bd4-3b4b-4d9a-8a64-1354eaa41c59",
   "metadata": {},
   "source": [
    "We removed years prior to 2011 (because there was an additional column for two of the years < 2011 without a clear explanation of how to interpret this column) and years after 2020 (since this data was projections only). This gives us a database of 10 years of funding data. However, since prevalence and mortality data are provided only for 2019, we decided to use this year as our endpoint year for analyses. "
   ]
  },
  {
   "cell_type": "code",
   "execution_count": 3,
   "id": "d9cd5aa4-4d79-4b31-b6e3-31e156375961",
   "metadata": {},
   "outputs": [],
   "source": [
    "# remove pre-2011 data and years that are estimates only\n",
    "df = df.drop(df.columns[[1, 2, 3, 4, 5, 16, 17]], axis=1)"
   ]
  },
  {
   "cell_type": "markdown",
   "id": "39393bb0-92f0-4eaf-9ff1-6bf6744c251d",
   "metadata": {},
   "source": [
    "To use the data effectively, we had to do some data cleaning. We created a couple of functions (in **functiontools** module) to cleanup the original data, since the excel formatting caused some issues. The original data included dollar signs, commas, and other symbols like asterisks to indicate missing data that need to be removed or recoded. Once this is done we have a cleaned data set with the category, a column for each year in the 10 year period (with dollar amounts in millions), and 2019 prevalence and mortality data for conditions/disease for which this was provided."
   ]
  },
  {
   "cell_type": "code",
   "execution_count": 4,
   "id": "226adf94-8977-4669-b9fc-eb2525ec859f",
   "metadata": {},
   "outputs": [
    {
     "data": {
      "text/html": [
       "<div>\n",
       "<style scoped>\n",
       "    .dataframe tbody tr th:only-of-type {\n",
       "        vertical-align: middle;\n",
       "    }\n",
       "\n",
       "    .dataframe tbody tr th {\n",
       "        vertical-align: top;\n",
       "    }\n",
       "\n",
       "    .dataframe thead th {\n",
       "        text-align: right;\n",
       "    }\n",
       "</style>\n",
       "<table border=\"1\" class=\"dataframe\">\n",
       "  <thead>\n",
       "    <tr style=\"text-align: right;\">\n",
       "      <th></th>\n",
       "      <th>research_category</th>\n",
       "      <th>2011</th>\n",
       "      <th>2012</th>\n",
       "      <th>2013</th>\n",
       "      <th>2014</th>\n",
       "      <th>2015</th>\n",
       "      <th>2016</th>\n",
       "      <th>2017</th>\n",
       "      <th>2018</th>\n",
       "      <th>2019</th>\n",
       "      <th>2020</th>\n",
       "      <th>2019_US_Mortality_19</th>\n",
       "      <th>2019_US_Prevalence_SE_19</th>\n",
       "    </tr>\n",
       "  </thead>\n",
       "  <tbody>\n",
       "    <tr>\n",
       "      <th>0</th>\n",
       "      <td>Acquired Cognitive Impairment</td>\n",
       "      <td>NaN</td>\n",
       "      <td>NaN</td>\n",
       "      <td>NaN</td>\n",
       "      <td>NaN</td>\n",
       "      <td>798.0</td>\n",
       "      <td>1132.0</td>\n",
       "      <td>1560.0</td>\n",
       "      <td>1978.0</td>\n",
       "      <td>2423.0</td>\n",
       "      <td>2897.0</td>\n",
       "      <td>NaN</td>\n",
       "      <td>NaN</td>\n",
       "    </tr>\n",
       "    <tr>\n",
       "      <th>1</th>\n",
       "      <td>Acute Respiratory Distress Syndrome</td>\n",
       "      <td>96.0</td>\n",
       "      <td>98.0</td>\n",
       "      <td>95.0</td>\n",
       "      <td>85.0</td>\n",
       "      <td>108.0</td>\n",
       "      <td>103.0</td>\n",
       "      <td>107.0</td>\n",
       "      <td>123.0</td>\n",
       "      <td>126.0</td>\n",
       "      <td>158.0</td>\n",
       "      <td>10482.0</td>\n",
       "      <td>NaN</td>\n",
       "    </tr>\n",
       "    <tr>\n",
       "      <th>2</th>\n",
       "      <td>Adolescent Sexual Activity</td>\n",
       "      <td>69.0</td>\n",
       "      <td>76.0</td>\n",
       "      <td>70.0</td>\n",
       "      <td>68.0</td>\n",
       "      <td>85.0</td>\n",
       "      <td>91.0</td>\n",
       "      <td>99.0</td>\n",
       "      <td>96.0</td>\n",
       "      <td>102.0</td>\n",
       "      <td>88.0</td>\n",
       "      <td>NaN</td>\n",
       "      <td>NaN</td>\n",
       "    </tr>\n",
       "    <tr>\n",
       "      <th>3</th>\n",
       "      <td>Agent Orange &amp; Dioxin</td>\n",
       "      <td>8.0</td>\n",
       "      <td>8.0</td>\n",
       "      <td>10.0</td>\n",
       "      <td>8.0</td>\n",
       "      <td>9.0</td>\n",
       "      <td>9.0</td>\n",
       "      <td>11.0</td>\n",
       "      <td>10.0</td>\n",
       "      <td>8.0</td>\n",
       "      <td>6.0</td>\n",
       "      <td>NaN</td>\n",
       "      <td>NaN</td>\n",
       "    </tr>\n",
       "    <tr>\n",
       "      <th>4</th>\n",
       "      <td>Aging</td>\n",
       "      <td>2572.0</td>\n",
       "      <td>2593.0</td>\n",
       "      <td>2429.0</td>\n",
       "      <td>2556.0</td>\n",
       "      <td>2698.0</td>\n",
       "      <td>3150.0</td>\n",
       "      <td>3572.0</td>\n",
       "      <td>4084.0</td>\n",
       "      <td>4653.0</td>\n",
       "      <td>5276.0</td>\n",
       "      <td>NaN</td>\n",
       "      <td>NaN</td>\n",
       "    </tr>\n",
       "    <tr>\n",
       "      <th>...</th>\n",
       "      <td>...</td>\n",
       "      <td>...</td>\n",
       "      <td>...</td>\n",
       "      <td>...</td>\n",
       "      <td>...</td>\n",
       "      <td>...</td>\n",
       "      <td>...</td>\n",
       "      <td>...</td>\n",
       "      <td>...</td>\n",
       "      <td>...</td>\n",
       "      <td>...</td>\n",
       "      <td>...</td>\n",
       "      <td>...</td>\n",
       "    </tr>\n",
       "    <tr>\n",
       "      <th>294</th>\n",
       "      <td>West Nile Virus</td>\n",
       "      <td>65.0</td>\n",
       "      <td>29.0</td>\n",
       "      <td>40.0</td>\n",
       "      <td>48.0</td>\n",
       "      <td>40.0</td>\n",
       "      <td>46.0</td>\n",
       "      <td>42.0</td>\n",
       "      <td>36.0</td>\n",
       "      <td>24.0</td>\n",
       "      <td>27.0</td>\n",
       "      <td>90.0</td>\n",
       "      <td>NaN</td>\n",
       "    </tr>\n",
       "    <tr>\n",
       "      <th>295</th>\n",
       "      <td>Women's Health 8</td>\n",
       "      <td>3891.0</td>\n",
       "      <td>3833.0</td>\n",
       "      <td>3745.0</td>\n",
       "      <td>3935.0</td>\n",
       "      <td>3989.0</td>\n",
       "      <td>4540.0</td>\n",
       "      <td>4769.0</td>\n",
       "      <td>5048.0</td>\n",
       "      <td>4469.0</td>\n",
       "      <td>4466.0</td>\n",
       "      <td>NaN</td>\n",
       "      <td>NaN</td>\n",
       "    </tr>\n",
       "    <tr>\n",
       "      <th>296</th>\n",
       "      <td>Wound Healing and Care</td>\n",
       "      <td>NaN</td>\n",
       "      <td>NaN</td>\n",
       "      <td>NaN</td>\n",
       "      <td>NaN</td>\n",
       "      <td>NaN</td>\n",
       "      <td>NaN</td>\n",
       "      <td>NaN</td>\n",
       "      <td>NaN</td>\n",
       "      <td>NaN</td>\n",
       "      <td>163.0</td>\n",
       "      <td>NaN</td>\n",
       "      <td>NaN</td>\n",
       "    </tr>\n",
       "    <tr>\n",
       "      <th>297</th>\n",
       "      <td>Youth Violence</td>\n",
       "      <td>87.0</td>\n",
       "      <td>77.0</td>\n",
       "      <td>70.0</td>\n",
       "      <td>59.0</td>\n",
       "      <td>47.0</td>\n",
       "      <td>46.0</td>\n",
       "      <td>50.0</td>\n",
       "      <td>46.0</td>\n",
       "      <td>48.0</td>\n",
       "      <td>38.0</td>\n",
       "      <td>NaN</td>\n",
       "      <td>NaN</td>\n",
       "    </tr>\n",
       "    <tr>\n",
       "      <th>298</th>\n",
       "      <td>Youth Violence Prevention</td>\n",
       "      <td>26.0</td>\n",
       "      <td>27.0</td>\n",
       "      <td>26.0</td>\n",
       "      <td>16.0</td>\n",
       "      <td>15.0</td>\n",
       "      <td>17.0</td>\n",
       "      <td>21.0</td>\n",
       "      <td>22.0</td>\n",
       "      <td>24.0</td>\n",
       "      <td>21.0</td>\n",
       "      <td>NaN</td>\n",
       "      <td>NaN</td>\n",
       "    </tr>\n",
       "  </tbody>\n",
       "</table>\n",
       "<p>299 rows × 13 columns</p>\n",
       "</div>"
      ],
      "text/plain": [
       "                        research_category    2011    2012    2013    2014  \\\n",
       "0          Acquired Cognitive Impairment      NaN     NaN     NaN     NaN   \n",
       "1    Acute Respiratory Distress Syndrome     96.0    98.0    95.0    85.0   \n",
       "2             Adolescent Sexual Activity     69.0    76.0    70.0    68.0   \n",
       "3                  Agent Orange & Dioxin      8.0     8.0    10.0     8.0   \n",
       "4                                  Aging   2572.0  2593.0  2429.0  2556.0   \n",
       "..                                    ...     ...     ...     ...     ...   \n",
       "294                      West Nile Virus     65.0    29.0    40.0    48.0   \n",
       "295                      Women's Health 8  3891.0  3833.0  3745.0  3935.0   \n",
       "296               Wound Healing and Care      NaN     NaN     NaN     NaN   \n",
       "297                       Youth Violence     87.0    77.0    70.0    59.0   \n",
       "298            Youth Violence Prevention     26.0    27.0    26.0    16.0   \n",
       "\n",
       "       2015    2016    2017    2018    2019    2020  2019_US_Mortality_19  \\\n",
       "0     798.0  1132.0  1560.0  1978.0  2423.0  2897.0                   NaN   \n",
       "1     108.0   103.0   107.0   123.0   126.0   158.0               10482.0   \n",
       "2      85.0    91.0    99.0    96.0   102.0    88.0                   NaN   \n",
       "3       9.0     9.0    11.0    10.0     8.0     6.0                   NaN   \n",
       "4    2698.0  3150.0  3572.0  4084.0  4653.0  5276.0                   NaN   \n",
       "..      ...     ...     ...     ...     ...     ...                   ...   \n",
       "294    40.0    46.0    42.0    36.0    24.0    27.0                  90.0   \n",
       "295  3989.0  4540.0  4769.0  5048.0  4469.0  4466.0                   NaN   \n",
       "296     NaN     NaN     NaN     NaN     NaN   163.0                   NaN   \n",
       "297    47.0    46.0    50.0    46.0    48.0    38.0                   NaN   \n",
       "298    15.0    17.0    21.0    22.0    24.0    21.0                   NaN   \n",
       "\n",
       "    2019_US_Prevalence_SE_19  \n",
       "0                        NaN  \n",
       "1                        NaN  \n",
       "2                        NaN  \n",
       "3                        NaN  \n",
       "4                        NaN  \n",
       "..                       ...  \n",
       "294                      NaN  \n",
       "295                      NaN  \n",
       "296                      NaN  \n",
       "297                      NaN  \n",
       "298                      NaN  \n",
       "\n",
       "[299 rows x 13 columns]"
      ]
     },
     "metadata": {},
     "output_type": "display_data"
    }
   ],
   "source": [
    "# list of years to edit the way dollar amount is entered (remove $ sign)\n",
    "years = ['2011','2012','2013', '2014', '2015', '2016', '2017', '2018', '2019', '2020']\n",
    "\n",
    "# function to cleanup messy data\n",
    "df = fun.cleanup(df, years)\n",
    "\n",
    "display(df)"
   ]
  },
  {
   "cell_type": "markdown",
   "id": "157afdf2-595d-4a8f-b915-26ded0b2fc10",
   "metadata": {},
   "source": [
    "We saved this cleaned up data set in hdf5 format."
   ]
  },
  {
   "cell_type": "code",
   "execution_count": 5,
   "id": "c4ec728e-3286-497b-86c6-0e9949729c07",
   "metadata": {},
   "outputs": [
    {
     "name": "stderr",
     "output_type": "stream",
     "text": [
      "/home/jovyan/envs/nih/lib/python3.9/site-packages/pandas/core/generic.py:2703: PerformanceWarning:\n",
      "\n",
      "\n",
      "your performance may suffer as PyTables will pickle object types that it cannot\n",
      "map directly to c-types [inferred_type->mixed,key->block1_values] [items->Index(['research_category', '2019_US_Prevalence_SE_19'], dtype='object')]\n",
      "\n",
      "\n"
     ]
    }
   ],
   "source": [
    "# Export the pandas DataFrame into HDF5\n",
    "h5File = \"data/cleaned_data/funding_data.hdf5\"\n",
    "df.to_hdf(h5File, \"/data/cleaned_data\")"
   ]
  },
  {
   "cell_type": "markdown",
   "id": "a5fa7c37-05f9-4ed2-9f4b-8ff0cea3ae38",
   "metadata": {},
   "source": [
    "Then we created another version of the data with the prevalence and mortality removed, including a version in long format, and save both of these in the folder of cleaned data. We do not use all saved versions of the data for this analysis currently, but they would be helpful for future analysis. "
   ]
  },
  {
   "cell_type": "code",
   "execution_count": 6,
   "id": "5047625d-5476-4b79-a6d2-5f9826f21946",
   "metadata": {},
   "outputs": [],
   "source": [
    "# remove mortality and prevalence data for this dataset\n",
    "df2 = df.drop(['2019_US_Mortality_19', '2019_US_Prevalence_SE_19'], axis = 1)\n",
    "\n",
    "# Export the pandas DataFrame into HDF5\n",
    "h5File2 = \"data/cleaned_data/funding_data_MP_removed.hdf5\"\n",
    "df2.to_hdf(h5File2, \"/data/cleaned_data\")"
   ]
  },
  {
   "cell_type": "code",
   "execution_count": 7,
   "id": "5396dd57-b5c9-4d27-b8d5-ece735b38e45",
   "metadata": {},
   "outputs": [
    {
     "data": {
      "text/html": [
       "<div>\n",
       "<style scoped>\n",
       "    .dataframe tbody tr th:only-of-type {\n",
       "        vertical-align: middle;\n",
       "    }\n",
       "\n",
       "    .dataframe tbody tr th {\n",
       "        vertical-align: top;\n",
       "    }\n",
       "\n",
       "    .dataframe thead th {\n",
       "        text-align: right;\n",
       "    }\n",
       "</style>\n",
       "<table border=\"1\" class=\"dataframe\">\n",
       "  <thead>\n",
       "    <tr style=\"text-align: right;\">\n",
       "      <th></th>\n",
       "      <th>research_category</th>\n",
       "      <th>year</th>\n",
       "      <th>millions</th>\n",
       "    </tr>\n",
       "  </thead>\n",
       "  <tbody>\n",
       "    <tr>\n",
       "      <th>0</th>\n",
       "      <td>Acquired Cognitive Impairment</td>\n",
       "      <td>2011</td>\n",
       "      <td>NaN</td>\n",
       "    </tr>\n",
       "    <tr>\n",
       "      <th>1</th>\n",
       "      <td>Acute Respiratory Distress Syndrome</td>\n",
       "      <td>2011</td>\n",
       "      <td>96.0</td>\n",
       "    </tr>\n",
       "    <tr>\n",
       "      <th>2</th>\n",
       "      <td>Adolescent Sexual Activity</td>\n",
       "      <td>2011</td>\n",
       "      <td>69.0</td>\n",
       "    </tr>\n",
       "    <tr>\n",
       "      <th>3</th>\n",
       "      <td>Agent Orange &amp; Dioxin</td>\n",
       "      <td>2011</td>\n",
       "      <td>8.0</td>\n",
       "    </tr>\n",
       "    <tr>\n",
       "      <th>4</th>\n",
       "      <td>Aging</td>\n",
       "      <td>2011</td>\n",
       "      <td>2572.0</td>\n",
       "    </tr>\n",
       "    <tr>\n",
       "      <th>...</th>\n",
       "      <td>...</td>\n",
       "      <td>...</td>\n",
       "      <td>...</td>\n",
       "    </tr>\n",
       "    <tr>\n",
       "      <th>2985</th>\n",
       "      <td>West Nile Virus</td>\n",
       "      <td>2020</td>\n",
       "      <td>27.0</td>\n",
       "    </tr>\n",
       "    <tr>\n",
       "      <th>2986</th>\n",
       "      <td>Women's Health 8</td>\n",
       "      <td>2020</td>\n",
       "      <td>4466.0</td>\n",
       "    </tr>\n",
       "    <tr>\n",
       "      <th>2987</th>\n",
       "      <td>Wound Healing and Care</td>\n",
       "      <td>2020</td>\n",
       "      <td>163.0</td>\n",
       "    </tr>\n",
       "    <tr>\n",
       "      <th>2988</th>\n",
       "      <td>Youth Violence</td>\n",
       "      <td>2020</td>\n",
       "      <td>38.0</td>\n",
       "    </tr>\n",
       "    <tr>\n",
       "      <th>2989</th>\n",
       "      <td>Youth Violence Prevention</td>\n",
       "      <td>2020</td>\n",
       "      <td>21.0</td>\n",
       "    </tr>\n",
       "  </tbody>\n",
       "</table>\n",
       "<p>2990 rows × 3 columns</p>\n",
       "</div>"
      ],
      "text/plain": [
       "                         research_category  year  millions\n",
       "0           Acquired Cognitive Impairment   2011       NaN\n",
       "1     Acute Respiratory Distress Syndrome   2011      96.0\n",
       "2              Adolescent Sexual Activity   2011      69.0\n",
       "3                   Agent Orange & Dioxin   2011       8.0\n",
       "4                                   Aging   2011    2572.0\n",
       "...                                    ...   ...       ...\n",
       "2985                      West Nile Virus   2020      27.0\n",
       "2986                      Women's Health 8  2020    4466.0\n",
       "2987               Wound Healing and Care   2020     163.0\n",
       "2988                       Youth Violence   2020      38.0\n",
       "2989            Youth Violence Prevention   2020      21.0\n",
       "\n",
       "[2990 rows x 3 columns]"
      ]
     },
     "metadata": {},
     "output_type": "display_data"
    }
   ],
   "source": [
    "# create long format version of the above dataset\n",
    "df2_long = pd.melt(df2, id_vars='research_category', \n",
    "                   value_vars=['2011','2012','2013', '2014', '2015', '2016', '2017', '2018', '2019', '2020'], \n",
    "                   var_name = 'year', value_name = 'millions')\n",
    "\n",
    "# Export the pandas DataFrame into HDF5\n",
    "h5File3 = \"data/cleaned_data/funding_data_MP_removed_long.hdf5\"\n",
    "df2_long.to_hdf(h5File3, \"/data/cleaned_data\")\n",
    "\n",
    "# diplay long format data\n",
    "display(df2_long)"
   ]
  },
  {
   "cell_type": "markdown",
   "id": "13e7061c-364b-44a3-a04e-cb4ac3758e8b",
   "metadata": {},
   "source": [
    "Next we also tried to make a version of the data where the amount in millions is adjusted for inflation - but the cpi package did not work. We would recommend for future analyses that researchers consider adjusting the dollar amounts for inflation, but it is beyond the scope of our exploratory analysis to set this up manually. "
   ]
  },
  {
   "cell_type": "code",
   "execution_count": 8,
   "id": "f4acf7ba-a087-4b78-a5dd-a30bdb31c036",
   "metadata": {},
   "outputs": [],
   "source": [
    "#pd.to_datetime(df2_long['year'])\n",
    "#display(df2_long)\n",
    "#df2_long['adjusted_millions'] = df2_long.apply(lambda x: cpi.inflate(x.millions, x.year), axis=1)"
   ]
  },
  {
   "cell_type": "markdown",
   "id": "9f23a3c7-8465-4631-9708-d8d3767b0125",
   "metadata": {},
   "source": [
    "We created a final version of the data for some of the plots that is just the mortality and spending by category for 2019. "
   ]
  },
  {
   "cell_type": "code",
   "execution_count": 9,
   "id": "910e1eac-d797-484c-a54f-b55e778366b0",
   "metadata": {},
   "outputs": [],
   "source": [
    "df3 = df[['research_category', '2019_US_Mortality_19', '2019']]\n",
    "\n",
    "# Export the pandas DataFrame into HDF5\n",
    "h5File4 = \"data/cleaned_data/funding_data_2019.hdf5\"\n",
    "df3.to_hdf(h5File4, \"/data/cleaned_data\")"
   ]
  },
  {
   "cell_type": "markdown",
   "id": "f05f15cc-81ad-4862-aed8-97508ecedcc7",
   "metadata": {},
   "source": [
    "#### *Reproducibility Critique of Data Set*"
   ]
  },
  {
   "cell_type": "markdown",
   "id": "49a0bfdb-cf92-49d9-8bf2-7bc20a0df932",
   "metadata": {},
   "source": [
    "The data was only available to download as an excel file, which is somewhat problematic for reproducibility. Due to werid layout and the inclusion of comments in random cells, we had to do some manual cleaning of the data we dowloaded and then save it as a csv. To improve ability to do research with this data in a reporodicible way, the NIH should consider storing the data in a better format, with a supplemental file of comments. Additionally, we did not use earlier years of data becase there was a code appended to the end of some of the columns that was not defined -- a data dictionary should also be added to the original database to make sure researchers fully understand what each variable means and are able to use all of the data."
   ]
  },
  {
   "cell_type": "markdown",
   "id": "242aa78a-bff3-47e6-ada2-b320d17e67df",
   "metadata": {},
   "source": [
    "### Analysis"
   ]
  },
  {
   "cell_type": "markdown",
   "id": "79743463-b4e9-478d-b8ad-76266b50df31",
   "metadata": {},
   "source": [
    "#### *1. Top 10 Funding Categories in 2019*"
   ]
  },
  {
   "cell_type": "markdown",
   "id": "0e60798d-59d2-47a1-a1ef-941ad2b4de28",
   "metadata": {},
   "source": [
    "In the first part of our analysis, we decided to find the top 10 categories funded in 2019 (The most recent year will full data availability). Our team asked the question: What are the top 10 spending categories in 2019? What about 2016? Firstly, we decided to filter the data to look mainly at the categories and spending amounts in 2019 to answer the first part of our question. To do so we had employ our **change_to_float** function to convert the data to floats."
   ]
  },
  {
   "cell_type": "code",
   "execution_count": 10,
   "id": "4e9ddc34-be01-4552-8f0e-b2a1134faa6a",
   "metadata": {},
   "outputs": [
    {
     "data": {
      "text/html": [
       "<div>\n",
       "<style scoped>\n",
       "    .dataframe tbody tr th:only-of-type {\n",
       "        vertical-align: middle;\n",
       "    }\n",
       "\n",
       "    .dataframe tbody tr th {\n",
       "        vertical-align: top;\n",
       "    }\n",
       "\n",
       "    .dataframe thead th {\n",
       "        text-align: right;\n",
       "    }\n",
       "</style>\n",
       "<table border=\"1\" class=\"dataframe\">\n",
       "  <thead>\n",
       "    <tr style=\"text-align: right;\">\n",
       "      <th></th>\n",
       "      <th>research_category</th>\n",
       "      <th>2019</th>\n",
       "    </tr>\n",
       "  </thead>\n",
       "  <tbody>\n",
       "    <tr>\n",
       "      <th>60</th>\n",
       "      <td>Clinical Research</td>\n",
       "      <td>15868.0</td>\n",
       "    </tr>\n",
       "    <tr>\n",
       "      <th>114</th>\n",
       "      <td>Genetics</td>\n",
       "      <td>9864.0</td>\n",
       "    </tr>\n",
       "    <tr>\n",
       "      <th>225</th>\n",
       "      <td>Prevention</td>\n",
       "      <td>9485.0</td>\n",
       "    </tr>\n",
       "    <tr>\n",
       "      <th>188</th>\n",
       "      <td>Neurosciences</td>\n",
       "      <td>9468.0</td>\n",
       "    </tr>\n",
       "    <tr>\n",
       "      <th>33</th>\n",
       "      <td>Biotechnology</td>\n",
       "      <td>7219.0</td>\n",
       "    </tr>\n",
       "    <tr>\n",
       "      <th>36</th>\n",
       "      <td>Brain Disorders</td>\n",
       "      <td>6954.0</td>\n",
       "    </tr>\n",
       "    <tr>\n",
       "      <th>41</th>\n",
       "      <td>Cancer</td>\n",
       "      <td>6520.0</td>\n",
       "    </tr>\n",
       "    <tr>\n",
       "      <th>29</th>\n",
       "      <td>Behavioral and Social Science</td>\n",
       "      <td>6499.0</td>\n",
       "    </tr>\n",
       "    <tr>\n",
       "      <th>142</th>\n",
       "      <td>Infectious Diseases</td>\n",
       "      <td>6313.0</td>\n",
       "    </tr>\n",
       "    <tr>\n",
       "      <th>61</th>\n",
       "      <td>Clinical Trials and Supportive Activities 17</td>\n",
       "      <td>6058.0</td>\n",
       "    </tr>\n",
       "  </tbody>\n",
       "</table>\n",
       "</div>"
      ],
      "text/plain": [
       "                                research_category     2019\n",
       "60                             Clinical Research   15868.0\n",
       "114                                     Genetics    9864.0\n",
       "225                                   Prevention    9485.0\n",
       "188                                Neurosciences    9468.0\n",
       "33                                 Biotechnology    7219.0\n",
       "36                               Brain Disorders    6954.0\n",
       "41                                        Cancer    6520.0\n",
       "29                 Behavioral and Social Science    6499.0\n",
       "142                          Infectious Diseases    6313.0\n",
       "61   Clinical Trials and Supportive Activities 17   6058.0"
      ]
     },
     "execution_count": 10,
     "metadata": {},
     "output_type": "execute_result"
    }
   ],
   "source": [
    "# Use pandas again to read data from the hdf5 file to the pandas DataFrame\n",
    "df = pd.read_hdf(h5File, \"/data/cleaned_data\");\n",
    "\n",
    "# Filtering the data frame to only look at the year 2019 and the research category\n",
    "data2019 = df[[\"research_category\", \"2019\"]]\n",
    "\n",
    "# Using our float conversion function that can be found in functions.py file\n",
    "fun.change_to_float(data2019[\"2019\"])\n",
    "\n",
    "datatop10 = data2019.sort_values(\"2019\", ascending=False)[:10]\n",
    "datatop10"
   ]
  },
  {
   "cell_type": "markdown",
   "id": "2aa18aa2-ba41-40e4-88ac-120e0024ea2b",
   "metadata": {},
   "source": [
    "We then created bar charts of the top 10 funding categories in 2019."
   ]
  },
  {
   "cell_type": "code",
   "execution_count": 11,
   "id": "82bc3013-0df0-491b-8cdd-fd84350154c5",
   "metadata": {},
   "outputs": [
    {
     "data": {
      "image/png": "[encoded data removed]",
      "text/plain": [
       "<Figure size 1080x576 with 1 Axes>"
      ]
     },
     "metadata": {
      "needs_background": "light"
     },
     "output_type": "display_data"
    }
   ],
   "source": [
    "fig, ax = plt.subplots(figsize=(15, 8))\n",
    "\n",
    "# Graphing the first plot by using a bar chart\n",
    "ax.barh(datatop10[\"research_category\"],datatop10[\"2019\"])\n",
    "ax.set_title(\"Top 10 Total Funding by NIH in 2019\")\n",
    "ax.set_xlabel(\"Funding (Millions $)\")\n",
    "ax.set_ylabel(\"Funding Category\")\n",
    "\n",
    "# Saving the plot in figures folder\n",
    "plt.savefig('figures/fig1a.png');"
   ]
  },
  {
   "cell_type": "markdown",
   "id": "f56be5c0-ab85-4d9c-883e-d73151f5e792",
   "metadata": {},
   "source": [
    "From the following graph, our team devised some interesting findings. It seems that Clinical Research was the most heavily invested in 2019, followed by Genetics with around and then tied in third place is Neurosciences and Prevention with around $9000 million. It's interesting to note that Clinical Research has almost two times the investment compared to the bottom of the top 10 list. "
   ]
  },
  {
   "cell_type": "markdown",
   "id": "903a1ece-1ab0-4c5d-813d-74e14427c415",
   "metadata": {},
   "source": [
    "However, our team was interested to see if this occurred every year. As such, we built a function that enables to graph a graph based on the inputted year found in our function.py file. This function can be seen and tested below. We include an example for 2016."
   ]
  },
  {
   "cell_type": "code",
   "execution_count": 12,
   "id": "6a368984-2047-4dfd-9af7-cbbe6f29647d",
   "metadata": {},
   "outputs": [
    {
     "name": "stderr",
     "output_type": "stream",
     "text": [
      "/home/jovyan/homework/hw07-group25/functiontools/functions.py:30: SettingWithCopyWarning:\n",
      "\n",
      "\n",
      "A value is trying to be set on a copy of a slice from a DataFrame.\n",
      "Try using .loc[row_indexer,col_indexer] = value instead\n",
      "\n",
      "See the caveats in the documentation: https://pandas.pydata.org/pandas-docs/stable/user_guide/indexing.html#returning-a-view-versus-a-copy\n",
      "\n"
     ]
    },
    {
     "data": {
      "image/png": "[encoded data removed]",
      "text/plain": [
       "<Figure size 1080x576 with 1 Axes>"
      ]
     },
     "metadata": {
      "needs_background": "light"
     },
     "output_type": "display_data"
    }
   ],
   "source": [
    "# Here we test out the graph for 2016\n",
    "df = pd.read_hdf(h5File, \"/data/cleaned_data\")\n",
    "fun.draw_barchart(df,'2016')"
   ]
  },
  {
   "cell_type": "markdown",
   "id": "4de1a2a8-a16e-4b13-9740-5b6d7d0d916d",
   "metadata": {},
   "source": [
    "As we can see in the above graph, when we tested the year 2016, our group still came to similar conclusions. Clinical Research, Genetics, Prevention, and Neurosciences remainded top spenders even in 2016. Much like 2019, the Clinical Research spending remained almost double that of the bottom of the top 10, and Prevention, Genetics and Neurosciences remained closer together. However, there seems to be more variation at the bottom of the top 10. As time went on, NIH spending seemed to shift more towards Brain Disorders and Behavioral and Social Sciences. "
   ]
  },
  {
   "cell_type": "markdown",
   "id": "ae87d073-40ab-48db-b7c1-648f741f70de",
   "metadata": {},
   "source": [
    "#### *2. Top 5 Funding Categories Over Time*"
   ]
  },
  {
   "cell_type": "markdown",
   "id": "29f9f478-9e05-4bcf-80f0-f95673b53270",
   "metadata": {},
   "source": [
    "Next our team was curious: Has the funding for the top 5 funding categories in 2019 changed over time? For this second part, we tried to look for the top 5 funding categories over time. We only included the year of 2016 to 2020. We changed format of the dataset and created a dataframe of only the top 5 funding categories which were clinical research, genetics, prevention, neurosciences, and biotechnology. "
   ]
  },
  {
   "cell_type": "code",
   "execution_count": 13,
   "id": "a6bee14e-0509-499f-ac2c-a4c72ec010a0",
   "metadata": {},
   "outputs": [
    {
     "name": "stderr",
     "output_type": "stream",
     "text": [
      "/tmp/ipykernel_1098/136155729.py:5: SettingWithCopyWarning:\n",
      "\n",
      "\n",
      "A value is trying to be set on a copy of a slice from a DataFrame.\n",
      "Try using .loc[row_indexer,col_indexer] = value instead\n",
      "\n",
      "See the caveats in the documentation: https://pandas.pydata.org/pandas-docs/stable/user_guide/indexing.html#returning-a-view-versus-a-copy\n",
      "\n"
     ]
    }
   ],
   "source": [
    "data_recent = df[[\"research_category\", \"2016\", \"2017\", \"2018\", \"2019\", \"2020\"]]\n",
    "\n",
    "# Filtering for different years \n",
    "for item in [\"2016\", \"2017\", \"2018\", \"2019\", \"2020\"]:\n",
    "    data_recent[item] = fun.change_to_float(data_recent[item])"
   ]
  },
  {
   "cell_type": "code",
   "execution_count": 14,
   "id": "dc116907-0ef1-4ce2-9170-5abd15a22f05",
   "metadata": {},
   "outputs": [
    {
     "name": "stderr",
     "output_type": "stream",
     "text": [
      "/tmp/ipykernel_1098/1596165561.py:2: SettingWithCopyWarning:\n",
      "\n",
      "\n",
      "A value is trying to be set on a copy of a slice from a DataFrame.\n",
      "Try using .loc[row_indexer,col_indexer] = value instead\n",
      "\n",
      "See the caveats in the documentation: https://pandas.pydata.org/pandas-docs/stable/user_guide/indexing.html#returning-a-view-versus-a-copy\n",
      "\n"
     ]
    },
    {
     "data": {
      "text/html": [
       "<div>\n",
       "<style scoped>\n",
       "    .dataframe tbody tr th:only-of-type {\n",
       "        vertical-align: middle;\n",
       "    }\n",
       "\n",
       "    .dataframe tbody tr th {\n",
       "        vertical-align: top;\n",
       "    }\n",
       "\n",
       "    .dataframe thead th {\n",
       "        text-align: right;\n",
       "    }\n",
       "</style>\n",
       "<table border=\"1\" class=\"dataframe\">\n",
       "  <thead>\n",
       "    <tr style=\"text-align: right;\">\n",
       "      <th></th>\n",
       "      <th>research_category</th>\n",
       "      <th>2016</th>\n",
       "      <th>2017</th>\n",
       "      <th>2018</th>\n",
       "      <th>2019</th>\n",
       "      <th>2020</th>\n",
       "    </tr>\n",
       "  </thead>\n",
       "  <tbody>\n",
       "    <tr>\n",
       "      <th>60</th>\n",
       "      <td>Clinical Research</td>\n",
       "      <td>12176.0</td>\n",
       "      <td>12695.0</td>\n",
       "      <td>13870.0</td>\n",
       "      <td>15868.0</td>\n",
       "      <td>17610.0</td>\n",
       "    </tr>\n",
       "    <tr>\n",
       "      <th>114</th>\n",
       "      <td>Genetics</td>\n",
       "      <td>8070.0</td>\n",
       "      <td>8501.0</td>\n",
       "      <td>9105.0</td>\n",
       "      <td>9864.0</td>\n",
       "      <td>10544.0</td>\n",
       "    </tr>\n",
       "    <tr>\n",
       "      <th>225</th>\n",
       "      <td>Prevention</td>\n",
       "      <td>7566.0</td>\n",
       "      <td>8052.0</td>\n",
       "      <td>8757.0</td>\n",
       "      <td>9485.0</td>\n",
       "      <td>10482.0</td>\n",
       "    </tr>\n",
       "    <tr>\n",
       "      <th>188</th>\n",
       "      <td>Neurosciences</td>\n",
       "      <td>6460.0</td>\n",
       "      <td>7317.0</td>\n",
       "      <td>8224.0</td>\n",
       "      <td>9468.0</td>\n",
       "      <td>10122.0</td>\n",
       "    </tr>\n",
       "    <tr>\n",
       "      <th>33</th>\n",
       "      <td>Biotechnology</td>\n",
       "      <td>6433.0</td>\n",
       "      <td>6556.0</td>\n",
       "      <td>6923.0</td>\n",
       "      <td>7219.0</td>\n",
       "      <td>7767.0</td>\n",
       "    </tr>\n",
       "  </tbody>\n",
       "</table>\n",
       "</div>"
      ],
      "text/plain": [
       "      research_category     2016     2017     2018     2019     2020\n",
       "60   Clinical Research   12176.0  12695.0  13870.0  15868.0  17610.0\n",
       "114           Genetics    8070.0   8501.0   9105.0   9864.0  10544.0\n",
       "225         Prevention    7566.0   8052.0   8757.0   9485.0  10482.0\n",
       "188      Neurosciences    6460.0   7317.0   8224.0   9468.0  10122.0\n",
       "33       Biotechnology    6433.0   6556.0   6923.0   7219.0   7767.0"
      ]
     },
     "execution_count": 14,
     "metadata": {},
     "output_type": "execute_result"
    }
   ],
   "source": [
    "# Adjust the dataframes for the different top 5 category \n",
    "data_recent['total'] = data_recent['2016']+data_recent['2017']+data_recent['2018']+data_recent['2019']+data_recent['2020']\n",
    "datatop5 = data_recent.sort_values(\"total\", ascending=False)[:5]\n",
    "datatop5 = datatop5[[\"research_category\", \"2016\", \"2017\", \"2018\", \"2019\", \"2020\"]]\n",
    "datatop5"
   ]
  },
  {
   "cell_type": "code",
   "execution_count": 15,
   "id": "1e6ca078-67e8-4ea7-b406-dbbb09bd2916",
   "metadata": {},
   "outputs": [
    {
     "data": {
      "text/html": [
       "<div>\n",
       "<style scoped>\n",
       "    .dataframe tbody tr th:only-of-type {\n",
       "        vertical-align: middle;\n",
       "    }\n",
       "\n",
       "    .dataframe tbody tr th {\n",
       "        vertical-align: top;\n",
       "    }\n",
       "\n",
       "    .dataframe thead th {\n",
       "        text-align: right;\n",
       "    }\n",
       "</style>\n",
       "<table border=\"1\" class=\"dataframe\">\n",
       "  <thead>\n",
       "    <tr style=\"text-align: right;\">\n",
       "      <th>research_category</th>\n",
       "      <th>index</th>\n",
       "      <th>Clinical Research</th>\n",
       "      <th>Genetics</th>\n",
       "      <th>Prevention</th>\n",
       "      <th>Neurosciences</th>\n",
       "      <th>Biotechnology</th>\n",
       "    </tr>\n",
       "  </thead>\n",
       "  <tbody>\n",
       "    <tr>\n",
       "      <th>0</th>\n",
       "      <td>2016</td>\n",
       "      <td>12176.0</td>\n",
       "      <td>8070.0</td>\n",
       "      <td>7566.0</td>\n",
       "      <td>6460.0</td>\n",
       "      <td>6433.0</td>\n",
       "    </tr>\n",
       "    <tr>\n",
       "      <th>1</th>\n",
       "      <td>2017</td>\n",
       "      <td>12695.0</td>\n",
       "      <td>8501.0</td>\n",
       "      <td>8052.0</td>\n",
       "      <td>7317.0</td>\n",
       "      <td>6556.0</td>\n",
       "    </tr>\n",
       "    <tr>\n",
       "      <th>2</th>\n",
       "      <td>2018</td>\n",
       "      <td>13870.0</td>\n",
       "      <td>9105.0</td>\n",
       "      <td>8757.0</td>\n",
       "      <td>8224.0</td>\n",
       "      <td>6923.0</td>\n",
       "    </tr>\n",
       "    <tr>\n",
       "      <th>3</th>\n",
       "      <td>2019</td>\n",
       "      <td>15868.0</td>\n",
       "      <td>9864.0</td>\n",
       "      <td>9485.0</td>\n",
       "      <td>9468.0</td>\n",
       "      <td>7219.0</td>\n",
       "    </tr>\n",
       "    <tr>\n",
       "      <th>4</th>\n",
       "      <td>2020</td>\n",
       "      <td>17610.0</td>\n",
       "      <td>10544.0</td>\n",
       "      <td>10482.0</td>\n",
       "      <td>10122.0</td>\n",
       "      <td>7767.0</td>\n",
       "    </tr>\n",
       "  </tbody>\n",
       "</table>\n",
       "</div>"
      ],
      "text/plain": [
       "research_category  index  Clinical Research   Genetics   Prevention   \\\n",
       "0                   2016             12176.0     8070.0       7566.0   \n",
       "1                   2017             12695.0     8501.0       8052.0   \n",
       "2                   2018             13870.0     9105.0       8757.0   \n",
       "3                   2019             15868.0     9864.0       9485.0   \n",
       "4                   2020             17610.0    10544.0      10482.0   \n",
       "\n",
       "research_category  Neurosciences   Biotechnology   \n",
       "0                          6460.0          6433.0  \n",
       "1                          7317.0          6556.0  \n",
       "2                          8224.0          6923.0  \n",
       "3                          9468.0          7219.0  \n",
       "4                         10122.0          7767.0  "
      ]
     },
     "execution_count": 15,
     "metadata": {},
     "output_type": "execute_result"
    }
   ],
   "source": [
    "# setting the index\n",
    "datatop5 = datatop5.set_index('research_category').transpose().reset_index()\n",
    "datatop5['index'] = (datatop5['index']).astype(int)\n",
    "datatop5"
   ]
  },
  {
   "cell_type": "markdown",
   "id": "e672da5f-31fc-4982-aaec-331a697a98de",
   "metadata": {},
   "source": [
    "We then created a plot of the top 5 funding categories over time."
   ]
  },
  {
   "cell_type": "code",
   "execution_count": 16,
   "id": "44f43259-716c-4297-8c24-09bd18f7197a",
   "metadata": {},
   "outputs": [
    {
     "data": {
      "image/png": "[encoded data removed]",
      "text/plain": [
       "<Figure size 432x288 with 1 Axes>"
      ]
     },
     "metadata": {
      "needs_background": "light"
     },
     "output_type": "display_data"
    }
   ],
   "source": [
    "#Plotting the top 5 spending categories over time\n",
    "plt.plot(\"index\", 'Clinical Research ', data = datatop5, label = \"Clinical Research\");\n",
    "plt.plot(\"index\", 'Genetics ', data = datatop5, label = \"Genetics\");\n",
    "plt.plot(\"index\", 'Prevention ', data = datatop5, label = \"Prevention\");\n",
    "plt.plot(\"index\", 'Neurosciences ', data = datatop5, label = \"Neurosciences\");\n",
    "plt.plot(\"index\", 'Biotechnology ', data = datatop5, label = \"Biotechnology\");\n",
    "plt.xticks(np.arange(2016, 2020+1, 1.0));\n",
    "plt.xlabel(\"Year\");\n",
    "plt.ylabel(\"Funding (Millions $)\");\n",
    "plt.legend();\n",
    "plt.title(\"Top 5 Funding Categories Over Time\");\n",
    "\n",
    "# Saving file under figures file\n",
    "plt.savefig('figures/fig2.png')"
   ]
  },
  {
   "cell_type": "markdown",
   "id": "b7a2ab4e-07bb-4b5e-a960-f0de95ffa9f0",
   "metadata": {},
   "source": [
    "From the plot above, we observed that the spending increased gradually over time. Clinical research had more spending compared to the other four categories. Note that here we did not include inflation. This could be the main reason why spending was increasing over time. To further study the trend, we might need to account for inflation in future analyses."
   ]
  },
  {
   "cell_type": "markdown",
   "id": "53160bab-6db7-4c2c-9c64-d145703fa36d",
   "metadata": {},
   "source": [
    "#### *3. Relationship Between Spending and Mortality*"
   ]
  },
  {
   "cell_type": "markdown",
   "id": "b594ab22-7cb4-4f28-a993-1a3182b98daf",
   "metadata": {
    "tags": []
   },
   "source": [
    "Next our team, decided to look into the relationship between funding and mortality. We used data from 2019, as this was the year that both funding and US mortality rates were included in the dataset. We hypothesized that perhaps diseases or categories with higher mortality rates would have more funding. This led us to another insightful question: Is there a relationship between funding amounts, funding categories and mortality rates? We used cleaned data from 2019 and removed rows where there was no mortality data available (i.e. broad research areas like clinical research)."
   ]
  },
  {
   "cell_type": "code",
   "execution_count": 17,
   "id": "8dbc4d6f-2b91-4c9b-a72e-41ec5d9d6189",
   "metadata": {},
   "outputs": [],
   "source": [
    "# Use pandas again to read data from the hdf5 file to the pandas DataFrame\n",
    "df2019 = pd.read_hdf(h5File4, \"/data/cleaned_data\")\n",
    "\n",
    "# select only the sample with no missing values for mortality or funding level\n",
    "df2019 = df2019.dropna()"
   ]
  },
  {
   "cell_type": "markdown",
   "id": "adeaf7dc-7749-4e51-bbf5-000cb9330e66",
   "metadata": {},
   "source": [
    "We then plotted mortality compared to funding in 2019, with a simple linear (OLS) regression. Since there was a high concentration of categories in the lower left corner of the plot, we used plotly to facilitate zooming in on the plot. Hovering over the points shows the funding category. "
   ]
  },
  {
   "cell_type": "code",
   "execution_count": 18,
   "id": "03f437b9-ba35-4846-9c73-21d9b90645d0",
   "metadata": {},
   "outputs": [
    {
     "data": {
      "application/vnd.plotly.v1+json": {
       "config": {
        "linkText": "Export to plot.ly",
        "plotlyServerURL": "https://plot.ly",
        "showLink": false
       },
       "data": [
        {
         "customdata": [
          [
           "Acute Respiratory Distress Syndrome "
          ],
          [
           "Alcoholism, Alcohol Use and Health 1"
          ],
          [
           "Allergic Rhinitis (Hay Fever) "
          ],
          [
           "Alzheimer's Disease "
          ],
          [
           "Anorexia "
          ],
          [
           "Aphasia "
          ],
          [
           "Asthma "
          ],
          [
           "Ataxia Telangiectasia "
          ],
          [
           "Atherosclerosis "
          ],
          [
           "Attention Deficit Disorder (ADD) "
          ],
          [
           "Autism "
          ],
          [
           "Brain Cancer "
          ],
          [
           "Breast Cancer "
          ],
          [
           "Cachexia "
          ],
          [
           "Cancer "
          ],
          [
           "Cardiovascular "
          ],
          [
           "Cerebral Palsy "
          ],
          [
           "Cerebrovascular "
          ],
          [
           "Cervical Cancer "
          ],
          [
           "Chronic Fatigue Syndrome (ME/CFS) "
          ],
          [
           "Chronic Liver Disease and Cirrhosis "
          ],
          [
           "Chronic Obstructive Pulmonary Disease "
          ],
          [
           "Colo-Rectal Cancer "
          ],
          [
           "Crohn's Disease "
          ],
          [
           "Cystic Fibrosis "
          ],
          [
           "Depression "
          ],
          [
           "Diabetes 4"
          ],
          [
           "Digestive Diseases - (Gallbladder) "
          ],
          [
           "Digestive Diseases - (Peptic Ulcer) "
          ],
          [
           "Down Syndrome "
          ],
          [
           "Dystonia "
          ],
          [
           "Eating Disorders 6"
          ],
          [
           "Emphysema "
          ],
          [
           "Endometriosis "
          ],
          [
           "Epilepsy "
          ],
          [
           "Fetal Alcohol Syndrome "
          ],
          [
           "Fibroid Tumors (Uterine) "
          ],
          [
           "Fibromyalgia "
          ],
          [
           "Fragile X Syndrome "
          ],
          [
           "Frontotemporal Dementia (FTD) "
          ],
          [
           "Heart Disease "
          ],
          [
           "Heart Disease - Coronary Heart Disease "
          ],
          [
           "Hepatitis - A "
          ],
          [
           "Hepatitis - B "
          ],
          [
           "Hepatitis - C "
          ],
          [
           "HIV/AIDS 9"
          ],
          [
           "Hodgkin's Disease "
          ],
          [
           "Huntington's Disease "
          ],
          [
           "Hypertension "
          ],
          [
           "Inflammatory Bowel Disease "
          ],
          [
           "Influenza "
          ],
          [
           "Interstitial Cystitis "
          ],
          [
           "Lead Poisoning "
          ],
          [
           "Liver Cancer "
          ],
          [
           "Liver Disease "
          ],
          [
           "Lung Cancer "
          ],
          [
           "Lupus "
          ],
          [
           "Lyme Disease "
          ],
          [
           "Lymphoma "
          ],
          [
           "Macular Degeneration "
          ],
          [
           "Malaria "
          ],
          [
           "Mucopolysaccharidoses (MPS) "
          ],
          [
           "Multiple Sclerosis "
          ],
          [
           "Muscular Dystrophy "
          ],
          [
           "Myasthenia Gravis "
          ],
          [
           "Neonatal Respiratory Distress 20"
          ],
          [
           "Neurofibromatosis "
          ],
          [
           "Obesity "
          ],
          [
           "Opioid Misuse and Addiction 26"
          ],
          [
           "Osteogenesis Imperfecta "
          ],
          [
           "Osteoporosis "
          ],
          [
           "Otitis Media "
          ],
          [
           "Ovarian Cancer "
          ],
          [
           "Paget's Disease "
          ],
          [
           "Pancreatic Cancer "
          ],
          [
           "Parkinson's Disease "
          ],
          [
           "Pelvic Inflammatory Disease "
          ],
          [
           "Perinatal Period - Conditions Originating in Perinatal Period "
          ],
          [
           "Pneumonia "
          ],
          [
           "Pneumonia & Influenza "
          ],
          [
           "Polycystic Kidney Disease "
          ],
          [
           "Post-Traumatic Stress Disorder (PTSD) "
          ],
          [
           "Preterm, Low Birth Weight and Health of the Newborn 21"
          ],
          [
           "Prostate Cancer "
          ],
          [
           "Psoriasis "
          ],
          [
           "Rett Syndrome "
          ],
          [
           "Rheumatoid Arthritis "
          ],
          [
           "Schizophrenia "
          ],
          [
           "Scleroderma "
          ],
          [
           "Sepsis 15"
          ],
          [
           "Sickle Cell Disease "
          ],
          [
           "Spina Bifida "
          ],
          [
           "Spinal Cord Injury "
          ],
          [
           "Spinal Muscular Atrophy "
          ],
          [
           "Stroke "
          ],
          [
           "Sudden Infant Death Syndrome "
          ],
          [
           "Suicide "
          ],
          [
           "Temporomandibular Muscle/Joint Disorder (TMJD) "
          ],
          [
           "Tourette Syndrome "
          ],
          [
           "Transmissible Spongiform Encephalopathy (TSE) "
          ],
          [
           "Tuberculosis "
          ],
          [
           "Tuberous Sclerosis "
          ],
          [
           "Uterine Cancer "
          ],
          [
           "West Nile Virus "
          ]
         ],
         "hovertemplate": "Funding Amount (Millions)=%{x}<br>Total Mortality (2019)=%{y}<br>Research Category=%{customdata[0]}<extra></extra>",
         "legendgroup": "",
         "marker": {
          "color": "#636efa",
          "symbol": "circle"
         },
         "mode": "markers",
         "name": "",
         "orientation": "v",
         "showlegend": false,
         "type": "scatter",
         "x": [
          126,
          556,
          7,
          2240,
          11,
          43,
          313,
          8,
          400,
          64,
          290,
          359,
          709,
          19,
          6520,
          2394,
          28,
          759,
          106,
          15,
          351,
          112,
          294,
          76,
          82,
          578,
          1099,
          16,
          8,
          86,
          18,
          44,
          27,
          13,
          188,
          34,
          17,
          13,
          37,
          158,
          1443,
          421,
          3,
          67,
          150,
          3037,
          12,
          48,
          266,
          163,
          384,
          11,
          11,
          127,
          851,
          419,
          121,
          32,
          248,
          124,
          196,
          8,
          111,
          83,
          5,
          79,
          36,
          1109,
          811,
          12,
          151,
          13,
          168,
          2,
          219,
          224,
          5,
          784,
          146,
          521,
          31,
          138,
          374,
          263,
          16,
          15,
          94,
          263,
          24,
          137,
          139,
          16,
          103,
          13,
          350,
          11,
          117,
          17,
          11,
          34,
          488,
          25,
          36,
          24
         ],
         "xaxis": "x",
         "y": [
          10482,
          87566,
          98,
          146659,
          124,
          2477,
          10753,
          14,
          28625,
          85,
          362,
          17862,
          52938,
          10313,
          690509,
          1574518,
          3822,
          256352,
          4687,
          16,
          76761,
          312688,
          61368,
          2182,
          451,
          18054,
          283378,
          6626,
          7114,
          2249,
          241,
          217,
          17786,
          40,
          7711,
          19,
          100,
          592,
          38,
          2300,
          1592187,
          542903,
          225,
          1672,
          14242,
          7150,
          1446,
          1367,
          516955,
          3646,
          7611,
          39,
          2,
          30898,
          154284,
          150790,
          3554,
          96,
          27075,
          718,
          9,
          73,
          6497,
          1208,
          2000,
          791,
          360,
          47466,
          68126,
          85,
          7252,
          91,
          14620,
          131,
          48250,
          52359,
          366,
          13712,
          140661,
          148272,
          801,
          1993,
          4854,
          44395,
          572,
          85,
          9211,
          4624,
          8,
          201142,
          975,
          408,
          1410,
          117,
          214334,
          1277,
          47612,
          1,
          20,
          658,
          982,
          59,
          13036,
          90
         ],
         "yaxis": "y"
        },
        {
         "hovertemplate": "<b>OLS trendline</b><br>2019_US_Mortality_19 = 160.163 * 2019 + 23827.6<br>R<sup>2</sup>=0.270612<br><br>Funding Amount (Millions)=%{x}<br>Total Mortality (2019)=%{y} <b>(trend)</b><extra></extra>",
         "legendgroup": "",
         "marker": {
          "color": "#636efa",
          "symbol": "circle"
         },
         "mode": "lines",
         "name": "",
         "showlegend": false,
         "type": "scatter",
         "x": [
          2,
          3,
          5,
          5,
          7,
          8,
          8,
          8,
          11,
          11,
          11,
          11,
          11,
          12,
          12,
          13,
          13,
          13,
          13,
          15,
          15,
          16,
          16,
          16,
          17,
          17,
          18,
          19,
          24,
          24,
          25,
          27,
          28,
          31,
          32,
          34,
          34,
          36,
          36,
          37,
          43,
          44,
          48,
          64,
          67,
          76,
          79,
          82,
          83,
          86,
          94,
          103,
          106,
          111,
          112,
          117,
          121,
          124,
          126,
          127,
          137,
          138,
          139,
          146,
          150,
          151,
          158,
          163,
          168,
          188,
          196,
          219,
          224,
          248,
          263,
          263,
          266,
          290,
          294,
          313,
          350,
          351,
          359,
          374,
          384,
          400,
          419,
          421,
          488,
          521,
          556,
          578,
          709,
          759,
          784,
          811,
          851,
          1099,
          1109,
          1443,
          2240,
          2394,
          3037,
          6520
         ],
         "xaxis": "x",
         "y": [
          24147.97331540325,
          24308.136359310894,
          24628.46244712618,
          24628.46244712618,
          24948.78853494147,
          25108.95157884911,
          25108.95157884911,
          25108.95157884911,
          25589.440710572042,
          25589.440710572042,
          25589.440710572042,
          25589.440710572042,
          25589.440710572042,
          25749.603754479685,
          25749.603754479685,
          25909.76679838733,
          25909.76679838733,
          25909.76679838733,
          25909.76679838733,
          26230.092886202616,
          26230.092886202616,
          26390.25593011026,
          26390.25593011026,
          26390.25593011026,
          26550.418974017903,
          26550.418974017903,
          26710.582017925546,
          26870.745061833193,
          27671.560281371407,
          27671.560281371407,
          27831.723325279054,
          28152.04941309434,
          28312.212457001984,
          28792.701588724914,
          28952.864632632558,
          29273.190720447845,
          29273.190720447845,
          29593.51680826313,
          29593.51680826313,
          29753.679852170775,
          30714.658115616636,
          30874.82115952428,
          31515.473335154853,
          34078.08203767715,
          34558.57116940008,
          36000.03856456887,
          36480.5276962918,
          36961.01682801473,
          37121.17987192237,
          37601.66900364531,
          38882.973354906455,
          40324.44075007524,
          40804.929881798176,
          41605.7451013364,
          41765.908145244044,
          42566.72336478226,
          43207.37554041283,
          43687.864672135765,
          44008.190759951045,
          44168.35380385869,
          45769.98424293513,
          45930.147286842766,
          46090.31033075041,
          47211.451638103914,
          47852.103813734495,
          48012.26685764214,
          49133.40816499564,
          49934.22338453386,
          50735.03860407208,
          53938.299482224946,
          55219.60383348609,
          58903.353843361896,
          59704.16906290012,
          63548.08211668356,
          65950.52777529822,
          65950.52777529822,
          66431.01690702114,
          70274.92996080458,
          70915.58213643516,
          73958.67997068039,
          79884.7125952632,
          80044.87563917084,
          81326.17999043199,
          83728.62564904665,
          85330.25608812307,
          87892.86479064537,
          90935.9626248906,
          91256.2887127059,
          101987.212654518,
          107272.59310347024,
          112878.29964023776,
          116401.88660620592,
          137383.2453581072,
          145391.3975534894,
          149395.4736511805,
          153719.87583668687,
          160126.3975929926,
          199846.8324820882,
          201448.46292116464,
          254942.91958631758,
          382592.8655807094,
          407257.9743424866,
          510242.81157510134,
          1068090.6935054238
         ],
         "yaxis": "y"
        }
       ],
       "layout": {
        "height": 600,
        "legend": {
         "tracegroupgap": 0
        },
        "margin": {
         "t": 60
        },
        "template": {
         "data": {
          "bar": [
           {
            "error_x": {
             "color": "#2a3f5f"
            },
            "error_y": {
             "color": "#2a3f5f"
            },
            "marker": {
             "line": {
              "color": "#E5ECF6",
              "width": 0.5
             },
             "pattern": {
              "fillmode": "overlay",
              "size": 10,
              "solidity": 0.2
             }
            },
            "type": "bar"
           }
          ],
          "barpolar": [
           {
            "marker": {
             "line": {
              "color": "#E5ECF6",
              "width": 0.5
             },
             "pattern": {
              "fillmode": "overlay",
              "size": 10,
              "solidity": 0.2
             }
            },
            "type": "barpolar"
           }
          ],
          "carpet": [
           {
            "aaxis": {
             "endlinecolor": "#2a3f5f",
             "gridcolor": "white",
             "linecolor": "white",
             "minorgridcolor": "white",
             "startlinecolor": "#2a3f5f"
            },
            "baxis": {
             "endlinecolor": "#2a3f5f",
             "gridcolor": "white",
             "linecolor": "white",
             "minorgridcolor": "white",
             "startlinecolor": "#2a3f5f"
            },
            "type": "carpet"
           }
          ],
          "choropleth": [
           {
            "colorbar": {
             "outlinewidth": 0,
             "ticks": ""
            },
            "type": "choropleth"
           }
          ],
          "contour": [
           {
            "colorbar": {
             "outlinewidth": 0,
             "ticks": ""
            },
            "colorscale": [
             [
              0,
              "#0d0887"
             ],
             [
              0.1111111111111111,
              "#46039f"
             ],
             [
              0.2222222222222222,
              "#7201a8"
             ],
             [
              0.3333333333333333,
              "#9c179e"
             ],
             [
              0.4444444444444444,
              "#bd3786"
             ],
             [
              0.5555555555555556,
              "#d8576b"
             ],
             [
              0.6666666666666666,
              "#ed7953"
             ],
             [
              0.7777777777777778,
              "#fb9f3a"
             ],
             [
              0.8888888888888888,
              "#fdca26"
             ],
             [
              1,
              "#f0f921"
             ]
            ],
            "type": "contour"
           }
          ],
          "contourcarpet": [
           {
            "colorbar": {
             "outlinewidth": 0,
             "ticks": ""
            },
            "type": "contourcarpet"
           }
          ],
          "heatmap": [
           {
            "colorbar": {
             "outlinewidth": 0,
             "ticks": ""
            },
            "colorscale": [
             [
              0,
              "#0d0887"
             ],
             [
              0.1111111111111111,
              "#46039f"
             ],
             [
              0.2222222222222222,
              "#7201a8"
             ],
             [
              0.3333333333333333,
              "#9c179e"
             ],
             [
              0.4444444444444444,
              "#bd3786"
             ],
             [
              0.5555555555555556,
              "#d8576b"
             ],
             [
              0.6666666666666666,
              "#ed7953"
             ],
             [
              0.7777777777777778,
              "#fb9f3a"
             ],
             [
              0.8888888888888888,
              "#fdca26"
             ],
             [
              1,
              "#f0f921"
             ]
            ],
            "type": "heatmap"
           }
          ],
          "heatmapgl": [
           {
            "colorbar": {
             "outlinewidth": 0,
             "ticks": ""
            },
            "colorscale": [
             [
              0,
              "#0d0887"
             ],
             [
              0.1111111111111111,
              "#46039f"
             ],
             [
              0.2222222222222222,
              "#7201a8"
             ],
             [
              0.3333333333333333,
              "#9c179e"
             ],
             [
              0.4444444444444444,
              "#bd3786"
             ],
             [
              0.5555555555555556,
              "#d8576b"
             ],
             [
              0.6666666666666666,
              "#ed7953"
             ],
             [
              0.7777777777777778,
              "#fb9f3a"
             ],
             [
              0.8888888888888888,
              "#fdca26"
             ],
             [
              1,
              "#f0f921"
             ]
            ],
            "type": "heatmapgl"
           }
          ],
          "histogram": [
           {
            "marker": {
             "pattern": {
              "fillmode": "overlay",
              "size": 10,
              "solidity": 0.2
             }
            },
            "type": "histogram"
           }
          ],
          "histogram2d": [
           {
            "colorbar": {
             "outlinewidth": 0,
             "ticks": ""
            },
            "colorscale": [
             [
              0,
              "#0d0887"
             ],
             [
              0.1111111111111111,
              "#46039f"
             ],
             [
              0.2222222222222222,
              "#7201a8"
             ],
             [
              0.3333333333333333,
              "#9c179e"
             ],
             [
              0.4444444444444444,
              "#bd3786"
             ],
             [
              0.5555555555555556,
              "#d8576b"
             ],
             [
              0.6666666666666666,
              "#ed7953"
             ],
             [
              0.7777777777777778,
              "#fb9f3a"
             ],
             [
              0.8888888888888888,
              "#fdca26"
             ],
             [
              1,
              "#f0f921"
             ]
            ],
            "type": "histogram2d"
           }
          ],
          "histogram2dcontour": [
           {
            "colorbar": {
             "outlinewidth": 0,
             "ticks": ""
            },
            "colorscale": [
             [
              0,
              "#0d0887"
             ],
             [
              0.1111111111111111,
              "#46039f"
             ],
             [
              0.2222222222222222,
              "#7201a8"
             ],
             [
              0.3333333333333333,
              "#9c179e"
             ],
             [
              0.4444444444444444,
              "#bd3786"
             ],
             [
              0.5555555555555556,
              "#d8576b"
             ],
             [
              0.6666666666666666,
              "#ed7953"
             ],
             [
              0.7777777777777778,
              "#fb9f3a"
             ],
             [
              0.8888888888888888,
              "#fdca26"
             ],
             [
              1,
              "#f0f921"
             ]
            ],
            "type": "histogram2dcontour"
           }
          ],
          "mesh3d": [
           {
            "colorbar": {
             "outlinewidth": 0,
             "ticks": ""
            },
            "type": "mesh3d"
           }
          ],
          "parcoords": [
           {
            "line": {
             "colorbar": {
              "outlinewidth": 0,
              "ticks": ""
             }
            },
            "type": "parcoords"
           }
          ],
          "pie": [
           {
            "automargin": true,
            "type": "pie"
           }
          ],
          "scatter": [
           {
            "fillpattern": {
             "fillmode": "overlay",
             "size": 10,
             "solidity": 0.2
            },
            "type": "scatter"
           }
          ],
          "scatter3d": [
           {
            "line": {
             "colorbar": {
              "outlinewidth": 0,
              "ticks": ""
             }
            },
            "marker": {
             "colorbar": {
              "outlinewidth": 0,
              "ticks": ""
             }
            },
            "type": "scatter3d"
           }
          ],
          "scattercarpet": [
           {
            "marker": {
             "colorbar": {
              "outlinewidth": 0,
              "ticks": ""
             }
            },
            "type": "scattercarpet"
           }
          ],
          "scattergeo": [
           {
            "marker": {
             "colorbar": {
              "outlinewidth": 0,
              "ticks": ""
             }
            },
            "type": "scattergeo"
           }
          ],
          "scattergl": [
           {
            "marker": {
             "colorbar": {
              "outlinewidth": 0,
              "ticks": ""
             }
            },
            "type": "scattergl"
           }
          ],
          "scattermapbox": [
           {
            "marker": {
             "colorbar": {
              "outlinewidth": 0,
              "ticks": ""
             }
            },
            "type": "scattermapbox"
           }
          ],
          "scatterpolar": [
           {
            "marker": {
             "colorbar": {
              "outlinewidth": 0,
              "ticks": ""
             }
            },
            "type": "scatterpolar"
           }
          ],
          "scatterpolargl": [
           {
            "marker": {
             "colorbar": {
              "outlinewidth": 0,
              "ticks": ""
             }
            },
            "type": "scatterpolargl"
           }
          ],
          "scatterternary": [
           {
            "marker": {
             "colorbar": {
              "outlinewidth": 0,
              "ticks": ""
             }
            },
            "type": "scatterternary"
           }
          ],
          "surface": [
           {
            "colorbar": {
             "outlinewidth": 0,
             "ticks": ""
            },
            "colorscale": [
             [
              0,
              "#0d0887"
             ],
             [
              0.1111111111111111,
              "#46039f"
             ],
             [
              0.2222222222222222,
              "#7201a8"
             ],
             [
              0.3333333333333333,
              "#9c179e"
             ],
             [
              0.4444444444444444,
              "#bd3786"
             ],
             [
              0.5555555555555556,
              "#d8576b"
             ],
             [
              0.6666666666666666,
              "#ed7953"
             ],
             [
              0.7777777777777778,
              "#fb9f3a"
             ],
             [
              0.8888888888888888,
              "#fdca26"
             ],
             [
              1,
              "#f0f921"
             ]
            ],
            "type": "surface"
           }
          ],
          "table": [
           {
            "cells": {
             "fill": {
              "color": "#EBF0F8"
             },
             "line": {
              "color": "white"
             }
            },
            "header": {
             "fill": {
              "color": "#C8D4E3"
             },
             "line": {
              "color": "white"
             }
            },
            "type": "table"
           }
          ]
         },
         "layout": {
          "annotationdefaults": {
           "arrowcolor": "#2a3f5f",
           "arrowhead": 0,
           "arrowwidth": 1
          },
          "autotypenumbers": "strict",
          "coloraxis": {
           "colorbar": {
            "outlinewidth": 0,
            "ticks": ""
           }
          },
          "colorscale": {
           "diverging": [
            [
             0,
             "#8e0152"
            ],
            [
             0.1,
             "#c51b7d"
            ],
            [
             0.2,
             "#de77ae"
            ],
            [
             0.3,
             "#f1b6da"
            ],
            [
             0.4,
             "#fde0ef"
            ],
            [
             0.5,
             "#f7f7f7"
            ],
            [
             0.6,
             "#e6f5d0"
            ],
            [
             0.7,
             "#b8e186"
            ],
            [
             0.8,
             "#7fbc41"
            ],
            [
             0.9,
             "#4d9221"
            ],
            [
             1,
             "#276419"
            ]
           ],
           "sequential": [
            [
             0,
             "#0d0887"
            ],
            [
             0.1111111111111111,
             "#46039f"
            ],
            [
             0.2222222222222222,
             "#7201a8"
            ],
            [
             0.3333333333333333,
             "#9c179e"
            ],
            [
             0.4444444444444444,
             "#bd3786"
            ],
            [
             0.5555555555555556,
             "#d8576b"
            ],
            [
             0.6666666666666666,
             "#ed7953"
            ],
            [
             0.7777777777777778,
             "#fb9f3a"
            ],
            [
             0.8888888888888888,
             "#fdca26"
            ],
            [
             1,
             "#f0f921"
            ]
           ],
           "sequentialminus": [
            [
             0,
             "#0d0887"
            ],
            [
             0.1111111111111111,
             "#46039f"
            ],
            [
             0.2222222222222222,
             "#7201a8"
            ],
            [
             0.3333333333333333,
             "#9c179e"
            ],
            [
             0.4444444444444444,
             "#bd3786"
            ],
            [
             0.5555555555555556,
             "#d8576b"
            ],
            [
             0.6666666666666666,
             "#ed7953"
            ],
            [
             0.7777777777777778,
             "#fb9f3a"
            ],
            [
             0.8888888888888888,
             "#fdca26"
            ],
            [
             1,
             "#f0f921"
            ]
           ]
          },
          "colorway": [
           "#636efa",
           "#EF553B",
           "#00cc96",
           "#ab63fa",
           "#FFA15A",
           "#19d3f3",
           "#FF6692",
           "#B6E880",
           "#FF97FF",
           "#FECB52"
          ],
          "font": {
           "color": "#2a3f5f"
          },
          "geo": {
           "bgcolor": "white",
           "lakecolor": "white",
           "landcolor": "#E5ECF6",
           "showlakes": true,
           "showland": true,
           "subunitcolor": "white"
          },
          "hoverlabel": {
           "align": "left"
          },
          "hovermode": "closest",
          "mapbox": {
           "style": "light"
          },
          "paper_bgcolor": "white",
          "plot_bgcolor": "#E5ECF6",
          "polar": {
           "angularaxis": {
            "gridcolor": "white",
            "linecolor": "white",
            "ticks": ""
           },
           "bgcolor": "#E5ECF6",
           "radialaxis": {
            "gridcolor": "white",
            "linecolor": "white",
            "ticks": ""
           }
          },
          "scene": {
           "xaxis": {
            "backgroundcolor": "#E5ECF6",
            "gridcolor": "white",
            "gridwidth": 2,
            "linecolor": "white",
            "showbackground": true,
            "ticks": "",
            "zerolinecolor": "white"
           },
           "yaxis": {
            "backgroundcolor": "#E5ECF6",
            "gridcolor": "white",
            "gridwidth": 2,
            "linecolor": "white",
            "showbackground": true,
            "ticks": "",
            "zerolinecolor": "white"
           },
           "zaxis": {
            "backgroundcolor": "#E5ECF6",
            "gridcolor": "white",
            "gridwidth": 2,
            "linecolor": "white",
            "showbackground": true,
            "ticks": "",
            "zerolinecolor": "white"
           }
          },
          "shapedefaults": {
           "line": {
            "color": "#2a3f5f"
           }
          },
          "ternary": {
           "aaxis": {
            "gridcolor": "white",
            "linecolor": "white",
            "ticks": ""
           },
           "baxis": {
            "gridcolor": "white",
            "linecolor": "white",
            "ticks": ""
           },
           "bgcolor": "#E5ECF6",
           "caxis": {
            "gridcolor": "white",
            "linecolor": "white",
            "ticks": ""
           }
          },
          "title": {
           "x": 0.05
          },
          "xaxis": {
           "automargin": true,
           "gridcolor": "white",
           "linecolor": "white",
           "ticks": "",
           "title": {
            "standoff": 15
           },
           "zerolinecolor": "white",
           "zerolinewidth": 2
          },
          "yaxis": {
           "automargin": true,
           "gridcolor": "white",
           "linecolor": "white",
           "ticks": "",
           "title": {
            "standoff": 15
           },
           "zerolinecolor": "white",
           "zerolinewidth": 2
          }
         }
        },
        "title": {
         "text": "Comparison of Funding and Mortality Levels (2019)",
         "x": 0.5,
         "xanchor": "center",
         "y": 0.95,
         "yanchor": "top"
        },
        "width": 800,
        "xaxis": {
         "anchor": "y",
         "domain": [
          0,
          1
         ],
         "range": [
          0,
          7000
         ],
         "title": {
          "text": "Funding Amount (Millions)"
         },
         "type": "linear"
        },
        "yaxis": {
         "anchor": "x",
         "autorange": true,
         "domain": [
          0,
          1
         ],
         "range": [
          -104773.84747847478,
          1696961.8474784747
         ],
         "title": {
          "text": "Total Mortality (2019)"
         },
         "type": "linear"
        }
       }
      },
      "image/png": "[encoded data removed]",
      "text/html": [
       "<div>                            <div id=\"d17e4846-4c9d-401d-8439-8033bbf12b68\" class=\"plotly-graph-div\" style=\"height:600px; width:800px;\"></div>            <script type=\"text/javascript\">                require([\"plotly\"], function(Plotly) {                    window.PLOTLYENV=window.PLOTLYENV || {};                                    if (document.getElementById(\"d17e4846-4c9d-401d-8439-8033bbf12b68\")) {                    Plotly.newPlot(                        \"d17e4846-4c9d-401d-8439-8033bbf12b68\",                        [{\"customdata\":[[\"Acute Respiratory Distress Syndrome \"],[\"Alcoholism, Alcohol Use and Health 1\"],[\"Allergic Rhinitis (Hay Fever) \"],[\"Alzheimer's Disease \"],[\"Anorexia \"],[\"Aphasia \"],[\"Asthma \"],[\"Ataxia Telangiectasia \"],[\"Atherosclerosis \"],[\"Attention Deficit Disorder (ADD) \"],[\"Autism \"],[\"Brain Cancer \"],[\"Breast Cancer \"],[\"Cachexia \"],[\"Cancer \"],[\"Cardiovascular \"],[\"Cerebral Palsy \"],[\"Cerebrovascular \"],[\"Cervical Cancer \"],[\"Chronic Fatigue Syndrome (ME/CFS) \"],[\"Chronic Liver Disease and Cirrhosis \"],[\"Chronic Obstructive Pulmonary Disease \"],[\"Colo-Rectal Cancer \"],[\"Crohn's Disease \"],[\"Cystic Fibrosis \"],[\"Depression \"],[\"Diabetes 4\"],[\"Digestive Diseases - (Gallbladder) \"],[\"Digestive Diseases - (Peptic Ulcer) \"],[\"Down Syndrome \"],[\"Dystonia \"],[\"Eating Disorders 6\"],[\"Emphysema \"],[\"Endometriosis \"],[\"Epilepsy \"],[\"Fetal Alcohol Syndrome \"],[\"Fibroid Tumors (Uterine) \"],[\"Fibromyalgia \"],[\"Fragile X Syndrome \"],[\"Frontotemporal Dementia (FTD) \"],[\"Heart Disease \"],[\"Heart Disease - Coronary Heart Disease \"],[\"Hepatitis - A \"],[\"Hepatitis - B \"],[\"Hepatitis - C \"],[\"HIV/AIDS 9\"],[\"Hodgkin's Disease \"],[\"Huntington's Disease \"],[\"Hypertension \"],[\"Inflammatory Bowel Disease \"],[\"Influenza \"],[\"Interstitial Cystitis \"],[\"Lead Poisoning \"],[\"Liver Cancer \"],[\"Liver Disease \"],[\"Lung Cancer \"],[\"Lupus \"],[\"Lyme Disease \"],[\"Lymphoma \"],[\"Macular Degeneration \"],[\"Malaria \"],[\"Mucopolysaccharidoses (MPS) \"],[\"Multiple Sclerosis \"],[\"Muscular Dystrophy \"],[\"Myasthenia Gravis \"],[\"Neonatal Respiratory Distress 20\"],[\"Neurofibromatosis \"],[\"Obesity \"],[\"Opioid Misuse and Addiction 26\"],[\"Osteogenesis Imperfecta \"],[\"Osteoporosis \"],[\"Otitis Media \"],[\"Ovarian Cancer \"],[\"Paget's Disease \"],[\"Pancreatic Cancer \"],[\"Parkinson's Disease \"],[\"Pelvic Inflammatory Disease \"],[\"Perinatal Period - Conditions Originating in Perinatal Period \"],[\"Pneumonia \"],[\"Pneumonia & Influenza \"],[\"Polycystic Kidney Disease \"],[\"Post-Traumatic Stress Disorder (PTSD) \"],[\"Preterm, Low Birth Weight and Health of the Newborn 21\"],[\"Prostate Cancer \"],[\"Psoriasis \"],[\"Rett Syndrome \"],[\"Rheumatoid Arthritis \"],[\"Schizophrenia \"],[\"Scleroderma \"],[\"Sepsis 15\"],[\"Sickle Cell Disease \"],[\"Spina Bifida \"],[\"Spinal Cord Injury \"],[\"Spinal Muscular Atrophy \"],[\"Stroke \"],[\"Sudden Infant Death Syndrome \"],[\"Suicide \"],[\"Temporomandibular Muscle/Joint Disorder (TMJD) \"],[\"Tourette Syndrome \"],[\"Transmissible Spongiform Encephalopathy (TSE) \"],[\"Tuberculosis \"],[\"Tuberous Sclerosis \"],[\"Uterine Cancer \"],[\"West Nile Virus \"]],\"hovertemplate\":\"Funding Amount (Millions)=%{x}<br>Total Mortality (2019)=%{y}<br>Research Category=%{customdata[0]}<extra></extra>\",\"legendgroup\":\"\",\"marker\":{\"color\":\"#636efa\",\"symbol\":\"circle\"},\"mode\":\"markers\",\"name\":\"\",\"orientation\":\"v\",\"showlegend\":false,\"x\":[126.0,556.0,7.0,2240.0,11.0,43.0,313.0,8.0,400.0,64.0,290.0,359.0,709.0,19.0,6520.0,2394.0,28.0,759.0,106.0,15.0,351.0,112.0,294.0,76.0,82.0,578.0,1099.0,16.0,8.0,86.0,18.0,44.0,27.0,13.0,188.0,34.0,17.0,13.0,37.0,158.0,1443.0,421.0,3.0,67.0,150.0,3037.0,12.0,48.0,266.0,163.0,384.0,11.0,11.0,127.0,851.0,419.0,121.0,32.0,248.0,124.0,196.0,8.0,111.0,83.0,5.0,79.0,36.0,1109.0,811.0,12.0,151.0,13.0,168.0,2.0,219.0,224.0,5.0,784.0,146.0,521.0,31.0,138.0,374.0,263.0,16.0,15.0,94.0,263.0,24.0,137.0,139.0,16.0,103.0,13.0,350.0,11.0,117.0,17.0,11.0,34.0,488.0,25.0,36.0,24.0],\"xaxis\":\"x\",\"y\":[10482.0,87566.0,98.0,146659.0,124.0,2477.0,10753.0,14.0,28625.0,85.0,362.0,17862.0,52938.0,10313.0,690509.0,1574518.0,3822.0,256352.0,4687.0,16.0,76761.0,312688.0,61368.0,2182.0,451.0,18054.0,283378.0,6626.0,7114.0,2249.0,241.0,217.0,17786.0,40.0,7711.0,19.0,100.0,592.0,38.0,2300.0,1592187.0,542903.0,225.0,1672.0,14242.0,7150.0,1446.0,1367.0,516955.0,3646.0,7611.0,39.0,2.0,30898.0,154284.0,150790.0,3554.0,96.0,27075.0,718.0,9.0,73.0,6497.0,1208.0,2000.0,791.0,360.0,47466.0,68126.0,85.0,7252.0,91.0,14620.0,131.0,48250.0,52359.0,366.0,13712.0,140661.0,148272.0,801.0,1993.0,4854.0,44395.0,572.0,85.0,9211.0,4624.0,8.0,201142.0,975.0,408.0,1410.0,117.0,214334.0,1277.0,47612.0,1.0,20.0,658.0,982.0,59.0,13036.0,90.0],\"yaxis\":\"y\",\"type\":\"scatter\"},{\"hovertemplate\":\"<b>OLS trendline</b><br>2019_US_Mortality_19 = 160.163 * 2019 + 23827.6<br>R<sup>2</sup>=0.270612<br><br>Funding Amount (Millions)=%{x}<br>Total Mortality (2019)=%{y} <b>(trend)</b><extra></extra>\",\"legendgroup\":\"\",\"marker\":{\"color\":\"#636efa\",\"symbol\":\"circle\"},\"mode\":\"lines\",\"name\":\"\",\"showlegend\":false,\"x\":[2.0,3.0,5.0,5.0,7.0,8.0,8.0,8.0,11.0,11.0,11.0,11.0,11.0,12.0,12.0,13.0,13.0,13.0,13.0,15.0,15.0,16.0,16.0,16.0,17.0,17.0,18.0,19.0,24.0,24.0,25.0,27.0,28.0,31.0,32.0,34.0,34.0,36.0,36.0,37.0,43.0,44.0,48.0,64.0,67.0,76.0,79.0,82.0,83.0,86.0,94.0,103.0,106.0,111.0,112.0,117.0,121.0,124.0,126.0,127.0,137.0,138.0,139.0,146.0,150.0,151.0,158.0,163.0,168.0,188.0,196.0,219.0,224.0,248.0,263.0,263.0,266.0,290.0,294.0,313.0,350.0,351.0,359.0,374.0,384.0,400.0,419.0,421.0,488.0,521.0,556.0,578.0,709.0,759.0,784.0,811.0,851.0,1099.0,1109.0,1443.0,2240.0,2394.0,3037.0,6520.0],\"xaxis\":\"x\",\"y\":[24147.97331540325,24308.136359310894,24628.46244712618,24628.46244712618,24948.78853494147,25108.95157884911,25108.95157884911,25108.95157884911,25589.440710572042,25589.440710572042,25589.440710572042,25589.440710572042,25589.440710572042,25749.603754479685,25749.603754479685,25909.76679838733,25909.76679838733,25909.76679838733,25909.76679838733,26230.092886202616,26230.092886202616,26390.25593011026,26390.25593011026,26390.25593011026,26550.418974017903,26550.418974017903,26710.582017925546,26870.745061833193,27671.560281371407,27671.560281371407,27831.723325279054,28152.04941309434,28312.212457001984,28792.701588724914,28952.864632632558,29273.190720447845,29273.190720447845,29593.51680826313,29593.51680826313,29753.679852170775,30714.658115616636,30874.82115952428,31515.473335154853,34078.08203767715,34558.57116940008,36000.03856456887,36480.5276962918,36961.01682801473,37121.17987192237,37601.66900364531,38882.973354906455,40324.44075007524,40804.929881798176,41605.7451013364,41765.908145244044,42566.72336478226,43207.37554041283,43687.864672135765,44008.190759951045,44168.35380385869,45769.98424293513,45930.147286842766,46090.31033075041,47211.451638103914,47852.103813734495,48012.26685764214,49133.40816499564,49934.22338453386,50735.03860407208,53938.299482224946,55219.60383348609,58903.353843361896,59704.16906290012,63548.08211668356,65950.52777529822,65950.52777529822,66431.01690702114,70274.92996080458,70915.58213643516,73958.67997068039,79884.7125952632,80044.87563917084,81326.17999043199,83728.62564904665,85330.25608812307,87892.86479064537,90935.9626248906,91256.2887127059,101987.212654518,107272.59310347024,112878.29964023776,116401.88660620592,137383.2453581072,145391.3975534894,149395.4736511805,153719.87583668687,160126.3975929926,199846.8324820882,201448.46292116464,254942.91958631758,382592.8655807094,407257.9743424866,510242.81157510134,1068090.6935054238],\"yaxis\":\"y\",\"type\":\"scatter\"}],                        {\"height\":600,\"legend\":{\"tracegroupgap\":0},\"margin\":{\"t\":60},\"template\":{\"data\":{\"barpolar\":[{\"marker\":{\"line\":{\"color\":\"#E5ECF6\",\"width\":0.5},\"pattern\":{\"fillmode\":\"overlay\",\"size\":10,\"solidity\":0.2}},\"type\":\"barpolar\"}],\"bar\":[{\"error_x\":{\"color\":\"#2a3f5f\"},\"error_y\":{\"color\":\"#2a3f5f\"},\"marker\":{\"line\":{\"color\":\"#E5ECF6\",\"width\":0.5},\"pattern\":{\"fillmode\":\"overlay\",\"size\":10,\"solidity\":0.2}},\"type\":\"bar\"}],\"carpet\":[{\"aaxis\":{\"endlinecolor\":\"#2a3f5f\",\"gridcolor\":\"white\",\"linecolor\":\"white\",\"minorgridcolor\":\"white\",\"startlinecolor\":\"#2a3f5f\"},\"baxis\":{\"endlinecolor\":\"#2a3f5f\",\"gridcolor\":\"white\",\"linecolor\":\"white\",\"minorgridcolor\":\"white\",\"startlinecolor\":\"#2a3f5f\"},\"type\":\"carpet\"}],\"choropleth\":[{\"colorbar\":{\"outlinewidth\":0,\"ticks\":\"\"},\"type\":\"choropleth\"}],\"contourcarpet\":[{\"colorbar\":{\"outlinewidth\":0,\"ticks\":\"\"},\"type\":\"contourcarpet\"}],\"contour\":[{\"colorbar\":{\"outlinewidth\":0,\"ticks\":\"\"},\"colorscale\":[[0.0,\"#0d0887\"],[0.1111111111111111,\"#46039f\"],[0.2222222222222222,\"#7201a8\"],[0.3333333333333333,\"#9c179e\"],[0.4444444444444444,\"#bd3786\"],[0.5555555555555556,\"#d8576b\"],[0.6666666666666666,\"#ed7953\"],[0.7777777777777778,\"#fb9f3a\"],[0.8888888888888888,\"#fdca26\"],[1.0,\"#f0f921\"]],\"type\":\"contour\"}],\"heatmapgl\":[{\"colorbar\":{\"outlinewidth\":0,\"ticks\":\"\"},\"colorscale\":[[0.0,\"#0d0887\"],[0.1111111111111111,\"#46039f\"],[0.2222222222222222,\"#7201a8\"],[0.3333333333333333,\"#9c179e\"],[0.4444444444444444,\"#bd3786\"],[0.5555555555555556,\"#d8576b\"],[0.6666666666666666,\"#ed7953\"],[0.7777777777777778,\"#fb9f3a\"],[0.8888888888888888,\"#fdca26\"],[1.0,\"#f0f921\"]],\"type\":\"heatmapgl\"}],\"heatmap\":[{\"colorbar\":{\"outlinewidth\":0,\"ticks\":\"\"},\"colorscale\":[[0.0,\"#0d0887\"],[0.1111111111111111,\"#46039f\"],[0.2222222222222222,\"#7201a8\"],[0.3333333333333333,\"#9c179e\"],[0.4444444444444444,\"#bd3786\"],[0.5555555555555556,\"#d8576b\"],[0.6666666666666666,\"#ed7953\"],[0.7777777777777778,\"#fb9f3a\"],[0.8888888888888888,\"#fdca26\"],[1.0,\"#f0f921\"]],\"type\":\"heatmap\"}],\"histogram2dcontour\":[{\"colorbar\":{\"outlinewidth\":0,\"ticks\":\"\"},\"colorscale\":[[0.0,\"#0d0887\"],[0.1111111111111111,\"#46039f\"],[0.2222222222222222,\"#7201a8\"],[0.3333333333333333,\"#9c179e\"],[0.4444444444444444,\"#bd3786\"],[0.5555555555555556,\"#d8576b\"],[0.6666666666666666,\"#ed7953\"],[0.7777777777777778,\"#fb9f3a\"],[0.8888888888888888,\"#fdca26\"],[1.0,\"#f0f921\"]],\"type\":\"histogram2dcontour\"}],\"histogram2d\":[{\"colorbar\":{\"outlinewidth\":0,\"ticks\":\"\"},\"colorscale\":[[0.0,\"#0d0887\"],[0.1111111111111111,\"#46039f\"],[0.2222222222222222,\"#7201a8\"],[0.3333333333333333,\"#9c179e\"],[0.4444444444444444,\"#bd3786\"],[0.5555555555555556,\"#d8576b\"],[0.6666666666666666,\"#ed7953\"],[0.7777777777777778,\"#fb9f3a\"],[0.8888888888888888,\"#fdca26\"],[1.0,\"#f0f921\"]],\"type\":\"histogram2d\"}],\"histogram\":[{\"marker\":{\"pattern\":{\"fillmode\":\"overlay\",\"size\":10,\"solidity\":0.2}},\"type\":\"histogram\"}],\"mesh3d\":[{\"colorbar\":{\"outlinewidth\":0,\"ticks\":\"\"},\"type\":\"mesh3d\"}],\"parcoords\":[{\"line\":{\"colorbar\":{\"outlinewidth\":0,\"ticks\":\"\"}},\"type\":\"parcoords\"}],\"pie\":[{\"automargin\":true,\"type\":\"pie\"}],\"scatter3d\":[{\"line\":{\"colorbar\":{\"outlinewidth\":0,\"ticks\":\"\"}},\"marker\":{\"colorbar\":{\"outlinewidth\":0,\"ticks\":\"\"}},\"type\":\"scatter3d\"}],\"scattercarpet\":[{\"marker\":{\"colorbar\":{\"outlinewidth\":0,\"ticks\":\"\"}},\"type\":\"scattercarpet\"}],\"scattergeo\":[{\"marker\":{\"colorbar\":{\"outlinewidth\":0,\"ticks\":\"\"}},\"type\":\"scattergeo\"}],\"scattergl\":[{\"marker\":{\"colorbar\":{\"outlinewidth\":0,\"ticks\":\"\"}},\"type\":\"scattergl\"}],\"scattermapbox\":[{\"marker\":{\"colorbar\":{\"outlinewidth\":0,\"ticks\":\"\"}},\"type\":\"scattermapbox\"}],\"scatterpolargl\":[{\"marker\":{\"colorbar\":{\"outlinewidth\":0,\"ticks\":\"\"}},\"type\":\"scatterpolargl\"}],\"scatterpolar\":[{\"marker\":{\"colorbar\":{\"outlinewidth\":0,\"ticks\":\"\"}},\"type\":\"scatterpolar\"}],\"scatter\":[{\"fillpattern\":{\"fillmode\":\"overlay\",\"size\":10,\"solidity\":0.2},\"type\":\"scatter\"}],\"scatterternary\":[{\"marker\":{\"colorbar\":{\"outlinewidth\":0,\"ticks\":\"\"}},\"type\":\"scatterternary\"}],\"surface\":[{\"colorbar\":{\"outlinewidth\":0,\"ticks\":\"\"},\"colorscale\":[[0.0,\"#0d0887\"],[0.1111111111111111,\"#46039f\"],[0.2222222222222222,\"#7201a8\"],[0.3333333333333333,\"#9c179e\"],[0.4444444444444444,\"#bd3786\"],[0.5555555555555556,\"#d8576b\"],[0.6666666666666666,\"#ed7953\"],[0.7777777777777778,\"#fb9f3a\"],[0.8888888888888888,\"#fdca26\"],[1.0,\"#f0f921\"]],\"type\":\"surface\"}],\"table\":[{\"cells\":{\"fill\":{\"color\":\"#EBF0F8\"},\"line\":{\"color\":\"white\"}},\"header\":{\"fill\":{\"color\":\"#C8D4E3\"},\"line\":{\"color\":\"white\"}},\"type\":\"table\"}]},\"layout\":{\"annotationdefaults\":{\"arrowcolor\":\"#2a3f5f\",\"arrowhead\":0,\"arrowwidth\":1},\"autotypenumbers\":\"strict\",\"coloraxis\":{\"colorbar\":{\"outlinewidth\":0,\"ticks\":\"\"}},\"colorscale\":{\"diverging\":[[0,\"#8e0152\"],[0.1,\"#c51b7d\"],[0.2,\"#de77ae\"],[0.3,\"#f1b6da\"],[0.4,\"#fde0ef\"],[0.5,\"#f7f7f7\"],[0.6,\"#e6f5d0\"],[0.7,\"#b8e186\"],[0.8,\"#7fbc41\"],[0.9,\"#4d9221\"],[1,\"#276419\"]],\"sequential\":[[0.0,\"#0d0887\"],[0.1111111111111111,\"#46039f\"],[0.2222222222222222,\"#7201a8\"],[0.3333333333333333,\"#9c179e\"],[0.4444444444444444,\"#bd3786\"],[0.5555555555555556,\"#d8576b\"],[0.6666666666666666,\"#ed7953\"],[0.7777777777777778,\"#fb9f3a\"],[0.8888888888888888,\"#fdca26\"],[1.0,\"#f0f921\"]],\"sequentialminus\":[[0.0,\"#0d0887\"],[0.1111111111111111,\"#46039f\"],[0.2222222222222222,\"#7201a8\"],[0.3333333333333333,\"#9c179e\"],[0.4444444444444444,\"#bd3786\"],[0.5555555555555556,\"#d8576b\"],[0.6666666666666666,\"#ed7953\"],[0.7777777777777778,\"#fb9f3a\"],[0.8888888888888888,\"#fdca26\"],[1.0,\"#f0f921\"]]},\"colorway\":[\"#636efa\",\"#EF553B\",\"#00cc96\",\"#ab63fa\",\"#FFA15A\",\"#19d3f3\",\"#FF6692\",\"#B6E880\",\"#FF97FF\",\"#FECB52\"],\"font\":{\"color\":\"#2a3f5f\"},\"geo\":{\"bgcolor\":\"white\",\"lakecolor\":\"white\",\"landcolor\":\"#E5ECF6\",\"showlakes\":true,\"showland\":true,\"subunitcolor\":\"white\"},\"hoverlabel\":{\"align\":\"left\"},\"hovermode\":\"closest\",\"mapbox\":{\"style\":\"light\"},\"paper_bgcolor\":\"white\",\"plot_bgcolor\":\"#E5ECF6\",\"polar\":{\"angularaxis\":{\"gridcolor\":\"white\",\"linecolor\":\"white\",\"ticks\":\"\"},\"bgcolor\":\"#E5ECF6\",\"radialaxis\":{\"gridcolor\":\"white\",\"linecolor\":\"white\",\"ticks\":\"\"}},\"scene\":{\"xaxis\":{\"backgroundcolor\":\"#E5ECF6\",\"gridcolor\":\"white\",\"gridwidth\":2,\"linecolor\":\"white\",\"showbackground\":true,\"ticks\":\"\",\"zerolinecolor\":\"white\"},\"yaxis\":{\"backgroundcolor\":\"#E5ECF6\",\"gridcolor\":\"white\",\"gridwidth\":2,\"linecolor\":\"white\",\"showbackground\":true,\"ticks\":\"\",\"zerolinecolor\":\"white\"},\"zaxis\":{\"backgroundcolor\":\"#E5ECF6\",\"gridcolor\":\"white\",\"gridwidth\":2,\"linecolor\":\"white\",\"showbackground\":true,\"ticks\":\"\",\"zerolinecolor\":\"white\"}},\"shapedefaults\":{\"line\":{\"color\":\"#2a3f5f\"}},\"ternary\":{\"aaxis\":{\"gridcolor\":\"white\",\"linecolor\":\"white\",\"ticks\":\"\"},\"baxis\":{\"gridcolor\":\"white\",\"linecolor\":\"white\",\"ticks\":\"\"},\"bgcolor\":\"#E5ECF6\",\"caxis\":{\"gridcolor\":\"white\",\"linecolor\":\"white\",\"ticks\":\"\"}},\"title\":{\"x\":0.05},\"xaxis\":{\"automargin\":true,\"gridcolor\":\"white\",\"linecolor\":\"white\",\"ticks\":\"\",\"title\":{\"standoff\":15},\"zerolinecolor\":\"white\",\"zerolinewidth\":2},\"yaxis\":{\"automargin\":true,\"gridcolor\":\"white\",\"linecolor\":\"white\",\"ticks\":\"\",\"title\":{\"standoff\":15},\"zerolinecolor\":\"white\",\"zerolinewidth\":2}}},\"title\":{\"text\":\"Comparison of Funding and Mortality Levels (2019)\",\"x\":0.5,\"xanchor\":\"center\",\"y\":0.95,\"yanchor\":\"top\"},\"width\":800,\"xaxis\":{\"anchor\":\"y\",\"domain\":[0.0,1.0],\"range\":[0,7000],\"title\":{\"text\":\"Funding Amount (Millions)\"}},\"yaxis\":{\"anchor\":\"x\",\"domain\":[0.0,1.0],\"title\":{\"text\":\"Total Mortality (2019)\"}}},                        {\"responsive\": true}                    ).then(function(){\n",
       "                            \n",
       "var gd = document.getElementById('d17e4846-4c9d-401d-8439-8033bbf12b68');\n",
       "var x = new MutationObserver(function (mutations, observer) {{\n",
       "        var display = window.getComputedStyle(gd).display;\n",
       "        if (!display || display === 'none') {{\n",
       "            console.log([gd, 'removed!']);\n",
       "            Plotly.purge(gd);\n",
       "            observer.disconnect();\n",
       "        }}\n",
       "}});\n",
       "\n",
       "// Listen for the removal of the full notebook cells\n",
       "var notebookContainer = gd.closest('#notebook-container');\n",
       "if (notebookContainer) {{\n",
       "    x.observe(notebookContainer, {childList: true});\n",
       "}}\n",
       "\n",
       "// Listen for the clearing of the current output cell\n",
       "var outputEl = gd.closest('.output');\n",
       "if (outputEl) {{\n",
       "    x.observe(outputEl, {childList: true});\n",
       "}}\n",
       "\n",
       "                        })                };                });            </script>        </div>"
      ]
     },
     "metadata": {},
     "output_type": "display_data"
    }
   ],
   "source": [
    "fig3a = px.scatter(df2019, x=\"2019\", y=\"2019_US_Mortality_19\", hover_data=['research_category'], \n",
    "                trendline=\"ols\", \n",
    "                labels={\n",
    "                     \"2019_US_Mortality_19\": \"Total Mortality (2019)\",\n",
    "                     \"research_category\": \"Research Category\",\n",
    "                     \"2019\": \"Funding Amount (Millions)\"\n",
    "                 }, \n",
    "                width=800, height=600)\n",
    "\n",
    "\n",
    "fig3a.update_layout(\n",
    "    title={\n",
    "        'text': \"Comparison of Funding and Mortality Levels (2019)\",\n",
    "        'y':0.95,\n",
    "        'x':0.5,\n",
    "        'xanchor': 'center',\n",
    "        'yanchor': 'top'})\n",
    "\n",
    "fig3a.update_layout(xaxis_range=[0,7000])\n",
    "\n",
    "fig3a.write_image(\"figures/fig3a.png\")\n",
    "\n",
    "#fig3a.show()\n",
    "py.iplot(fig3a, filename='fig3c')\n"
   ]
  },
  {
   "cell_type": "markdown",
   "id": "9ac68809-ccb2-4ca4-abbb-7209424ce3b2",
   "metadata": {},
   "source": [
    "Cardiovascular and heart disease both are outliers with about 1 million more deaths per each of these categories compared to the next highest categories for mortality. Funding is also higher for these categories compared to most others, but not proportionally compared to the high mortality seen. Seperate categories for coronary heart disease and hypertension also have high mortality but lower spendign compared to many other categories. Cancer in an outlier for high spending, with 6,520 million dollars going towards cancer research in 2019. The next highest category for funding is HIV/AIDS, which is 3,037 million per year -- which is disproportionate to the mortality of 7,150 people in 2019. "
   ]
  },
  {
   "cell_type": "markdown",
   "id": "a6744022-bd9d-4d04-b237-b58fc1f10f3f",
   "metadata": {},
   "source": [
    "This made us curious about what the highest and lowest ratios of funding to mortality were - so we calculated this as well. The plots below show this ratio (million spent per US death), for the highest 20 and lowest 20 ratios. One thing to note with this data is that only US mortality is included with this dataset. So for example, the NIH funded about 21.7 million on malaria research per US malaria death in 2019--but the global death toll is much higher and not accounted for here. Future research should incorporate global mortality rates. "
   ]
  },
  {
   "cell_type": "code",
   "execution_count": 19,
   "id": "ec28d9e9-7482-4fb6-8eb3-de69431b0270",
   "metadata": {},
   "outputs": [],
   "source": [
    "# calculate million per death\n",
    "df2019['ratio'] = df2019['2019']/df2019['2019_US_Mortality_19']\n",
    "\n",
    "# sort and select top 20 ratio values\n",
    "df2019_t = df2019.sort_values(\"ratio\", ascending=False)[:20]\n",
    "\n",
    "# sort and select bottom 20 ratio values\n",
    "df2019_b = df2019.sort_values(\"ratio\", ascending=True)[:20]\n"
   ]
  },
  {
   "cell_type": "code",
   "execution_count": 20,
   "id": "83d167b2-88a9-4dd7-b444-98ab74a92ab1",
   "metadata": {},
   "outputs": [
    {
     "data": {
      "application/vnd.plotly.v1+json": {
       "config": {
        "linkText": "Export to plot.ly",
        "plotlyServerURL": "https://plot.ly",
        "showLink": false
       },
       "data": [
        {
         "alignmentgroup": "True",
         "hovertemplate": "Millions in Funding Per US Death=%{x}<br>Research Category=%{y}<extra></extra>",
         "legendgroup": "",
         "marker": {
          "color": "#636efa",
          "pattern": {
           "shape": ""
          }
         },
         "name": "",
         "offsetgroup": "",
         "orientation": "h",
         "showlegend": false,
         "textposition": "auto",
         "type": "bar",
         "x": [
          21.77777777777778,
          17,
          5.5,
          3,
          1.7894736842105263,
          0.9736842105263158,
          0.9375,
          0.8011049723756906,
          0.7529411764705882,
          0.5714285714285714,
          0.55,
          0.4969450101832994,
          0.42475524475524473,
          0.423728813559322,
          0.3333333333333333,
          0.325,
          0.28205128205128205,
          0.26666666666666666,
          0.20276497695852536,
          0.18181818181818182
         ],
         "xaxis": "x",
         "y": [
          "Malaria ",
          "Temporomandibular Muscle/Joint Disorder (TMJD) ",
          "Lead Poisoning ",
          "Scleroderma ",
          "Fetal Alcohol Syndrome ",
          "Fragile X Syndrome ",
          "Chronic Fatigue Syndrome (ME/CFS) ",
          "Autism ",
          "Attention Deficit Disorder (ADD) ",
          "Ataxia Telangiectasia ",
          "Tourette Syndrome ",
          "Tuberculosis ",
          "HIV/AIDS 9",
          "Tuberous Sclerosis ",
          "Lyme Disease ",
          "Endometriosis ",
          "Interstitial Cystitis ",
          "West Nile Virus ",
          "Eating Disorders 6",
          "Cystic Fibrosis "
         ],
         "yaxis": "y"
        }
       ],
       "layout": {
        "barmode": "relative",
        "height": 700,
        "legend": {
         "tracegroupgap": 0
        },
        "margin": {
         "t": 60
        },
        "template": {
         "data": {
          "bar": [
           {
            "error_x": {
             "color": "#2a3f5f"
            },
            "error_y": {
             "color": "#2a3f5f"
            },
            "marker": {
             "line": {
              "color": "#E5ECF6",
              "width": 0.5
             },
             "pattern": {
              "fillmode": "overlay",
              "size": 10,
              "solidity": 0.2
             }
            },
            "type": "bar"
           }
          ],
          "barpolar": [
           {
            "marker": {
             "line": {
              "color": "#E5ECF6",
              "width": 0.5
             },
             "pattern": {
              "fillmode": "overlay",
              "size": 10,
              "solidity": 0.2
             }
            },
            "type": "barpolar"
           }
          ],
          "carpet": [
           {
            "aaxis": {
             "endlinecolor": "#2a3f5f",
             "gridcolor": "white",
             "linecolor": "white",
             "minorgridcolor": "white",
             "startlinecolor": "#2a3f5f"
            },
            "baxis": {
             "endlinecolor": "#2a3f5f",
             "gridcolor": "white",
             "linecolor": "white",
             "minorgridcolor": "white",
             "startlinecolor": "#2a3f5f"
            },
            "type": "carpet"
           }
          ],
          "choropleth": [
           {
            "colorbar": {
             "outlinewidth": 0,
             "ticks": ""
            },
            "type": "choropleth"
           }
          ],
          "contour": [
           {
            "colorbar": {
             "outlinewidth": 0,
             "ticks": ""
            },
            "colorscale": [
             [
              0,
              "#0d0887"
             ],
             [
              0.1111111111111111,
              "#46039f"
             ],
             [
              0.2222222222222222,
              "#7201a8"
             ],
             [
              0.3333333333333333,
              "#9c179e"
             ],
             [
              0.4444444444444444,
              "#bd3786"
             ],
             [
              0.5555555555555556,
              "#d8576b"
             ],
             [
              0.6666666666666666,
              "#ed7953"
             ],
             [
              0.7777777777777778,
              "#fb9f3a"
             ],
             [
              0.8888888888888888,
              "#fdca26"
             ],
             [
              1,
              "#f0f921"
             ]
            ],
            "type": "contour"
           }
          ],
          "contourcarpet": [
           {
            "colorbar": {
             "outlinewidth": 0,
             "ticks": ""
            },
            "type": "contourcarpet"
           }
          ],
          "heatmap": [
           {
            "colorbar": {
             "outlinewidth": 0,
             "ticks": ""
            },
            "colorscale": [
             [
              0,
              "#0d0887"
             ],
             [
              0.1111111111111111,
              "#46039f"
             ],
             [
              0.2222222222222222,
              "#7201a8"
             ],
             [
              0.3333333333333333,
              "#9c179e"
             ],
             [
              0.4444444444444444,
              "#bd3786"
             ],
             [
              0.5555555555555556,
              "#d8576b"
             ],
             [
              0.6666666666666666,
              "#ed7953"
             ],
             [
              0.7777777777777778,
              "#fb9f3a"
             ],
             [
              0.8888888888888888,
              "#fdca26"
             ],
             [
              1,
              "#f0f921"
             ]
            ],
            "type": "heatmap"
           }
          ],
          "heatmapgl": [
           {
            "colorbar": {
             "outlinewidth": 0,
             "ticks": ""
            },
            "colorscale": [
             [
              0,
              "#0d0887"
             ],
             [
              0.1111111111111111,
              "#46039f"
             ],
             [
              0.2222222222222222,
              "#7201a8"
             ],
             [
              0.3333333333333333,
              "#9c179e"
             ],
             [
              0.4444444444444444,
              "#bd3786"
             ],
             [
              0.5555555555555556,
              "#d8576b"
             ],
             [
              0.6666666666666666,
              "#ed7953"
             ],
             [
              0.7777777777777778,
              "#fb9f3a"
             ],
             [
              0.8888888888888888,
              "#fdca26"
             ],
             [
              1,
              "#f0f921"
             ]
            ],
            "type": "heatmapgl"
           }
          ],
          "histogram": [
           {
            "marker": {
             "pattern": {
              "fillmode": "overlay",
              "size": 10,
              "solidity": 0.2
             }
            },
            "type": "histogram"
           }
          ],
          "histogram2d": [
           {
            "colorbar": {
             "outlinewidth": 0,
             "ticks": ""
            },
            "colorscale": [
             [
              0,
              "#0d0887"
             ],
             [
              0.1111111111111111,
              "#46039f"
             ],
             [
              0.2222222222222222,
              "#7201a8"
             ],
             [
              0.3333333333333333,
              "#9c179e"
             ],
             [
              0.4444444444444444,
              "#bd3786"
             ],
             [
              0.5555555555555556,
              "#d8576b"
             ],
             [
              0.6666666666666666,
              "#ed7953"
             ],
             [
              0.7777777777777778,
              "#fb9f3a"
             ],
             [
              0.8888888888888888,
              "#fdca26"
             ],
             [
              1,
              "#f0f921"
             ]
            ],
            "type": "histogram2d"
           }
          ],
          "histogram2dcontour": [
           {
            "colorbar": {
             "outlinewidth": 0,
             "ticks": ""
            },
            "colorscale": [
             [
              0,
              "#0d0887"
             ],
             [
              0.1111111111111111,
              "#46039f"
             ],
             [
              0.2222222222222222,
              "#7201a8"
             ],
             [
              0.3333333333333333,
              "#9c179e"
             ],
             [
              0.4444444444444444,
              "#bd3786"
             ],
             [
              0.5555555555555556,
              "#d8576b"
             ],
             [
              0.6666666666666666,
              "#ed7953"
             ],
             [
              0.7777777777777778,
              "#fb9f3a"
             ],
             [
              0.8888888888888888,
              "#fdca26"
             ],
             [
              1,
              "#f0f921"
             ]
            ],
            "type": "histogram2dcontour"
           }
          ],
          "mesh3d": [
           {
            "colorbar": {
             "outlinewidth": 0,
             "ticks": ""
            },
            "type": "mesh3d"
           }
          ],
          "parcoords": [
           {
            "line": {
             "colorbar": {
              "outlinewidth": 0,
              "ticks": ""
             }
            },
            "type": "parcoords"
           }
          ],
          "pie": [
           {
            "automargin": true,
            "type": "pie"
           }
          ],
          "scatter": [
           {
            "fillpattern": {
             "fillmode": "overlay",
             "size": 10,
             "solidity": 0.2
            },
            "type": "scatter"
           }
          ],
          "scatter3d": [
           {
            "line": {
             "colorbar": {
              "outlinewidth": 0,
              "ticks": ""
             }
            },
            "marker": {
             "colorbar": {
              "outlinewidth": 0,
              "ticks": ""
             }
            },
            "type": "scatter3d"
           }
          ],
          "scattercarpet": [
           {
            "marker": {
             "colorbar": {
              "outlinewidth": 0,
              "ticks": ""
             }
            },
            "type": "scattercarpet"
           }
          ],
          "scattergeo": [
           {
            "marker": {
             "colorbar": {
              "outlinewidth": 0,
              "ticks": ""
             }
            },
            "type": "scattergeo"
           }
          ],
          "scattergl": [
           {
            "marker": {
             "colorbar": {
              "outlinewidth": 0,
              "ticks": ""
             }
            },
            "type": "scattergl"
           }
          ],
          "scattermapbox": [
           {
            "marker": {
             "colorbar": {
              "outlinewidth": 0,
              "ticks": ""
             }
            },
            "type": "scattermapbox"
           }
          ],
          "scatterpolar": [
           {
            "marker": {
             "colorbar": {
              "outlinewidth": 0,
              "ticks": ""
             }
            },
            "type": "scatterpolar"
           }
          ],
          "scatterpolargl": [
           {
            "marker": {
             "colorbar": {
              "outlinewidth": 0,
              "ticks": ""
             }
            },
            "type": "scatterpolargl"
           }
          ],
          "scatterternary": [
           {
            "marker": {
             "colorbar": {
              "outlinewidth": 0,
              "ticks": ""
             }
            },
            "type": "scatterternary"
           }
          ],
          "surface": [
           {
            "colorbar": {
             "outlinewidth": 0,
             "ticks": ""
            },
            "colorscale": [
             [
              0,
              "#0d0887"
             ],
             [
              0.1111111111111111,
              "#46039f"
             ],
             [
              0.2222222222222222,
              "#7201a8"
             ],
             [
              0.3333333333333333,
              "#9c179e"
             ],
             [
              0.4444444444444444,
              "#bd3786"
             ],
             [
              0.5555555555555556,
              "#d8576b"
             ],
             [
              0.6666666666666666,
              "#ed7953"
             ],
             [
              0.7777777777777778,
              "#fb9f3a"
             ],
             [
              0.8888888888888888,
              "#fdca26"
             ],
             [
              1,
              "#f0f921"
             ]
            ],
            "type": "surface"
           }
          ],
          "table": [
           {
            "cells": {
             "fill": {
              "color": "#EBF0F8"
             },
             "line": {
              "color": "white"
             }
            },
            "header": {
             "fill": {
              "color": "#C8D4E3"
             },
             "line": {
              "color": "white"
             }
            },
            "type": "table"
           }
          ]
         },
         "layout": {
          "annotationdefaults": {
           "arrowcolor": "#2a3f5f",
           "arrowhead": 0,
           "arrowwidth": 1
          },
          "autotypenumbers": "strict",
          "coloraxis": {
           "colorbar": {
            "outlinewidth": 0,
            "ticks": ""
           }
          },
          "colorscale": {
           "diverging": [
            [
             0,
             "#8e0152"
            ],
            [
             0.1,
             "#c51b7d"
            ],
            [
             0.2,
             "#de77ae"
            ],
            [
             0.3,
             "#f1b6da"
            ],
            [
             0.4,
             "#fde0ef"
            ],
            [
             0.5,
             "#f7f7f7"
            ],
            [
             0.6,
             "#e6f5d0"
            ],
            [
             0.7,
             "#b8e186"
            ],
            [
             0.8,
             "#7fbc41"
            ],
            [
             0.9,
             "#4d9221"
            ],
            [
             1,
             "#276419"
            ]
           ],
           "sequential": [
            [
             0,
             "#0d0887"
            ],
            [
             0.1111111111111111,
             "#46039f"
            ],
            [
             0.2222222222222222,
             "#7201a8"
            ],
            [
             0.3333333333333333,
             "#9c179e"
            ],
            [
             0.4444444444444444,
             "#bd3786"
            ],
            [
             0.5555555555555556,
             "#d8576b"
            ],
            [
             0.6666666666666666,
             "#ed7953"
            ],
            [
             0.7777777777777778,
             "#fb9f3a"
            ],
            [
             0.8888888888888888,
             "#fdca26"
            ],
            [
             1,
             "#f0f921"
            ]
           ],
           "sequentialminus": [
            [
             0,
             "#0d0887"
            ],
            [
             0.1111111111111111,
             "#46039f"
            ],
            [
             0.2222222222222222,
             "#7201a8"
            ],
            [
             0.3333333333333333,
             "#9c179e"
            ],
            [
             0.4444444444444444,
             "#bd3786"
            ],
            [
             0.5555555555555556,
             "#d8576b"
            ],
            [
             0.6666666666666666,
             "#ed7953"
            ],
            [
             0.7777777777777778,
             "#fb9f3a"
            ],
            [
             0.8888888888888888,
             "#fdca26"
            ],
            [
             1,
             "#f0f921"
            ]
           ]
          },
          "colorway": [
           "#636efa",
           "#EF553B",
           "#00cc96",
           "#ab63fa",
           "#FFA15A",
           "#19d3f3",
           "#FF6692",
           "#B6E880",
           "#FF97FF",
           "#FECB52"
          ],
          "font": {
           "color": "#2a3f5f"
          },
          "geo": {
           "bgcolor": "white",
           "lakecolor": "white",
           "landcolor": "#E5ECF6",
           "showlakes": true,
           "showland": true,
           "subunitcolor": "white"
          },
          "hoverlabel": {
           "align": "left"
          },
          "hovermode": "closest",
          "mapbox": {
           "style": "light"
          },
          "paper_bgcolor": "white",
          "plot_bgcolor": "#E5ECF6",
          "polar": {
           "angularaxis": {
            "gridcolor": "white",
            "linecolor": "white",
            "ticks": ""
           },
           "bgcolor": "#E5ECF6",
           "radialaxis": {
            "gridcolor": "white",
            "linecolor": "white",
            "ticks": ""
           }
          },
          "scene": {
           "xaxis": {
            "backgroundcolor": "#E5ECF6",
            "gridcolor": "white",
            "gridwidth": 2,
            "linecolor": "white",
            "showbackground": true,
            "ticks": "",
            "zerolinecolor": "white"
           },
           "yaxis": {
            "backgroundcolor": "#E5ECF6",
            "gridcolor": "white",
            "gridwidth": 2,
            "linecolor": "white",
            "showbackground": true,
            "ticks": "",
            "zerolinecolor": "white"
           },
           "zaxis": {
            "backgroundcolor": "#E5ECF6",
            "gridcolor": "white",
            "gridwidth": 2,
            "linecolor": "white",
            "showbackground": true,
            "ticks": "",
            "zerolinecolor": "white"
           }
          },
          "shapedefaults": {
           "line": {
            "color": "#2a3f5f"
           }
          },
          "ternary": {
           "aaxis": {
            "gridcolor": "white",
            "linecolor": "white",
            "ticks": ""
           },
           "baxis": {
            "gridcolor": "white",
            "linecolor": "white",
            "ticks": ""
           },
           "bgcolor": "#E5ECF6",
           "caxis": {
            "gridcolor": "white",
            "linecolor": "white",
            "ticks": ""
           }
          },
          "title": {
           "x": 0.05
          },
          "xaxis": {
           "automargin": true,
           "gridcolor": "white",
           "linecolor": "white",
           "ticks": "",
           "title": {
            "standoff": 15
           },
           "zerolinecolor": "white",
           "zerolinewidth": 2
          },
          "yaxis": {
           "automargin": true,
           "gridcolor": "white",
           "linecolor": "white",
           "ticks": "",
           "title": {
            "standoff": 15
           },
           "zerolinecolor": "white",
           "zerolinewidth": 2
          }
         }
        },
        "title": {
         "text": "Ratio of Funding to Mortality (Highest 20)",
         "x": 0.5,
         "xanchor": "center",
         "y": 0.95,
         "yanchor": "top"
        },
        "width": 800,
        "xaxis": {
         "anchor": "y",
         "autorange": true,
         "domain": [
          0,
          1
         ],
         "range": [
          0,
          22.923976608187136
         ],
         "title": {
          "text": "Millions in Funding Per US Death"
         },
         "type": "linear"
        },
        "yaxis": {
         "anchor": "x",
         "autorange": true,
         "domain": [
          0,
          1
         ],
         "range": [
          -0.5,
          19.5
         ],
         "title": {
          "text": "Research Category"
         },
         "type": "category"
        }
       }
      },
      "image/png": "[encoded data removed]",
      "text/html": [
       "<div>                            <div id=\"cfa578e3-f70a-4a28-bea4-3a55533eaa23\" class=\"plotly-graph-div\" style=\"height:700px; width:800px;\"></div>            <script type=\"text/javascript\">                require([\"plotly\"], function(Plotly) {                    window.PLOTLYENV=window.PLOTLYENV || {};                                    if (document.getElementById(\"cfa578e3-f70a-4a28-bea4-3a55533eaa23\")) {                    Plotly.newPlot(                        \"cfa578e3-f70a-4a28-bea4-3a55533eaa23\",                        [{\"alignmentgroup\":\"True\",\"hovertemplate\":\"Millions in Funding Per US Death=%{x}<br>Research Category=%{y}<extra></extra>\",\"legendgroup\":\"\",\"marker\":{\"color\":\"#636efa\",\"pattern\":{\"shape\":\"\"}},\"name\":\"\",\"offsetgroup\":\"\",\"orientation\":\"h\",\"showlegend\":false,\"textposition\":\"auto\",\"x\":[21.77777777777778,17.0,5.5,3.0,1.7894736842105263,0.9736842105263158,0.9375,0.8011049723756906,0.7529411764705882,0.5714285714285714,0.55,0.4969450101832994,0.42475524475524473,0.423728813559322,0.3333333333333333,0.325,0.28205128205128205,0.26666666666666666,0.20276497695852536,0.18181818181818182],\"xaxis\":\"x\",\"y\":[\"Malaria \",\"Temporomandibular Muscle/Joint Disorder (TMJD) \",\"Lead Poisoning \",\"Scleroderma \",\"Fetal Alcohol Syndrome \",\"Fragile X Syndrome \",\"Chronic Fatigue Syndrome (ME/CFS) \",\"Autism \",\"Attention Deficit Disorder (ADD) \",\"Ataxia Telangiectasia \",\"Tourette Syndrome \",\"Tuberculosis \",\"HIV/AIDS 9\",\"Tuberous Sclerosis \",\"Lyme Disease \",\"Endometriosis \",\"Interstitial Cystitis \",\"West Nile Virus \",\"Eating Disorders 6\",\"Cystic Fibrosis \"],\"yaxis\":\"y\",\"type\":\"bar\"}],                        {\"barmode\":\"relative\",\"height\":700,\"legend\":{\"tracegroupgap\":0},\"margin\":{\"t\":60},\"template\":{\"data\":{\"barpolar\":[{\"marker\":{\"line\":{\"color\":\"#E5ECF6\",\"width\":0.5},\"pattern\":{\"fillmode\":\"overlay\",\"size\":10,\"solidity\":0.2}},\"type\":\"barpolar\"}],\"bar\":[{\"error_x\":{\"color\":\"#2a3f5f\"},\"error_y\":{\"color\":\"#2a3f5f\"},\"marker\":{\"line\":{\"color\":\"#E5ECF6\",\"width\":0.5},\"pattern\":{\"fillmode\":\"overlay\",\"size\":10,\"solidity\":0.2}},\"type\":\"bar\"}],\"carpet\":[{\"aaxis\":{\"endlinecolor\":\"#2a3f5f\",\"gridcolor\":\"white\",\"linecolor\":\"white\",\"minorgridcolor\":\"white\",\"startlinecolor\":\"#2a3f5f\"},\"baxis\":{\"endlinecolor\":\"#2a3f5f\",\"gridcolor\":\"white\",\"linecolor\":\"white\",\"minorgridcolor\":\"white\",\"startlinecolor\":\"#2a3f5f\"},\"type\":\"carpet\"}],\"choropleth\":[{\"colorbar\":{\"outlinewidth\":0,\"ticks\":\"\"},\"type\":\"choropleth\"}],\"contourcarpet\":[{\"colorbar\":{\"outlinewidth\":0,\"ticks\":\"\"},\"type\":\"contourcarpet\"}],\"contour\":[{\"colorbar\":{\"outlinewidth\":0,\"ticks\":\"\"},\"colorscale\":[[0.0,\"#0d0887\"],[0.1111111111111111,\"#46039f\"],[0.2222222222222222,\"#7201a8\"],[0.3333333333333333,\"#9c179e\"],[0.4444444444444444,\"#bd3786\"],[0.5555555555555556,\"#d8576b\"],[0.6666666666666666,\"#ed7953\"],[0.7777777777777778,\"#fb9f3a\"],[0.8888888888888888,\"#fdca26\"],[1.0,\"#f0f921\"]],\"type\":\"contour\"}],\"heatmapgl\":[{\"colorbar\":{\"outlinewidth\":0,\"ticks\":\"\"},\"colorscale\":[[0.0,\"#0d0887\"],[0.1111111111111111,\"#46039f\"],[0.2222222222222222,\"#7201a8\"],[0.3333333333333333,\"#9c179e\"],[0.4444444444444444,\"#bd3786\"],[0.5555555555555556,\"#d8576b\"],[0.6666666666666666,\"#ed7953\"],[0.7777777777777778,\"#fb9f3a\"],[0.8888888888888888,\"#fdca26\"],[1.0,\"#f0f921\"]],\"type\":\"heatmapgl\"}],\"heatmap\":[{\"colorbar\":{\"outlinewidth\":0,\"ticks\":\"\"},\"colorscale\":[[0.0,\"#0d0887\"],[0.1111111111111111,\"#46039f\"],[0.2222222222222222,\"#7201a8\"],[0.3333333333333333,\"#9c179e\"],[0.4444444444444444,\"#bd3786\"],[0.5555555555555556,\"#d8576b\"],[0.6666666666666666,\"#ed7953\"],[0.7777777777777778,\"#fb9f3a\"],[0.8888888888888888,\"#fdca26\"],[1.0,\"#f0f921\"]],\"type\":\"heatmap\"}],\"histogram2dcontour\":[{\"colorbar\":{\"outlinewidth\":0,\"ticks\":\"\"},\"colorscale\":[[0.0,\"#0d0887\"],[0.1111111111111111,\"#46039f\"],[0.2222222222222222,\"#7201a8\"],[0.3333333333333333,\"#9c179e\"],[0.4444444444444444,\"#bd3786\"],[0.5555555555555556,\"#d8576b\"],[0.6666666666666666,\"#ed7953\"],[0.7777777777777778,\"#fb9f3a\"],[0.8888888888888888,\"#fdca26\"],[1.0,\"#f0f921\"]],\"type\":\"histogram2dcontour\"}],\"histogram2d\":[{\"colorbar\":{\"outlinewidth\":0,\"ticks\":\"\"},\"colorscale\":[[0.0,\"#0d0887\"],[0.1111111111111111,\"#46039f\"],[0.2222222222222222,\"#7201a8\"],[0.3333333333333333,\"#9c179e\"],[0.4444444444444444,\"#bd3786\"],[0.5555555555555556,\"#d8576b\"],[0.6666666666666666,\"#ed7953\"],[0.7777777777777778,\"#fb9f3a\"],[0.8888888888888888,\"#fdca26\"],[1.0,\"#f0f921\"]],\"type\":\"histogram2d\"}],\"histogram\":[{\"marker\":{\"pattern\":{\"fillmode\":\"overlay\",\"size\":10,\"solidity\":0.2}},\"type\":\"histogram\"}],\"mesh3d\":[{\"colorbar\":{\"outlinewidth\":0,\"ticks\":\"\"},\"type\":\"mesh3d\"}],\"parcoords\":[{\"line\":{\"colorbar\":{\"outlinewidth\":0,\"ticks\":\"\"}},\"type\":\"parcoords\"}],\"pie\":[{\"automargin\":true,\"type\":\"pie\"}],\"scatter3d\":[{\"line\":{\"colorbar\":{\"outlinewidth\":0,\"ticks\":\"\"}},\"marker\":{\"colorbar\":{\"outlinewidth\":0,\"ticks\":\"\"}},\"type\":\"scatter3d\"}],\"scattercarpet\":[{\"marker\":{\"colorbar\":{\"outlinewidth\":0,\"ticks\":\"\"}},\"type\":\"scattercarpet\"}],\"scattergeo\":[{\"marker\":{\"colorbar\":{\"outlinewidth\":0,\"ticks\":\"\"}},\"type\":\"scattergeo\"}],\"scattergl\":[{\"marker\":{\"colorbar\":{\"outlinewidth\":0,\"ticks\":\"\"}},\"type\":\"scattergl\"}],\"scattermapbox\":[{\"marker\":{\"colorbar\":{\"outlinewidth\":0,\"ticks\":\"\"}},\"type\":\"scattermapbox\"}],\"scatterpolargl\":[{\"marker\":{\"colorbar\":{\"outlinewidth\":0,\"ticks\":\"\"}},\"type\":\"scatterpolargl\"}],\"scatterpolar\":[{\"marker\":{\"colorbar\":{\"outlinewidth\":0,\"ticks\":\"\"}},\"type\":\"scatterpolar\"}],\"scatter\":[{\"fillpattern\":{\"fillmode\":\"overlay\",\"size\":10,\"solidity\":0.2},\"type\":\"scatter\"}],\"scatterternary\":[{\"marker\":{\"colorbar\":{\"outlinewidth\":0,\"ticks\":\"\"}},\"type\":\"scatterternary\"}],\"surface\":[{\"colorbar\":{\"outlinewidth\":0,\"ticks\":\"\"},\"colorscale\":[[0.0,\"#0d0887\"],[0.1111111111111111,\"#46039f\"],[0.2222222222222222,\"#7201a8\"],[0.3333333333333333,\"#9c179e\"],[0.4444444444444444,\"#bd3786\"],[0.5555555555555556,\"#d8576b\"],[0.6666666666666666,\"#ed7953\"],[0.7777777777777778,\"#fb9f3a\"],[0.8888888888888888,\"#fdca26\"],[1.0,\"#f0f921\"]],\"type\":\"surface\"}],\"table\":[{\"cells\":{\"fill\":{\"color\":\"#EBF0F8\"},\"line\":{\"color\":\"white\"}},\"header\":{\"fill\":{\"color\":\"#C8D4E3\"},\"line\":{\"color\":\"white\"}},\"type\":\"table\"}]},\"layout\":{\"annotationdefaults\":{\"arrowcolor\":\"#2a3f5f\",\"arrowhead\":0,\"arrowwidth\":1},\"autotypenumbers\":\"strict\",\"coloraxis\":{\"colorbar\":{\"outlinewidth\":0,\"ticks\":\"\"}},\"colorscale\":{\"diverging\":[[0,\"#8e0152\"],[0.1,\"#c51b7d\"],[0.2,\"#de77ae\"],[0.3,\"#f1b6da\"],[0.4,\"#fde0ef\"],[0.5,\"#f7f7f7\"],[0.6,\"#e6f5d0\"],[0.7,\"#b8e186\"],[0.8,\"#7fbc41\"],[0.9,\"#4d9221\"],[1,\"#276419\"]],\"sequential\":[[0.0,\"#0d0887\"],[0.1111111111111111,\"#46039f\"],[0.2222222222222222,\"#7201a8\"],[0.3333333333333333,\"#9c179e\"],[0.4444444444444444,\"#bd3786\"],[0.5555555555555556,\"#d8576b\"],[0.6666666666666666,\"#ed7953\"],[0.7777777777777778,\"#fb9f3a\"],[0.8888888888888888,\"#fdca26\"],[1.0,\"#f0f921\"]],\"sequentialminus\":[[0.0,\"#0d0887\"],[0.1111111111111111,\"#46039f\"],[0.2222222222222222,\"#7201a8\"],[0.3333333333333333,\"#9c179e\"],[0.4444444444444444,\"#bd3786\"],[0.5555555555555556,\"#d8576b\"],[0.6666666666666666,\"#ed7953\"],[0.7777777777777778,\"#fb9f3a\"],[0.8888888888888888,\"#fdca26\"],[1.0,\"#f0f921\"]]},\"colorway\":[\"#636efa\",\"#EF553B\",\"#00cc96\",\"#ab63fa\",\"#FFA15A\",\"#19d3f3\",\"#FF6692\",\"#B6E880\",\"#FF97FF\",\"#FECB52\"],\"font\":{\"color\":\"#2a3f5f\"},\"geo\":{\"bgcolor\":\"white\",\"lakecolor\":\"white\",\"landcolor\":\"#E5ECF6\",\"showlakes\":true,\"showland\":true,\"subunitcolor\":\"white\"},\"hoverlabel\":{\"align\":\"left\"},\"hovermode\":\"closest\",\"mapbox\":{\"style\":\"light\"},\"paper_bgcolor\":\"white\",\"plot_bgcolor\":\"#E5ECF6\",\"polar\":{\"angularaxis\":{\"gridcolor\":\"white\",\"linecolor\":\"white\",\"ticks\":\"\"},\"bgcolor\":\"#E5ECF6\",\"radialaxis\":{\"gridcolor\":\"white\",\"linecolor\":\"white\",\"ticks\":\"\"}},\"scene\":{\"xaxis\":{\"backgroundcolor\":\"#E5ECF6\",\"gridcolor\":\"white\",\"gridwidth\":2,\"linecolor\":\"white\",\"showbackground\":true,\"ticks\":\"\",\"zerolinecolor\":\"white\"},\"yaxis\":{\"backgroundcolor\":\"#E5ECF6\",\"gridcolor\":\"white\",\"gridwidth\":2,\"linecolor\":\"white\",\"showbackground\":true,\"ticks\":\"\",\"zerolinecolor\":\"white\"},\"zaxis\":{\"backgroundcolor\":\"#E5ECF6\",\"gridcolor\":\"white\",\"gridwidth\":2,\"linecolor\":\"white\",\"showbackground\":true,\"ticks\":\"\",\"zerolinecolor\":\"white\"}},\"shapedefaults\":{\"line\":{\"color\":\"#2a3f5f\"}},\"ternary\":{\"aaxis\":{\"gridcolor\":\"white\",\"linecolor\":\"white\",\"ticks\":\"\"},\"baxis\":{\"gridcolor\":\"white\",\"linecolor\":\"white\",\"ticks\":\"\"},\"bgcolor\":\"#E5ECF6\",\"caxis\":{\"gridcolor\":\"white\",\"linecolor\":\"white\",\"ticks\":\"\"}},\"title\":{\"x\":0.05},\"xaxis\":{\"automargin\":true,\"gridcolor\":\"white\",\"linecolor\":\"white\",\"ticks\":\"\",\"title\":{\"standoff\":15},\"zerolinecolor\":\"white\",\"zerolinewidth\":2},\"yaxis\":{\"automargin\":true,\"gridcolor\":\"white\",\"linecolor\":\"white\",\"ticks\":\"\",\"title\":{\"standoff\":15},\"zerolinecolor\":\"white\",\"zerolinewidth\":2}}},\"title\":{\"text\":\"Ratio of Funding to Mortality (Highest 20)\",\"x\":0.5,\"xanchor\":\"center\",\"y\":0.95,\"yanchor\":\"top\"},\"width\":800,\"xaxis\":{\"anchor\":\"y\",\"domain\":[0.0,1.0],\"title\":{\"text\":\"Millions in Funding Per US Death\"}},\"yaxis\":{\"anchor\":\"x\",\"domain\":[0.0,1.0],\"title\":{\"text\":\"Research Category\"}}},                        {\"responsive\": true}                    ).then(function(){\n",
       "                            \n",
       "var gd = document.getElementById('cfa578e3-f70a-4a28-bea4-3a55533eaa23');\n",
       "var x = new MutationObserver(function (mutations, observer) {{\n",
       "        var display = window.getComputedStyle(gd).display;\n",
       "        if (!display || display === 'none') {{\n",
       "            console.log([gd, 'removed!']);\n",
       "            Plotly.purge(gd);\n",
       "            observer.disconnect();\n",
       "        }}\n",
       "}});\n",
       "\n",
       "// Listen for the removal of the full notebook cells\n",
       "var notebookContainer = gd.closest('#notebook-container');\n",
       "if (notebookContainer) {{\n",
       "    x.observe(notebookContainer, {childList: true});\n",
       "}}\n",
       "\n",
       "// Listen for the clearing of the current output cell\n",
       "var outputEl = gd.closest('.output');\n",
       "if (outputEl) {{\n",
       "    x.observe(outputEl, {childList: true});\n",
       "}}\n",
       "\n",
       "                        })                };                });            </script>        </div>"
      ]
     },
     "metadata": {},
     "output_type": "display_data"
    }
   ],
   "source": [
    "#Creating figure b\n",
    "fig3b = px.bar(df2019_t, x='ratio', y='research_category', \n",
    "              width=800, height=700, \n",
    "             labels={\n",
    "                     \"ratio\": \"Millions in Funding Per US Death\",\n",
    "                     \"research_category\": \"Research Category\"\n",
    "                 })\n",
    "\n",
    "fig3b.update_layout(\n",
    "    title={\n",
    "        'text': \"Ratio of Funding to Mortality (Highest 20)\",\n",
    "        'y':0.95,\n",
    "        'x':0.5,\n",
    "        'xanchor': 'center',\n",
    "        'yanchor': 'top'})\n",
    "\n",
    "fig3b.write_image(\"figures/fig3b.png\")\n",
    "\n",
    "#fig3b.show()\n",
    "py.iplot(fig3b, filename='fig3b')\n"
   ]
  },
  {
   "cell_type": "code",
   "execution_count": 21,
   "id": "2e96f6ab-ad2f-49a3-b124-831b11848c5c",
   "metadata": {},
   "outputs": [
    {
     "data": {
      "application/vnd.plotly.v1+json": {
       "config": {
        "linkText": "Export to plot.ly",
        "plotlyServerURL": "https://plot.ly",
        "showLink": false
       },
       "data": [
        {
         "alignmentgroup": "True",
         "hovertemplate": "Millions in Funding Per US Death=%{x}<br>Research Category=%{y}<extra></extra>",
         "legendgroup": "",
         "marker": {
          "color": "#636efa",
          "pattern": {
           "shape": ""
          }
         },
         "name": "",
         "offsetgroup": "",
         "orientation": "h",
         "showlegend": false,
         "textposition": "auto",
         "type": "bar",
         "x": [
          0.0003581845161950571,
          0.0005145515567118995,
          0.000681110857006493,
          0.0007754608097579126,
          0.0009063005790149022,
          0.0010379565053568508,
          0.001124543154343548,
          0.0015180479028449342,
          0.0015204653106538001,
          0.001632965371802887,
          0.0018423349170949288,
          0.0024147298520977964,
          0.0024573636898260944,
          0.0025,
          0.0027615833077631177,
          0.0027786988527090657,
          0.0029607726875546126,
          0.003513812452789468,
          0.0038782121406742936,
          0.004110298401191015
         ],
         "xaxis": "x",
         "y": [
          "Chronic Obstructive Pulmonary Disease ",
          "Hypertension ",
          "Sepsis 15",
          "Heart Disease - Coronary Heart Disease ",
          "Heart Disease ",
          "Pneumonia ",
          "Digestive Diseases - (Peptic Ulcer) ",
          "Emphysema ",
          "Cardiovascular ",
          "Stroke ",
          "Cachexia ",
          "Digestive Diseases - (Gallbladder) ",
          "Suicide ",
          "Myasthenia Gravis ",
          "Uterine Cancer ",
          "Lung Cancer ",
          "Cerebrovascular ",
          "Pneumonia & Influenza ",
          "Diabetes 4",
          "Liver Cancer "
         ],
         "yaxis": "y"
        }
       ],
       "layout": {
        "barmode": "relative",
        "height": 700,
        "legend": {
         "tracegroupgap": 0
        },
        "margin": {
         "t": 60
        },
        "template": {
         "data": {
          "bar": [
           {
            "error_x": {
             "color": "#2a3f5f"
            },
            "error_y": {
             "color": "#2a3f5f"
            },
            "marker": {
             "line": {
              "color": "#E5ECF6",
              "width": 0.5
             },
             "pattern": {
              "fillmode": "overlay",
              "size": 10,
              "solidity": 0.2
             }
            },
            "type": "bar"
           }
          ],
          "barpolar": [
           {
            "marker": {
             "line": {
              "color": "#E5ECF6",
              "width": 0.5
             },
             "pattern": {
              "fillmode": "overlay",
              "size": 10,
              "solidity": 0.2
             }
            },
            "type": "barpolar"
           }
          ],
          "carpet": [
           {
            "aaxis": {
             "endlinecolor": "#2a3f5f",
             "gridcolor": "white",
             "linecolor": "white",
             "minorgridcolor": "white",
             "startlinecolor": "#2a3f5f"
            },
            "baxis": {
             "endlinecolor": "#2a3f5f",
             "gridcolor": "white",
             "linecolor": "white",
             "minorgridcolor": "white",
             "startlinecolor": "#2a3f5f"
            },
            "type": "carpet"
           }
          ],
          "choropleth": [
           {
            "colorbar": {
             "outlinewidth": 0,
             "ticks": ""
            },
            "type": "choropleth"
           }
          ],
          "contour": [
           {
            "colorbar": {
             "outlinewidth": 0,
             "ticks": ""
            },
            "colorscale": [
             [
              0,
              "#0d0887"
             ],
             [
              0.1111111111111111,
              "#46039f"
             ],
             [
              0.2222222222222222,
              "#7201a8"
             ],
             [
              0.3333333333333333,
              "#9c179e"
             ],
             [
              0.4444444444444444,
              "#bd3786"
             ],
             [
              0.5555555555555556,
              "#d8576b"
             ],
             [
              0.6666666666666666,
              "#ed7953"
             ],
             [
              0.7777777777777778,
              "#fb9f3a"
             ],
             [
              0.8888888888888888,
              "#fdca26"
             ],
             [
              1,
              "#f0f921"
             ]
            ],
            "type": "contour"
           }
          ],
          "contourcarpet": [
           {
            "colorbar": {
             "outlinewidth": 0,
             "ticks": ""
            },
            "type": "contourcarpet"
           }
          ],
          "heatmap": [
           {
            "colorbar": {
             "outlinewidth": 0,
             "ticks": ""
            },
            "colorscale": [
             [
              0,
              "#0d0887"
             ],
             [
              0.1111111111111111,
              "#46039f"
             ],
             [
              0.2222222222222222,
              "#7201a8"
             ],
             [
              0.3333333333333333,
              "#9c179e"
             ],
             [
              0.4444444444444444,
              "#bd3786"
             ],
             [
              0.5555555555555556,
              "#d8576b"
             ],
             [
              0.6666666666666666,
              "#ed7953"
             ],
             [
              0.7777777777777778,
              "#fb9f3a"
             ],
             [
              0.8888888888888888,
              "#fdca26"
             ],
             [
              1,
              "#f0f921"
             ]
            ],
            "type": "heatmap"
           }
          ],
          "heatmapgl": [
           {
            "colorbar": {
             "outlinewidth": 0,
             "ticks": ""
            },
            "colorscale": [
             [
              0,
              "#0d0887"
             ],
             [
              0.1111111111111111,
              "#46039f"
             ],
             [
              0.2222222222222222,
              "#7201a8"
             ],
             [
              0.3333333333333333,
              "#9c179e"
             ],
             [
              0.4444444444444444,
              "#bd3786"
             ],
             [
              0.5555555555555556,
              "#d8576b"
             ],
             [
              0.6666666666666666,
              "#ed7953"
             ],
             [
              0.7777777777777778,
              "#fb9f3a"
             ],
             [
              0.8888888888888888,
              "#fdca26"
             ],
             [
              1,
              "#f0f921"
             ]
            ],
            "type": "heatmapgl"
           }
          ],
          "histogram": [
           {
            "marker": {
             "pattern": {
              "fillmode": "overlay",
              "size": 10,
              "solidity": 0.2
             }
            },
            "type": "histogram"
           }
          ],
          "histogram2d": [
           {
            "colorbar": {
             "outlinewidth": 0,
             "ticks": ""
            },
            "colorscale": [
             [
              0,
              "#0d0887"
             ],
             [
              0.1111111111111111,
              "#46039f"
             ],
             [
              0.2222222222222222,
              "#7201a8"
             ],
             [
              0.3333333333333333,
              "#9c179e"
             ],
             [
              0.4444444444444444,
              "#bd3786"
             ],
             [
              0.5555555555555556,
              "#d8576b"
             ],
             [
              0.6666666666666666,
              "#ed7953"
             ],
             [
              0.7777777777777778,
              "#fb9f3a"
             ],
             [
              0.8888888888888888,
              "#fdca26"
             ],
             [
              1,
              "#f0f921"
             ]
            ],
            "type": "histogram2d"
           }
          ],
          "histogram2dcontour": [
           {
            "colorbar": {
             "outlinewidth": 0,
             "ticks": ""
            },
            "colorscale": [
             [
              0,
              "#0d0887"
             ],
             [
              0.1111111111111111,
              "#46039f"
             ],
             [
              0.2222222222222222,
              "#7201a8"
             ],
             [
              0.3333333333333333,
              "#9c179e"
             ],
             [
              0.4444444444444444,
              "#bd3786"
             ],
             [
              0.5555555555555556,
              "#d8576b"
             ],
             [
              0.6666666666666666,
              "#ed7953"
             ],
             [
              0.7777777777777778,
              "#fb9f3a"
             ],
             [
              0.8888888888888888,
              "#fdca26"
             ],
             [
              1,
              "#f0f921"
             ]
            ],
            "type": "histogram2dcontour"
           }
          ],
          "mesh3d": [
           {
            "colorbar": {
             "outlinewidth": 0,
             "ticks": ""
            },
            "type": "mesh3d"
           }
          ],
          "parcoords": [
           {
            "line": {
             "colorbar": {
              "outlinewidth": 0,
              "ticks": ""
             }
            },
            "type": "parcoords"
           }
          ],
          "pie": [
           {
            "automargin": true,
            "type": "pie"
           }
          ],
          "scatter": [
           {
            "fillpattern": {
             "fillmode": "overlay",
             "size": 10,
             "solidity": 0.2
            },
            "type": "scatter"
           }
          ],
          "scatter3d": [
           {
            "line": {
             "colorbar": {
              "outlinewidth": 0,
              "ticks": ""
             }
            },
            "marker": {
             "colorbar": {
              "outlinewidth": 0,
              "ticks": ""
             }
            },
            "type": "scatter3d"
           }
          ],
          "scattercarpet": [
           {
            "marker": {
             "colorbar": {
              "outlinewidth": 0,
              "ticks": ""
             }
            },
            "type": "scattercarpet"
           }
          ],
          "scattergeo": [
           {
            "marker": {
             "colorbar": {
              "outlinewidth": 0,
              "ticks": ""
             }
            },
            "type": "scattergeo"
           }
          ],
          "scattergl": [
           {
            "marker": {
             "colorbar": {
              "outlinewidth": 0,
              "ticks": ""
             }
            },
            "type": "scattergl"
           }
          ],
          "scattermapbox": [
           {
            "marker": {
             "colorbar": {
              "outlinewidth": 0,
              "ticks": ""
             }
            },
            "type": "scattermapbox"
           }
          ],
          "scatterpolar": [
           {
            "marker": {
             "colorbar": {
              "outlinewidth": 0,
              "ticks": ""
             }
            },
            "type": "scatterpolar"
           }
          ],
          "scatterpolargl": [
           {
            "marker": {
             "colorbar": {
              "outlinewidth": 0,
              "ticks": ""
             }
            },
            "type": "scatterpolargl"
           }
          ],
          "scatterternary": [
           {
            "marker": {
             "colorbar": {
              "outlinewidth": 0,
              "ticks": ""
             }
            },
            "type": "scatterternary"
           }
          ],
          "surface": [
           {
            "colorbar": {
             "outlinewidth": 0,
             "ticks": ""
            },
            "colorscale": [
             [
              0,
              "#0d0887"
             ],
             [
              0.1111111111111111,
              "#46039f"
             ],
             [
              0.2222222222222222,
              "#7201a8"
             ],
             [
              0.3333333333333333,
              "#9c179e"
             ],
             [
              0.4444444444444444,
              "#bd3786"
             ],
             [
              0.5555555555555556,
              "#d8576b"
             ],
             [
              0.6666666666666666,
              "#ed7953"
             ],
             [
              0.7777777777777778,
              "#fb9f3a"
             ],
             [
              0.8888888888888888,
              "#fdca26"
             ],
             [
              1,
              "#f0f921"
             ]
            ],
            "type": "surface"
           }
          ],
          "table": [
           {
            "cells": {
             "fill": {
              "color": "#EBF0F8"
             },
             "line": {
              "color": "white"
             }
            },
            "header": {
             "fill": {
              "color": "#C8D4E3"
             },
             "line": {
              "color": "white"
             }
            },
            "type": "table"
           }
          ]
         },
         "layout": {
          "annotationdefaults": {
           "arrowcolor": "#2a3f5f",
           "arrowhead": 0,
           "arrowwidth": 1
          },
          "autotypenumbers": "strict",
          "coloraxis": {
           "colorbar": {
            "outlinewidth": 0,
            "ticks": ""
           }
          },
          "colorscale": {
           "diverging": [
            [
             0,
             "#8e0152"
            ],
            [
             0.1,
             "#c51b7d"
            ],
            [
             0.2,
             "#de77ae"
            ],
            [
             0.3,
             "#f1b6da"
            ],
            [
             0.4,
             "#fde0ef"
            ],
            [
             0.5,
             "#f7f7f7"
            ],
            [
             0.6,
             "#e6f5d0"
            ],
            [
             0.7,
             "#b8e186"
            ],
            [
             0.8,
             "#7fbc41"
            ],
            [
             0.9,
             "#4d9221"
            ],
            [
             1,
             "#276419"
            ]
           ],
           "sequential": [
            [
             0,
             "#0d0887"
            ],
            [
             0.1111111111111111,
             "#46039f"
            ],
            [
             0.2222222222222222,
             "#7201a8"
            ],
            [
             0.3333333333333333,
             "#9c179e"
            ],
            [
             0.4444444444444444,
             "#bd3786"
            ],
            [
             0.5555555555555556,
             "#d8576b"
            ],
            [
             0.6666666666666666,
             "#ed7953"
            ],
            [
             0.7777777777777778,
             "#fb9f3a"
            ],
            [
             0.8888888888888888,
             "#fdca26"
            ],
            [
             1,
             "#f0f921"
            ]
           ],
           "sequentialminus": [
            [
             0,
             "#0d0887"
            ],
            [
             0.1111111111111111,
             "#46039f"
            ],
            [
             0.2222222222222222,
             "#7201a8"
            ],
            [
             0.3333333333333333,
             "#9c179e"
            ],
            [
             0.4444444444444444,
             "#bd3786"
            ],
            [
             0.5555555555555556,
             "#d8576b"
            ],
            [
             0.6666666666666666,
             "#ed7953"
            ],
            [
             0.7777777777777778,
             "#fb9f3a"
            ],
            [
             0.8888888888888888,
             "#fdca26"
            ],
            [
             1,
             "#f0f921"
            ]
           ]
          },
          "colorway": [
           "#636efa",
           "#EF553B",
           "#00cc96",
           "#ab63fa",
           "#FFA15A",
           "#19d3f3",
           "#FF6692",
           "#B6E880",
           "#FF97FF",
           "#FECB52"
          ],
          "font": {
           "color": "#2a3f5f"
          },
          "geo": {
           "bgcolor": "white",
           "lakecolor": "white",
           "landcolor": "#E5ECF6",
           "showlakes": true,
           "showland": true,
           "subunitcolor": "white"
          },
          "hoverlabel": {
           "align": "left"
          },
          "hovermode": "closest",
          "mapbox": {
           "style": "light"
          },
          "paper_bgcolor": "white",
          "plot_bgcolor": "#E5ECF6",
          "polar": {
           "angularaxis": {
            "gridcolor": "white",
            "linecolor": "white",
            "ticks": ""
           },
           "bgcolor": "#E5ECF6",
           "radialaxis": {
            "gridcolor": "white",
            "linecolor": "white",
            "ticks": ""
           }
          },
          "scene": {
           "xaxis": {
            "backgroundcolor": "#E5ECF6",
            "gridcolor": "white",
            "gridwidth": 2,
            "linecolor": "white",
            "showbackground": true,
            "ticks": "",
            "zerolinecolor": "white"
           },
           "yaxis": {
            "backgroundcolor": "#E5ECF6",
            "gridcolor": "white",
            "gridwidth": 2,
            "linecolor": "white",
            "showbackground": true,
            "ticks": "",
            "zerolinecolor": "white"
           },
           "zaxis": {
            "backgroundcolor": "#E5ECF6",
            "gridcolor": "white",
            "gridwidth": 2,
            "linecolor": "white",
            "showbackground": true,
            "ticks": "",
            "zerolinecolor": "white"
           }
          },
          "shapedefaults": {
           "line": {
            "color": "#2a3f5f"
           }
          },
          "ternary": {
           "aaxis": {
            "gridcolor": "white",
            "linecolor": "white",
            "ticks": ""
           },
           "baxis": {
            "gridcolor": "white",
            "linecolor": "white",
            "ticks": ""
           },
           "bgcolor": "#E5ECF6",
           "caxis": {
            "gridcolor": "white",
            "linecolor": "white",
            "ticks": ""
           }
          },
          "title": {
           "x": 0.05
          },
          "xaxis": {
           "automargin": true,
           "gridcolor": "white",
           "linecolor": "white",
           "ticks": "",
           "title": {
            "standoff": 15
           },
           "zerolinecolor": "white",
           "zerolinewidth": 2
          },
          "yaxis": {
           "automargin": true,
           "gridcolor": "white",
           "linecolor": "white",
           "ticks": "",
           "title": {
            "standoff": 15
           },
           "zerolinecolor": "white",
           "zerolinewidth": 2
          }
         }
        },
        "title": {
         "text": "Ratio of Funding to Mortality (Lowest 20)",
         "x": 0.5,
         "xanchor": "center",
         "y": 0.95,
         "yanchor": "top"
        },
        "width": 800,
        "xaxis": {
         "anchor": "y",
         "autorange": true,
         "domain": [
          0,
          1
         ],
         "range": [
          0,
          0.004326629895990542
         ],
         "title": {
          "text": "Millions in Funding Per US Death"
         },
         "type": "linear"
        },
        "yaxis": {
         "anchor": "x",
         "autorange": true,
         "domain": [
          0,
          1
         ],
         "range": [
          -0.5,
          19.5
         ],
         "title": {
          "text": "Research Category"
         },
         "type": "category"
        }
       }
      },
      "image/png": "[encoded data removed]",
      "text/html": [
       "<div>                            <div id=\"103d0398-081f-4be7-bff5-018e8ea080e7\" class=\"plotly-graph-div\" style=\"height:700px; width:800px;\"></div>            <script type=\"text/javascript\">                require([\"plotly\"], function(Plotly) {                    window.PLOTLYENV=window.PLOTLYENV || {};                                    if (document.getElementById(\"103d0398-081f-4be7-bff5-018e8ea080e7\")) {                    Plotly.newPlot(                        \"103d0398-081f-4be7-bff5-018e8ea080e7\",                        [{\"alignmentgroup\":\"True\",\"hovertemplate\":\"Millions in Funding Per US Death=%{x}<br>Research Category=%{y}<extra></extra>\",\"legendgroup\":\"\",\"marker\":{\"color\":\"#636efa\",\"pattern\":{\"shape\":\"\"}},\"name\":\"\",\"offsetgroup\":\"\",\"orientation\":\"h\",\"showlegend\":false,\"textposition\":\"auto\",\"x\":[0.0003581845161950571,0.0005145515567118995,0.000681110857006493,0.0007754608097579126,0.0009063005790149022,0.0010379565053568508,0.001124543154343548,0.0015180479028449342,0.0015204653106538001,0.001632965371802887,0.0018423349170949288,0.0024147298520977964,0.0024573636898260944,0.0025,0.0027615833077631177,0.0027786988527090657,0.0029607726875546126,0.003513812452789468,0.0038782121406742936,0.004110298401191015],\"xaxis\":\"x\",\"y\":[\"Chronic Obstructive Pulmonary Disease \",\"Hypertension \",\"Sepsis 15\",\"Heart Disease - Coronary Heart Disease \",\"Heart Disease \",\"Pneumonia \",\"Digestive Diseases - (Peptic Ulcer) \",\"Emphysema \",\"Cardiovascular \",\"Stroke \",\"Cachexia \",\"Digestive Diseases - (Gallbladder) \",\"Suicide \",\"Myasthenia Gravis \",\"Uterine Cancer \",\"Lung Cancer \",\"Cerebrovascular \",\"Pneumonia & Influenza \",\"Diabetes 4\",\"Liver Cancer \"],\"yaxis\":\"y\",\"type\":\"bar\"}],                        {\"barmode\":\"relative\",\"height\":700,\"legend\":{\"tracegroupgap\":0},\"margin\":{\"t\":60},\"template\":{\"data\":{\"barpolar\":[{\"marker\":{\"line\":{\"color\":\"#E5ECF6\",\"width\":0.5},\"pattern\":{\"fillmode\":\"overlay\",\"size\":10,\"solidity\":0.2}},\"type\":\"barpolar\"}],\"bar\":[{\"error_x\":{\"color\":\"#2a3f5f\"},\"error_y\":{\"color\":\"#2a3f5f\"},\"marker\":{\"line\":{\"color\":\"#E5ECF6\",\"width\":0.5},\"pattern\":{\"fillmode\":\"overlay\",\"size\":10,\"solidity\":0.2}},\"type\":\"bar\"}],\"carpet\":[{\"aaxis\":{\"endlinecolor\":\"#2a3f5f\",\"gridcolor\":\"white\",\"linecolor\":\"white\",\"minorgridcolor\":\"white\",\"startlinecolor\":\"#2a3f5f\"},\"baxis\":{\"endlinecolor\":\"#2a3f5f\",\"gridcolor\":\"white\",\"linecolor\":\"white\",\"minorgridcolor\":\"white\",\"startlinecolor\":\"#2a3f5f\"},\"type\":\"carpet\"}],\"choropleth\":[{\"colorbar\":{\"outlinewidth\":0,\"ticks\":\"\"},\"type\":\"choropleth\"}],\"contourcarpet\":[{\"colorbar\":{\"outlinewidth\":0,\"ticks\":\"\"},\"type\":\"contourcarpet\"}],\"contour\":[{\"colorbar\":{\"outlinewidth\":0,\"ticks\":\"\"},\"colorscale\":[[0.0,\"#0d0887\"],[0.1111111111111111,\"#46039f\"],[0.2222222222222222,\"#7201a8\"],[0.3333333333333333,\"#9c179e\"],[0.4444444444444444,\"#bd3786\"],[0.5555555555555556,\"#d8576b\"],[0.6666666666666666,\"#ed7953\"],[0.7777777777777778,\"#fb9f3a\"],[0.8888888888888888,\"#fdca26\"],[1.0,\"#f0f921\"]],\"type\":\"contour\"}],\"heatmapgl\":[{\"colorbar\":{\"outlinewidth\":0,\"ticks\":\"\"},\"colorscale\":[[0.0,\"#0d0887\"],[0.1111111111111111,\"#46039f\"],[0.2222222222222222,\"#7201a8\"],[0.3333333333333333,\"#9c179e\"],[0.4444444444444444,\"#bd3786\"],[0.5555555555555556,\"#d8576b\"],[0.6666666666666666,\"#ed7953\"],[0.7777777777777778,\"#fb9f3a\"],[0.8888888888888888,\"#fdca26\"],[1.0,\"#f0f921\"]],\"type\":\"heatmapgl\"}],\"heatmap\":[{\"colorbar\":{\"outlinewidth\":0,\"ticks\":\"\"},\"colorscale\":[[0.0,\"#0d0887\"],[0.1111111111111111,\"#46039f\"],[0.2222222222222222,\"#7201a8\"],[0.3333333333333333,\"#9c179e\"],[0.4444444444444444,\"#bd3786\"],[0.5555555555555556,\"#d8576b\"],[0.6666666666666666,\"#ed7953\"],[0.7777777777777778,\"#fb9f3a\"],[0.8888888888888888,\"#fdca26\"],[1.0,\"#f0f921\"]],\"type\":\"heatmap\"}],\"histogram2dcontour\":[{\"colorbar\":{\"outlinewidth\":0,\"ticks\":\"\"},\"colorscale\":[[0.0,\"#0d0887\"],[0.1111111111111111,\"#46039f\"],[0.2222222222222222,\"#7201a8\"],[0.3333333333333333,\"#9c179e\"],[0.4444444444444444,\"#bd3786\"],[0.5555555555555556,\"#d8576b\"],[0.6666666666666666,\"#ed7953\"],[0.7777777777777778,\"#fb9f3a\"],[0.8888888888888888,\"#fdca26\"],[1.0,\"#f0f921\"]],\"type\":\"histogram2dcontour\"}],\"histogram2d\":[{\"colorbar\":{\"outlinewidth\":0,\"ticks\":\"\"},\"colorscale\":[[0.0,\"#0d0887\"],[0.1111111111111111,\"#46039f\"],[0.2222222222222222,\"#7201a8\"],[0.3333333333333333,\"#9c179e\"],[0.4444444444444444,\"#bd3786\"],[0.5555555555555556,\"#d8576b\"],[0.6666666666666666,\"#ed7953\"],[0.7777777777777778,\"#fb9f3a\"],[0.8888888888888888,\"#fdca26\"],[1.0,\"#f0f921\"]],\"type\":\"histogram2d\"}],\"histogram\":[{\"marker\":{\"pattern\":{\"fillmode\":\"overlay\",\"size\":10,\"solidity\":0.2}},\"type\":\"histogram\"}],\"mesh3d\":[{\"colorbar\":{\"outlinewidth\":0,\"ticks\":\"\"},\"type\":\"mesh3d\"}],\"parcoords\":[{\"line\":{\"colorbar\":{\"outlinewidth\":0,\"ticks\":\"\"}},\"type\":\"parcoords\"}],\"pie\":[{\"automargin\":true,\"type\":\"pie\"}],\"scatter3d\":[{\"line\":{\"colorbar\":{\"outlinewidth\":0,\"ticks\":\"\"}},\"marker\":{\"colorbar\":{\"outlinewidth\":0,\"ticks\":\"\"}},\"type\":\"scatter3d\"}],\"scattercarpet\":[{\"marker\":{\"colorbar\":{\"outlinewidth\":0,\"ticks\":\"\"}},\"type\":\"scattercarpet\"}],\"scattergeo\":[{\"marker\":{\"colorbar\":{\"outlinewidth\":0,\"ticks\":\"\"}},\"type\":\"scattergeo\"}],\"scattergl\":[{\"marker\":{\"colorbar\":{\"outlinewidth\":0,\"ticks\":\"\"}},\"type\":\"scattergl\"}],\"scattermapbox\":[{\"marker\":{\"colorbar\":{\"outlinewidth\":0,\"ticks\":\"\"}},\"type\":\"scattermapbox\"}],\"scatterpolargl\":[{\"marker\":{\"colorbar\":{\"outlinewidth\":0,\"ticks\":\"\"}},\"type\":\"scatterpolargl\"}],\"scatterpolar\":[{\"marker\":{\"colorbar\":{\"outlinewidth\":0,\"ticks\":\"\"}},\"type\":\"scatterpolar\"}],\"scatter\":[{\"fillpattern\":{\"fillmode\":\"overlay\",\"size\":10,\"solidity\":0.2},\"type\":\"scatter\"}],\"scatterternary\":[{\"marker\":{\"colorbar\":{\"outlinewidth\":0,\"ticks\":\"\"}},\"type\":\"scatterternary\"}],\"surface\":[{\"colorbar\":{\"outlinewidth\":0,\"ticks\":\"\"},\"colorscale\":[[0.0,\"#0d0887\"],[0.1111111111111111,\"#46039f\"],[0.2222222222222222,\"#7201a8\"],[0.3333333333333333,\"#9c179e\"],[0.4444444444444444,\"#bd3786\"],[0.5555555555555556,\"#d8576b\"],[0.6666666666666666,\"#ed7953\"],[0.7777777777777778,\"#fb9f3a\"],[0.8888888888888888,\"#fdca26\"],[1.0,\"#f0f921\"]],\"type\":\"surface\"}],\"table\":[{\"cells\":{\"fill\":{\"color\":\"#EBF0F8\"},\"line\":{\"color\":\"white\"}},\"header\":{\"fill\":{\"color\":\"#C8D4E3\"},\"line\":{\"color\":\"white\"}},\"type\":\"table\"}]},\"layout\":{\"annotationdefaults\":{\"arrowcolor\":\"#2a3f5f\",\"arrowhead\":0,\"arrowwidth\":1},\"autotypenumbers\":\"strict\",\"coloraxis\":{\"colorbar\":{\"outlinewidth\":0,\"ticks\":\"\"}},\"colorscale\":{\"diverging\":[[0,\"#8e0152\"],[0.1,\"#c51b7d\"],[0.2,\"#de77ae\"],[0.3,\"#f1b6da\"],[0.4,\"#fde0ef\"],[0.5,\"#f7f7f7\"],[0.6,\"#e6f5d0\"],[0.7,\"#b8e186\"],[0.8,\"#7fbc41\"],[0.9,\"#4d9221\"],[1,\"#276419\"]],\"sequential\":[[0.0,\"#0d0887\"],[0.1111111111111111,\"#46039f\"],[0.2222222222222222,\"#7201a8\"],[0.3333333333333333,\"#9c179e\"],[0.4444444444444444,\"#bd3786\"],[0.5555555555555556,\"#d8576b\"],[0.6666666666666666,\"#ed7953\"],[0.7777777777777778,\"#fb9f3a\"],[0.8888888888888888,\"#fdca26\"],[1.0,\"#f0f921\"]],\"sequentialminus\":[[0.0,\"#0d0887\"],[0.1111111111111111,\"#46039f\"],[0.2222222222222222,\"#7201a8\"],[0.3333333333333333,\"#9c179e\"],[0.4444444444444444,\"#bd3786\"],[0.5555555555555556,\"#d8576b\"],[0.6666666666666666,\"#ed7953\"],[0.7777777777777778,\"#fb9f3a\"],[0.8888888888888888,\"#fdca26\"],[1.0,\"#f0f921\"]]},\"colorway\":[\"#636efa\",\"#EF553B\",\"#00cc96\",\"#ab63fa\",\"#FFA15A\",\"#19d3f3\",\"#FF6692\",\"#B6E880\",\"#FF97FF\",\"#FECB52\"],\"font\":{\"color\":\"#2a3f5f\"},\"geo\":{\"bgcolor\":\"white\",\"lakecolor\":\"white\",\"landcolor\":\"#E5ECF6\",\"showlakes\":true,\"showland\":true,\"subunitcolor\":\"white\"},\"hoverlabel\":{\"align\":\"left\"},\"hovermode\":\"closest\",\"mapbox\":{\"style\":\"light\"},\"paper_bgcolor\":\"white\",\"plot_bgcolor\":\"#E5ECF6\",\"polar\":{\"angularaxis\":{\"gridcolor\":\"white\",\"linecolor\":\"white\",\"ticks\":\"\"},\"bgcolor\":\"#E5ECF6\",\"radialaxis\":{\"gridcolor\":\"white\",\"linecolor\":\"white\",\"ticks\":\"\"}},\"scene\":{\"xaxis\":{\"backgroundcolor\":\"#E5ECF6\",\"gridcolor\":\"white\",\"gridwidth\":2,\"linecolor\":\"white\",\"showbackground\":true,\"ticks\":\"\",\"zerolinecolor\":\"white\"},\"yaxis\":{\"backgroundcolor\":\"#E5ECF6\",\"gridcolor\":\"white\",\"gridwidth\":2,\"linecolor\":\"white\",\"showbackground\":true,\"ticks\":\"\",\"zerolinecolor\":\"white\"},\"zaxis\":{\"backgroundcolor\":\"#E5ECF6\",\"gridcolor\":\"white\",\"gridwidth\":2,\"linecolor\":\"white\",\"showbackground\":true,\"ticks\":\"\",\"zerolinecolor\":\"white\"}},\"shapedefaults\":{\"line\":{\"color\":\"#2a3f5f\"}},\"ternary\":{\"aaxis\":{\"gridcolor\":\"white\",\"linecolor\":\"white\",\"ticks\":\"\"},\"baxis\":{\"gridcolor\":\"white\",\"linecolor\":\"white\",\"ticks\":\"\"},\"bgcolor\":\"#E5ECF6\",\"caxis\":{\"gridcolor\":\"white\",\"linecolor\":\"white\",\"ticks\":\"\"}},\"title\":{\"x\":0.05},\"xaxis\":{\"automargin\":true,\"gridcolor\":\"white\",\"linecolor\":\"white\",\"ticks\":\"\",\"title\":{\"standoff\":15},\"zerolinecolor\":\"white\",\"zerolinewidth\":2},\"yaxis\":{\"automargin\":true,\"gridcolor\":\"white\",\"linecolor\":\"white\",\"ticks\":\"\",\"title\":{\"standoff\":15},\"zerolinecolor\":\"white\",\"zerolinewidth\":2}}},\"title\":{\"text\":\"Ratio of Funding to Mortality (Lowest 20)\",\"x\":0.5,\"xanchor\":\"center\",\"y\":0.95,\"yanchor\":\"top\"},\"width\":800,\"xaxis\":{\"anchor\":\"y\",\"domain\":[0.0,1.0],\"title\":{\"text\":\"Millions in Funding Per US Death\"}},\"yaxis\":{\"anchor\":\"x\",\"domain\":[0.0,1.0],\"title\":{\"text\":\"Research Category\"}}},                        {\"responsive\": true}                    ).then(function(){\n",
       "                            \n",
       "var gd = document.getElementById('103d0398-081f-4be7-bff5-018e8ea080e7');\n",
       "var x = new MutationObserver(function (mutations, observer) {{\n",
       "        var display = window.getComputedStyle(gd).display;\n",
       "        if (!display || display === 'none') {{\n",
       "            console.log([gd, 'removed!']);\n",
       "            Plotly.purge(gd);\n",
       "            observer.disconnect();\n",
       "        }}\n",
       "}});\n",
       "\n",
       "// Listen for the removal of the full notebook cells\n",
       "var notebookContainer = gd.closest('#notebook-container');\n",
       "if (notebookContainer) {{\n",
       "    x.observe(notebookContainer, {childList: true});\n",
       "}}\n",
       "\n",
       "// Listen for the clearing of the current output cell\n",
       "var outputEl = gd.closest('.output');\n",
       "if (outputEl) {{\n",
       "    x.observe(outputEl, {childList: true});\n",
       "}}\n",
       "\n",
       "                        })                };                });            </script>        </div>"
      ]
     },
     "metadata": {},
     "output_type": "display_data"
    }
   ],
   "source": [
    "# Create figure c\n",
    "fig3c = px.bar(df2019_b, x='ratio', y='research_category', \n",
    "              width=800, height=700, \n",
    "               labels={\n",
    "                     \"ratio\": \"Millions in Funding Per US Death\",\n",
    "                     \"research_category\": \"Research Category\"\n",
    "                 })\n",
    "\n",
    "fig3c.update_layout(\n",
    "    title={\n",
    "        'text': \"Ratio of Funding to Mortality (Lowest 20)\",\n",
    "        'y':0.95,\n",
    "        'x':0.5,\n",
    "        'xanchor': 'center',\n",
    "        'yanchor': 'top'})\n",
    "\n",
    "\n",
    "fig3c.write_image(\"figures/fig3c.png\")\n",
    "\n",
    "#fig3c.show()\n",
    "py.iplot(fig3c, filename='fig3c')"
   ]
  },
  {
   "cell_type": "markdown",
   "id": "98bbee1f-dffb-4428-af5f-0dd0fc188d36",
   "metadata": {},
   "source": [
    "### Author Contributions"
   ]
  },
  {
   "cell_type": "markdown",
   "id": "99191017-2f82-4406-b11e-2e4327791ee6",
   "metadata": {},
   "source": [
    "This section should indicate, for each team member, what they did in the project."
   ]
  },
  {
   "cell_type": "markdown",
   "id": "7e5867a1-8f11-4738-9279-d42693a1763e",
   "metadata": {},
   "source": [
    "We all contributed equal amounts to the project and had great communication through email, text, and regular zoom meetings. Madeline Adee focused on the third part of the analysis and the introduction as well as the data cleaning, environment creation, and reproducibility critique of the original dataset. Nina Dickens worked on the first part of the data analysis, creating the functions python files, writing tests for functions, pyproj.toml, setup.py, and finally creating the JupyterBook. Meanwhile, Tina Li worked on the second part of the analysis, created our Makefile, README, and creating the Binder link. Although we were each assigned individual parts, ultimately we all helped each other throughout the process and everyone played some sort of role on every aspect of the project. "
   ]
  }
 ],
 "metadata": {
  "kernelspec": {
   "display_name": "IPython - NIH",
   "language": "python",
   "name": "nih"
  },
  "language_info": {
   "codemirror_mode": {
    "name": "ipython",
    "version": 3
   },
   "file_extension": ".py",
   "mimetype": "text/x-python",
   "name": "python",
   "nbconvert_exporter": "python",
   "pygments_lexer": "ipython3",
   "version": "3.9.12"
  },
  "nbdime-conflicts": {
   "local_diff": [
    {
     "diff": [
      {
       "diff": [
        {
         "key": 0,
         "length": 1,
         "op": "removerange"
        }
       ],
       "key": "display_name",
       "op": "patch"
      }
     ],
     "key": "kernelspec",
     "op": "patch"
    },
    {
     "diff": [
      {
       "diff": [
        {
         "diff": [
          {
           "key": 4,
           "op": "addrange",
           "valuelist": "9"
          },
          {
           "key": 4,
           "length": 2,
           "op": "removerange"
          }
         ],
         "key": 0,
         "op": "patch"
        }
       ],
       "key": "version",
       "op": "patch"
      }
     ],
     "key": "language_info",
     "op": "patch"
    }
   ],
   "remote_diff": [
    {
     "diff": [
      {
       "diff": [
        {
         "diff": [
          {
           "key": 10,
           "op": "addrange",
           "valuelist": "nih"
          },
          {
           "key": 10,
           "length": 3,
           "op": "removerange"
          }
         ],
         "key": 0,
         "op": "patch"
        }
       ],
       "key": "display_name",
       "op": "patch"
      }
     ],
     "key": "kernelspec",
     "op": "patch"
    },
    {
     "diff": [
      {
       "diff": [
        {
         "key": 0,
         "length": 1,
         "op": "removerange"
        }
       ],
       "key": "version",
       "op": "patch"
      }
     ],
     "key": "language_info",
     "op": "patch"
    }
   ]
  }
 },
 "nbformat": 4,
 "nbformat_minor": 5
}
