{
 "cells": [
  {
   "cell_type": "code",
   "execution_count": 1,
   "id": "06273da8-7eb2-44d0-9ec5-b787aacd6b93",
   "metadata": {},
   "outputs": [
    {
     "name": "stderr",
     "output_type": "stream",
     "text": [
      "/srv/conda/envs/notebook/lib/python3.9/site-packages/pandas/core/generic.py:2703: PerformanceWarning: \n",
      "your performance may suffer as PyTables will pickle object types that it cannot\n",
      "map directly to c-types [inferred_type->mixed,key->block0_values] [items->Index(['research_category', '2008', '2009', '2009_ARRA', '2010', '2010_ARRA',\n",
      "       '2011', '2012', '2013', '2014', '2015', '2016', '2017', '2018', '2019',\n",
      "       '2020', '2021_Estimated', '2022_Estimated', '2019_US_Mortality_19',\n",
      "       '2019_US_Prevalence_SE_19'],\n",
      "      dtype='object')]\n",
      "\n",
      "  pytables.to_hdf(\n"
     ]
    }
   ],
   "source": [
    "import pandas as pd\n",
    "import numpy as np\n",
    "import h5py\n",
    "\n",
    "# load data\n",
    "df = pd.read_csv (r'data/raw_data/funding_data.csv')\n",
    "\n",
    "# replace + and - so they are coded as missing\n",
    "df = df.replace('+', np.NaN, regex=False)\n",
    "df = df.replace('-', np.NaN, regex=False)\n",
    "\n",
    "# Export the pandas DataFrame into HDF5\n",
    "h5File = \"data/cleaned_data/funding_data.hdf5\";\n",
    "df.to_hdf(h5File, \"/data/cleaned_data\");"
   ]
  },
  {
   "cell_type": "code",
   "execution_count": 2,
   "id": "19bef547-0b08-4b30-ae34-7a55bd3f9de5",
   "metadata": {},
   "outputs": [],
   "source": [
    "# Use pandas again to read data from the hdf5 file to the pandas DataFrame\n",
    "df = pd.read_hdf(h5File, \"/data/cleaned_data\");"
   ]
  },
  {
   "cell_type": "code",
   "execution_count": null,
   "id": "0ed77726-3677-4a28-bcd2-97942e6ec1a4",
   "metadata": {},
   "outputs": [],
   "source": []
  }
 ],
 "metadata": {
  "kernelspec": {
   "display_name": "Python 3 (ipykernel)",
   "language": "python",
   "name": "python3"
  },
  "language_info": {
   "codemirror_mode": {
    "name": "ipython",
    "version": 3
   },
   "file_extension": ".py",
   "mimetype": "text/x-python",
   "name": "python",
   "nbconvert_exporter": "python",
   "pygments_lexer": "ipython3",
   "version": "3.9.9"
  }
 },
 "nbformat": 4,
 "nbformat_minor": 5
}
