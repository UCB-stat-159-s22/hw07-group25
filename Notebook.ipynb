{
 "cells": [
  {
   "cell_type": "markdown",
   "id": "35227da3-648e-4485-aa10-c43a152232eb",
   "metadata": {},
   "source": [
    "# STAT 159/259 Final Project: NIH Funding by Research, Condition, and Disease Categories"
   ]
  },
  {
   "cell_type": "markdown",
   "id": "6d941f31-c374-4eff-86c3-0018a905303e",
   "metadata": {},
   "source": [
    "Group Members: Madeline Adee, Nina Dickens, Tina Li. "
   ]
  },
  {
   "cell_type": "markdown",
   "id": "3417a2fb-238b-4519-b6eb-27e09bde8f04",
   "metadata": {},
   "source": [
    "### Overview"
   ]
  },
  {
   "cell_type": "markdown",
   "id": "d5ce3d0b-b816-4866-9497-e519c62cdd6c",
   "metadata": {},
   "source": [
    "This project is an analysis of National Institutes of Health (NIH) funding data. Data is provided publicly by the NIH on funding levels by categories (defined by research, condition, or disease). Original data can be accessed [here at the NIH Research Portfolio Online Reporting Tools](https://report.nih.gov/funding/categorical-spending#/) website. "
   ]
  },
  {
   "cell_type": "markdown",
   "id": "e12731ad-54e6-450e-b78a-1ccf76150711",
   "metadata": {},
   "source": [
    "### Research Questions"
   ]
  },
  {
   "cell_type": "markdown",
   "id": "4496359e-0216-479d-986e-04e97eab0f2c",
   "metadata": {},
   "source": [
    "- What are the top 10 NIH funding categories in 2019? \n",
    "- What Funding  categories have increased/decreased the most during the years that data is available in 2019? \n",
    "- What is the relationship between mortality rates and funding by category in 2019? "
   ]
  },
  {
   "cell_type": "markdown",
   "id": "3007a9cb-9d30-4624-a3ff-6c766aadd838",
   "metadata": {},
   "source": [
    "### Data Cleaning"
   ]
  },
  {
   "cell_type": "markdown",
   "id": "a651d80c-84e3-46dc-b935-c94b4268af0c",
   "metadata": {},
   "source": [
    "We downloaded the excel file available on this website and removed comments at the bottom to facilitate reading the data, but no changes were made to the raw data at this state. This modified file with no comments is saved here: data/raw_data/funding_data.csv. \n",
    "\n",
    "To use the data effectively, we had to do some data cleaning. The NIH used various symbols in place of coding data as missing or unavailable, so these symbols have been removed and these cells coded as missing. "
   ]
  },
  {
   "cell_type": "code",
   "execution_count": 1,
   "id": "69771a3b-dc96-45bd-8960-cd8e21e798d0",
   "metadata": {},
   "outputs": [],
   "source": [
    "import pandas as pd\n",
    "import numpy as np\n",
    "import h5py\n",
    "import plotly.express as px"
   ]
  },
  {
   "cell_type": "code",
   "execution_count": 4,
   "id": "6fd216c4-53f3-42be-86ee-d66ba22e4276",
   "metadata": {},
   "outputs": [],
   "source": [
    "# load data\n",
    "df = pd.read_csv (r'data/raw_data/funding_data.csv')\n",
    "\n",
    "# replace + and - and * so they are coded as missing\n",
    "df = df.replace('+', np.NaN, regex=False)\n",
    "df = df.replace('-', np.NaN, regex=False)\n",
    "df = df.replace('*', np.NaN, regex=False)"
   ]
  },
  {
   "cell_type": "markdown",
   "id": "aed71bd4-3b4b-4d9a-8a64-1354eaa41c59",
   "metadata": {},
   "source": [
    "Next we removed years prior to 2011 (because there was an additional column for two of the years < 2011 without a clear explanation of how to interpret this column) and years after 2020 (since this data was projections only). This gives us a database of 10 years of funding data. However, since prevalence and mortality data are provided only for 2019, we decided to use this year as our endpoint year for analyses."
   ]
  },
  {
   "cell_type": "code",
   "execution_count": 5,
   "id": "aca294d9-a2a7-42a5-b367-f3ed5714755f",
   "metadata": {},
   "outputs": [],
   "source": [
    "# remove pre-2011 data and years that are estimates only\n",
    "df = df.drop(df.columns[[1, 2, 3, 4, 5, 16, 17]], axis=1)"
   ]
  },
  {
   "cell_type": "markdown",
   "id": "cb345249-3755-436d-97f6-94842eecf94d",
   "metadata": {},
   "source": [
    "The original data included dollar signs which needed to be removed. Once this is done we have a cleaned data set with the category, a column for each year in the 10 year period (with dollar amounts in millions), and 2019 prevalence and mortality data for conditions/disease for which this was provided."
   ]
  },
  {
   "cell_type": "code",
   "execution_count": 14,
   "id": "5e347630-83d6-4e48-aea3-87560a45d5c6",
   "metadata": {},
   "outputs": [
    {
     "data": {
      "text/html": [
       "<div>\n",
       "<style scoped>\n",
       "    .dataframe tbody tr th:only-of-type {\n",
       "        vertical-align: middle;\n",
       "    }\n",
       "\n",
       "    .dataframe tbody tr th {\n",
       "        vertical-align: top;\n",
       "    }\n",
       "\n",
       "    .dataframe thead th {\n",
       "        text-align: right;\n",
       "    }\n",
       "</style>\n",
       "<table border=\"1\" class=\"dataframe\">\n",
       "  <thead>\n",
       "    <tr style=\"text-align: right;\">\n",
       "      <th></th>\n",
       "      <th>research_category</th>\n",
       "      <th>2011</th>\n",
       "      <th>2012</th>\n",
       "      <th>2013</th>\n",
       "      <th>2014</th>\n",
       "      <th>2015</th>\n",
       "      <th>2016</th>\n",
       "      <th>2017</th>\n",
       "      <th>2018</th>\n",
       "      <th>2019</th>\n",
       "      <th>2020</th>\n",
       "      <th>2019_US_Mortality_19</th>\n",
       "      <th>2019_US_Prevalence_SE_19</th>\n",
       "    </tr>\n",
       "  </thead>\n",
       "  <tbody>\n",
       "    <tr>\n",
       "      <th>0</th>\n",
       "      <td>Acquired Cognitive Impairment</td>\n",
       "      <td>NaN</td>\n",
       "      <td>NaN</td>\n",
       "      <td>NaN</td>\n",
       "      <td>NaN</td>\n",
       "      <td>798.0</td>\n",
       "      <td>1132.0</td>\n",
       "      <td>1560.0</td>\n",
       "      <td>1978.0</td>\n",
       "      <td>2423.0</td>\n",
       "      <td>2897.0</td>\n",
       "      <td>NaN</td>\n",
       "      <td>NaN</td>\n",
       "    </tr>\n",
       "    <tr>\n",
       "      <th>1</th>\n",
       "      <td>Acute Respiratory Distress Syndrome</td>\n",
       "      <td>96.0</td>\n",
       "      <td>98.0</td>\n",
       "      <td>95.0</td>\n",
       "      <td>85.0</td>\n",
       "      <td>108.0</td>\n",
       "      <td>103.0</td>\n",
       "      <td>107.0</td>\n",
       "      <td>123.0</td>\n",
       "      <td>126.0</td>\n",
       "      <td>158.0</td>\n",
       "      <td>10482.0</td>\n",
       "      <td>NaN</td>\n",
       "    </tr>\n",
       "    <tr>\n",
       "      <th>2</th>\n",
       "      <td>Adolescent Sexual Activity</td>\n",
       "      <td>69.0</td>\n",
       "      <td>76.0</td>\n",
       "      <td>70.0</td>\n",
       "      <td>68.0</td>\n",
       "      <td>85.0</td>\n",
       "      <td>91.0</td>\n",
       "      <td>99.0</td>\n",
       "      <td>96.0</td>\n",
       "      <td>102.0</td>\n",
       "      <td>88.0</td>\n",
       "      <td>NaN</td>\n",
       "      <td>NaN</td>\n",
       "    </tr>\n",
       "    <tr>\n",
       "      <th>3</th>\n",
       "      <td>Agent Orange &amp; Dioxin</td>\n",
       "      <td>8.0</td>\n",
       "      <td>8.0</td>\n",
       "      <td>10.0</td>\n",
       "      <td>8.0</td>\n",
       "      <td>9.0</td>\n",
       "      <td>9.0</td>\n",
       "      <td>11.0</td>\n",
       "      <td>10.0</td>\n",
       "      <td>8.0</td>\n",
       "      <td>6.0</td>\n",
       "      <td>NaN</td>\n",
       "      <td>NaN</td>\n",
       "    </tr>\n",
       "    <tr>\n",
       "      <th>4</th>\n",
       "      <td>Aging</td>\n",
       "      <td>2572.0</td>\n",
       "      <td>2593.0</td>\n",
       "      <td>2429.0</td>\n",
       "      <td>2556.0</td>\n",
       "      <td>2698.0</td>\n",
       "      <td>3150.0</td>\n",
       "      <td>3572.0</td>\n",
       "      <td>4084.0</td>\n",
       "      <td>4653.0</td>\n",
       "      <td>5276.0</td>\n",
       "      <td>NaN</td>\n",
       "      <td>NaN</td>\n",
       "    </tr>\n",
       "    <tr>\n",
       "      <th>...</th>\n",
       "      <td>...</td>\n",
       "      <td>...</td>\n",
       "      <td>...</td>\n",
       "      <td>...</td>\n",
       "      <td>...</td>\n",
       "      <td>...</td>\n",
       "      <td>...</td>\n",
       "      <td>...</td>\n",
       "      <td>...</td>\n",
       "      <td>...</td>\n",
       "      <td>...</td>\n",
       "      <td>...</td>\n",
       "      <td>...</td>\n",
       "    </tr>\n",
       "    <tr>\n",
       "      <th>294</th>\n",
       "      <td>West Nile Virus</td>\n",
       "      <td>65.0</td>\n",
       "      <td>29.0</td>\n",
       "      <td>40.0</td>\n",
       "      <td>48.0</td>\n",
       "      <td>40.0</td>\n",
       "      <td>46.0</td>\n",
       "      <td>42.0</td>\n",
       "      <td>36.0</td>\n",
       "      <td>24.0</td>\n",
       "      <td>27.0</td>\n",
       "      <td>90.0</td>\n",
       "      <td>NaN</td>\n",
       "    </tr>\n",
       "    <tr>\n",
       "      <th>295</th>\n",
       "      <td>Women's Health 8</td>\n",
       "      <td>3891.0</td>\n",
       "      <td>3833.0</td>\n",
       "      <td>3745.0</td>\n",
       "      <td>3935.0</td>\n",
       "      <td>3989.0</td>\n",
       "      <td>4540.0</td>\n",
       "      <td>4769.0</td>\n",
       "      <td>5048.0</td>\n",
       "      <td>4469.0</td>\n",
       "      <td>4466.0</td>\n",
       "      <td>NaN</td>\n",
       "      <td>NaN</td>\n",
       "    </tr>\n",
       "    <tr>\n",
       "      <th>296</th>\n",
       "      <td>Wound Healing and Care</td>\n",
       "      <td>NaN</td>\n",
       "      <td>NaN</td>\n",
       "      <td>NaN</td>\n",
       "      <td>NaN</td>\n",
       "      <td>NaN</td>\n",
       "      <td>NaN</td>\n",
       "      <td>NaN</td>\n",
       "      <td>NaN</td>\n",
       "      <td>NaN</td>\n",
       "      <td>163.0</td>\n",
       "      <td>NaN</td>\n",
       "      <td>NaN</td>\n",
       "    </tr>\n",
       "    <tr>\n",
       "      <th>297</th>\n",
       "      <td>Youth Violence</td>\n",
       "      <td>87.0</td>\n",
       "      <td>77.0</td>\n",
       "      <td>70.0</td>\n",
       "      <td>59.0</td>\n",
       "      <td>47.0</td>\n",
       "      <td>46.0</td>\n",
       "      <td>50.0</td>\n",
       "      <td>46.0</td>\n",
       "      <td>48.0</td>\n",
       "      <td>38.0</td>\n",
       "      <td>NaN</td>\n",
       "      <td>NaN</td>\n",
       "    </tr>\n",
       "    <tr>\n",
       "      <th>298</th>\n",
       "      <td>Youth Violence Prevention</td>\n",
       "      <td>26.0</td>\n",
       "      <td>27.0</td>\n",
       "      <td>26.0</td>\n",
       "      <td>16.0</td>\n",
       "      <td>15.0</td>\n",
       "      <td>17.0</td>\n",
       "      <td>21.0</td>\n",
       "      <td>22.0</td>\n",
       "      <td>24.0</td>\n",
       "      <td>21.0</td>\n",
       "      <td>NaN</td>\n",
       "      <td>NaN</td>\n",
       "    </tr>\n",
       "  </tbody>\n",
       "</table>\n",
       "<p>299 rows × 13 columns</p>\n",
       "</div>"
      ],
      "text/plain": [
       "                        research_category    2011    2012    2013    2014  \\\n",
       "0          Acquired Cognitive Impairment      NaN     NaN     NaN     NaN   \n",
       "1    Acute Respiratory Distress Syndrome     96.0    98.0    95.0    85.0   \n",
       "2             Adolescent Sexual Activity     69.0    76.0    70.0    68.0   \n",
       "3                  Agent Orange & Dioxin      8.0     8.0    10.0     8.0   \n",
       "4                                  Aging   2572.0  2593.0  2429.0  2556.0   \n",
       "..                                    ...     ...     ...     ...     ...   \n",
       "294                      West Nile Virus     65.0    29.0    40.0    48.0   \n",
       "295                      Women's Health 8  3891.0  3833.0  3745.0  3935.0   \n",
       "296               Wound Healing and Care      NaN     NaN     NaN     NaN   \n",
       "297                       Youth Violence     87.0    77.0    70.0    59.0   \n",
       "298            Youth Violence Prevention     26.0    27.0    26.0    16.0   \n",
       "\n",
       "       2015    2016    2017    2018    2019    2020  2019_US_Mortality_19  \\\n",
       "0     798.0  1132.0  1560.0  1978.0  2423.0  2897.0                   NaN   \n",
       "1     108.0   103.0   107.0   123.0   126.0   158.0               10482.0   \n",
       "2      85.0    91.0    99.0    96.0   102.0    88.0                   NaN   \n",
       "3       9.0     9.0    11.0    10.0     8.0     6.0                   NaN   \n",
       "4    2698.0  3150.0  3572.0  4084.0  4653.0  5276.0                   NaN   \n",
       "..      ...     ...     ...     ...     ...     ...                   ...   \n",
       "294    40.0    46.0    42.0    36.0    24.0    27.0                  90.0   \n",
       "295  3989.0  4540.0  4769.0  5048.0  4469.0  4466.0                   NaN   \n",
       "296     NaN     NaN     NaN     NaN     NaN   163.0                   NaN   \n",
       "297    47.0    46.0    50.0    46.0    48.0    38.0                   NaN   \n",
       "298    15.0    17.0    21.0    22.0    24.0    21.0                   NaN   \n",
       "\n",
       "    2019_US_Prevalence_SE_19  \n",
       "0                        NaN  \n",
       "1                        NaN  \n",
       "2                        NaN  \n",
       "3                        NaN  \n",
       "4                        NaN  \n",
       "..                       ...  \n",
       "294                      NaN  \n",
       "295                      NaN  \n",
       "296                      NaN  \n",
       "297                      NaN  \n",
       "298                      NaN  \n",
       "\n",
       "[299 rows x 13 columns]"
      ]
     },
     "metadata": {},
     "output_type": "display_data"
    }
   ],
   "source": [
    "# list of years to edit the way dollar amount is entered (remove $ sign)\n",
    "years = ['2011','2012','2013', '2014', '2015', '2016', '2017', '2018', '2019', '2020']\n",
    "\n",
    "# remove $ sign\n",
    "df[years] = df[years].replace('[\\$,]', '', regex=True).astype(float)\n",
    "\n",
    "# remove , in mortality\n",
    "df['2019_US_Mortality_19'] = df['2019_US_Mortality_19'].replace('[,,]', '', regex=True).astype(float)\n",
    "\n",
    "pd.to_numeric(df['2019_US_Mortality_19'])\n",
    "\n",
    "# display data frame in notebook\n",
    "display(df)"
   ]
  },
  {
   "cell_type": "markdown",
   "id": "157afdf2-595d-4a8f-b915-26ded0b2fc10",
   "metadata": {},
   "source": [
    "We saved this cleaned up data set in hdf5 format."
   ]
  },
  {
   "cell_type": "code",
   "execution_count": 7,
   "id": "c4ec728e-3286-497b-86c6-0e9949729c07",
   "metadata": {},
   "outputs": [
    {
     "name": "stderr",
     "output_type": "stream",
     "text": [
      "/home/jovyan/envs/nih/lib/python3.9/site-packages/pandas/core/generic.py:2703: PerformanceWarning: \n",
      "your performance may suffer as PyTables will pickle object types that it cannot\n",
      "map directly to c-types [inferred_type->mixed,key->block1_values] [items->Index(['research_category', '2019_US_Mortality_19',\n",
      "       '2019_US_Prevalence_SE_19'],\n",
      "      dtype='object')]\n",
      "\n",
      "  pytables.to_hdf(\n"
     ]
    }
   ],
   "source": [
    "# Export the pandas DataFrame into HDF5\n",
    "h5File = \"data/cleaned_data/funding_data.hdf5\"\n",
    "df.to_hdf(h5File, \"/data/cleaned_data\")"
   ]
  },
  {
   "cell_type": "markdown",
   "id": "a5fa7c37-05f9-4ed2-9f4b-8ff0cea3ae38",
   "metadata": {},
   "source": [
    "Then we created another version of the data with the prevalence and mortality removed, including a version in long format. "
   ]
  },
  {
   "cell_type": "code",
   "execution_count": 15,
   "id": "5047625d-5476-4b79-a6d2-5f9826f21946",
   "metadata": {},
   "outputs": [],
   "source": [
    "# remove mortality and prevalence data for this dataset\n",
    "df2 = df.drop(['2019_US_Mortality_19', '2019_US_Prevalence_SE_19'], axis = 1)\n",
    "\n",
    "# Export the pandas DataFrame into HDF5\n",
    "h5File2 = \"data/cleaned_data/funding_data_MP_removed.hdf5\"\n",
    "df2.to_hdf(h5File2, \"/data/cleaned_data\")"
   ]
  },
  {
   "cell_type": "code",
   "execution_count": 16,
   "id": "5396dd57-b5c9-4d27-b8d5-ece735b38e45",
   "metadata": {},
   "outputs": [
    {
     "data": {
      "text/html": [
       "<div>\n",
       "<style scoped>\n",
       "    .dataframe tbody tr th:only-of-type {\n",
       "        vertical-align: middle;\n",
       "    }\n",
       "\n",
       "    .dataframe tbody tr th {\n",
       "        vertical-align: top;\n",
       "    }\n",
       "\n",
       "    .dataframe thead th {\n",
       "        text-align: right;\n",
       "    }\n",
       "</style>\n",
       "<table border=\"1\" class=\"dataframe\">\n",
       "  <thead>\n",
       "    <tr style=\"text-align: right;\">\n",
       "      <th></th>\n",
       "      <th>research_category</th>\n",
       "      <th>year</th>\n",
       "      <th>millions</th>\n",
       "    </tr>\n",
       "  </thead>\n",
       "  <tbody>\n",
       "    <tr>\n",
       "      <th>0</th>\n",
       "      <td>Acquired Cognitive Impairment</td>\n",
       "      <td>2011</td>\n",
       "      <td>NaN</td>\n",
       "    </tr>\n",
       "    <tr>\n",
       "      <th>1</th>\n",
       "      <td>Acute Respiratory Distress Syndrome</td>\n",
       "      <td>2011</td>\n",
       "      <td>96.0</td>\n",
       "    </tr>\n",
       "    <tr>\n",
       "      <th>2</th>\n",
       "      <td>Adolescent Sexual Activity</td>\n",
       "      <td>2011</td>\n",
       "      <td>69.0</td>\n",
       "    </tr>\n",
       "    <tr>\n",
       "      <th>3</th>\n",
       "      <td>Agent Orange &amp; Dioxin</td>\n",
       "      <td>2011</td>\n",
       "      <td>8.0</td>\n",
       "    </tr>\n",
       "    <tr>\n",
       "      <th>4</th>\n",
       "      <td>Aging</td>\n",
       "      <td>2011</td>\n",
       "      <td>2572.0</td>\n",
       "    </tr>\n",
       "    <tr>\n",
       "      <th>...</th>\n",
       "      <td>...</td>\n",
       "      <td>...</td>\n",
       "      <td>...</td>\n",
       "    </tr>\n",
       "    <tr>\n",
       "      <th>2985</th>\n",
       "      <td>West Nile Virus</td>\n",
       "      <td>2020</td>\n",
       "      <td>27.0</td>\n",
       "    </tr>\n",
       "    <tr>\n",
       "      <th>2986</th>\n",
       "      <td>Women's Health 8</td>\n",
       "      <td>2020</td>\n",
       "      <td>4466.0</td>\n",
       "    </tr>\n",
       "    <tr>\n",
       "      <th>2987</th>\n",
       "      <td>Wound Healing and Care</td>\n",
       "      <td>2020</td>\n",
       "      <td>163.0</td>\n",
       "    </tr>\n",
       "    <tr>\n",
       "      <th>2988</th>\n",
       "      <td>Youth Violence</td>\n",
       "      <td>2020</td>\n",
       "      <td>38.0</td>\n",
       "    </tr>\n",
       "    <tr>\n",
       "      <th>2989</th>\n",
       "      <td>Youth Violence Prevention</td>\n",
       "      <td>2020</td>\n",
       "      <td>21.0</td>\n",
       "    </tr>\n",
       "  </tbody>\n",
       "</table>\n",
       "<p>2990 rows × 3 columns</p>\n",
       "</div>"
      ],
      "text/plain": [
       "                         research_category  year  millions\n",
       "0           Acquired Cognitive Impairment   2011       NaN\n",
       "1     Acute Respiratory Distress Syndrome   2011      96.0\n",
       "2              Adolescent Sexual Activity   2011      69.0\n",
       "3                   Agent Orange & Dioxin   2011       8.0\n",
       "4                                   Aging   2011    2572.0\n",
       "...                                    ...   ...       ...\n",
       "2985                      West Nile Virus   2020      27.0\n",
       "2986                      Women's Health 8  2020    4466.0\n",
       "2987               Wound Healing and Care   2020     163.0\n",
       "2988                       Youth Violence   2020      38.0\n",
       "2989            Youth Violence Prevention   2020      21.0\n",
       "\n",
       "[2990 rows x 3 columns]"
      ]
     },
     "metadata": {},
     "output_type": "display_data"
    }
   ],
   "source": [
    "# create long format version of the above dataset\n",
    "df2_long = pd.melt(df2, id_vars='research_category', \n",
    "                   value_vars=['2011','2012','2013', '2014', '2015', '2016', '2017', '2018', '2019', '2020'], \n",
    "                   var_name = 'year', value_name = 'millions')\n",
    "\n",
    "# Export the pandas DataFrame into HDF5\n",
    "h5File3 = \"data/cleaned_data/funding_data_MP_removed_long.hdf5\"\n",
    "df2_long.to_hdf(h5File3, \"/data/cleaned_data\")\n",
    "\n",
    "# diplay long format data\n",
    "display(df2_long)"
   ]
  },
  {
   "cell_type": "markdown",
   "id": "13e7061c-364b-44a3-a04e-cb4ac3758e8b",
   "metadata": {},
   "source": [
    "Next we also tried to make a version of the data where the amount in millions is adjusted for inflation - but the cpi package did not work (might fix later if i have time -- Maddy)"
   ]
  },
  {
   "cell_type": "code",
   "execution_count": 34,
   "id": "f4acf7ba-a087-4b78-a5dd-a30bdb31c036",
   "metadata": {},
   "outputs": [],
   "source": [
    "#pd.to_datetime(df2_long['year'])\n",
    "\n",
    "#display(df2_long)\n",
    "\n",
    "#df2_long['adjusted_millions'] = df2_long.apply(lambda x: cpi.inflate(x.millions, x.year), axis=1)"
   ]
  },
  {
   "cell_type": "code",
   "execution_count": 17,
   "id": "6515a60c-d946-4579-8959-6ccbc1e65f73",
   "metadata": {},
   "outputs": [],
   "source": [
    "df3 = df[['research_category', '2019_US_Mortality_19', '2019']]\n",
    "\n",
    "# Export the pandas DataFrame into HDF5\n",
    "h5File4 = \"data/cleaned_data/funding_data_2019.hdf5\"\n",
    "df3.to_hdf(h5File4, \"/data/cleaned_data\")"
   ]
  },
  {
   "cell_type": "code",
   "execution_count": 29,
   "id": "578dacc2-7499-44c3-8f08-e54ae02c6dbe",
   "metadata": {},
   "outputs": [
    {
     "data": {
      "text/html": [
       "<div>\n",
       "<style scoped>\n",
       "    .dataframe tbody tr th:only-of-type {\n",
       "        vertical-align: middle;\n",
       "    }\n",
       "\n",
       "    .dataframe tbody tr th {\n",
       "        vertical-align: top;\n",
       "    }\n",
       "\n",
       "    .dataframe thead th {\n",
       "        text-align: right;\n",
       "    }\n",
       "</style>\n",
       "<table border=\"1\" class=\"dataframe\">\n",
       "  <thead>\n",
       "    <tr style=\"text-align: right;\">\n",
       "      <th></th>\n",
       "      <th>research_category</th>\n",
       "      <th>year</th>\n",
       "      <th>millions</th>\n",
       "    </tr>\n",
       "  </thead>\n",
       "  <tbody>\n",
       "    <tr>\n",
       "      <th>0</th>\n",
       "      <td>Acquired Cognitive Impairment</td>\n",
       "      <td>2011</td>\n",
       "      <td>NaN</td>\n",
       "    </tr>\n",
       "    <tr>\n",
       "      <th>1</th>\n",
       "      <td>Acute Respiratory Distress Syndrome</td>\n",
       "      <td>2011</td>\n",
       "      <td>96.0</td>\n",
       "    </tr>\n",
       "    <tr>\n",
       "      <th>2</th>\n",
       "      <td>Adolescent Sexual Activity</td>\n",
       "      <td>2011</td>\n",
       "      <td>69.0</td>\n",
       "    </tr>\n",
       "    <tr>\n",
       "      <th>3</th>\n",
       "      <td>Agent Orange &amp; Dioxin</td>\n",
       "      <td>2011</td>\n",
       "      <td>8.0</td>\n",
       "    </tr>\n",
       "    <tr>\n",
       "      <th>4</th>\n",
       "      <td>Aging</td>\n",
       "      <td>2011</td>\n",
       "      <td>2572.0</td>\n",
       "    </tr>\n",
       "    <tr>\n",
       "      <th>...</th>\n",
       "      <td>...</td>\n",
       "      <td>...</td>\n",
       "      <td>...</td>\n",
       "    </tr>\n",
       "    <tr>\n",
       "      <th>2985</th>\n",
       "      <td>West Nile Virus</td>\n",
       "      <td>2020</td>\n",
       "      <td>27.0</td>\n",
       "    </tr>\n",
       "    <tr>\n",
       "      <th>2986</th>\n",
       "      <td>Women's Health 8</td>\n",
       "      <td>2020</td>\n",
       "      <td>4466.0</td>\n",
       "    </tr>\n",
       "    <tr>\n",
       "      <th>2987</th>\n",
       "      <td>Wound Healing and Care</td>\n",
       "      <td>2020</td>\n",
       "      <td>163.0</td>\n",
       "    </tr>\n",
       "    <tr>\n",
       "      <th>2988</th>\n",
       "      <td>Youth Violence</td>\n",
       "      <td>2020</td>\n",
       "      <td>38.0</td>\n",
       "    </tr>\n",
       "    <tr>\n",
       "      <th>2989</th>\n",
       "      <td>Youth Violence Prevention</td>\n",
       "      <td>2020</td>\n",
       "      <td>21.0</td>\n",
       "    </tr>\n",
       "  </tbody>\n",
       "</table>\n",
       "<p>2990 rows × 3 columns</p>\n",
       "</div>"
      ],
      "text/plain": [
       "                         research_category  year  millions\n",
       "0           Acquired Cognitive Impairment   2011       NaN\n",
       "1     Acute Respiratory Distress Syndrome   2011      96.0\n",
       "2              Adolescent Sexual Activity   2011      69.0\n",
       "3                   Agent Orange & Dioxin   2011       8.0\n",
       "4                                   Aging   2011    2572.0\n",
       "...                                    ...   ...       ...\n",
       "2985                      West Nile Virus   2020      27.0\n",
       "2986                      Women's Health 8  2020    4466.0\n",
       "2987               Wound Healing and Care   2020     163.0\n",
       "2988                       Youth Violence   2020      38.0\n",
       "2989            Youth Violence Prevention   2020      21.0\n",
       "\n",
       "[2990 rows x 3 columns]"
      ]
     },
     "metadata": {},
     "output_type": "display_data"
    }
   ],
   "source": []
  },
  {
   "cell_type": "markdown",
   "id": "f05f15cc-81ad-4862-aed8-97508ecedcc7",
   "metadata": {},
   "source": [
    "#### *Reproducibility Critique of Data Set*"
   ]
  },
  {
   "cell_type": "markdown",
   "id": "49a0bfdb-cf92-49d9-8bf2-7bc20a0df932",
   "metadata": {},
   "source": []
  },
  {
   "cell_type": "markdown",
   "id": "242aa78a-bff3-47e6-ada2-b320d17e67df",
   "metadata": {},
   "source": [
    "### Analysis"
   ]
  },
  {
   "cell_type": "code",
   "execution_count": 39,
   "id": "7ed71525-c95b-43df-b22e-fae1364dffda",
   "metadata": {},
   "outputs": [],
   "source": []
  },
  {
   "cell_type": "markdown",
   "id": "79743463-b4e9-478d-b8ad-76266b50df31",
   "metadata": {},
   "source": [
    "#### *Top 10 Funding Categories in 2019*"
   ]
  },
  {
   "cell_type": "markdown",
   "id": "0e60798d-59d2-47a1-a1ef-941ad2b4de28",
   "metadata": {},
   "source": [
    "Insert description of analysis here."
   ]
  },
  {
   "cell_type": "code",
   "execution_count": null,
   "id": "4cc42871-c9b8-4c57-811e-4e248fab3d1b",
   "metadata": {},
   "outputs": [],
   "source": [
    "# insert code here"
   ]
  },
  {
   "cell_type": "markdown",
   "id": "ae87d073-40ab-48db-b7c1-648f741f70de",
   "metadata": {},
   "source": [
    "#### *Top 5 Funding Categories Over Time*"
   ]
  },
  {
   "cell_type": "markdown",
   "id": "29f9f478-9e05-4bcf-80f0-f95673b53270",
   "metadata": {},
   "source": [
    "Insert description of analysis here. "
   ]
  },
  {
   "cell_type": "code",
   "execution_count": null,
   "id": "2a3e94de-0698-4e95-8637-06fd87552037",
   "metadata": {},
   "outputs": [],
   "source": [
    "# insert code here"
   ]
  },
  {
   "cell_type": "markdown",
   "id": "53160bab-6db7-4c2c-9c64-d145703fa36d",
   "metadata": {},
   "source": [
    "#### *Relationship Between Spending and Mortality*"
   ]
  },
  {
   "cell_type": "markdown",
   "id": "b594ab22-7cb4-4f28-a993-1a3182b98daf",
   "metadata": {
    "tags": []
   },
   "source": [
    "Insert description of analysis here. "
   ]
  },
  {
   "cell_type": "code",
   "execution_count": 19,
   "id": "ff150749-1b86-48f6-92e7-02e91590e2be",
   "metadata": {},
   "outputs": [
    {
     "data": {
      "text/html": [
       "<div>\n",
       "<style scoped>\n",
       "    .dataframe tbody tr th:only-of-type {\n",
       "        vertical-align: middle;\n",
       "    }\n",
       "\n",
       "    .dataframe tbody tr th {\n",
       "        vertical-align: top;\n",
       "    }\n",
       "\n",
       "    .dataframe thead th {\n",
       "        text-align: right;\n",
       "    }\n",
       "</style>\n",
       "<table border=\"1\" class=\"dataframe\">\n",
       "  <thead>\n",
       "    <tr style=\"text-align: right;\">\n",
       "      <th></th>\n",
       "      <th>research_category</th>\n",
       "      <th>2019_US_Mortality_19</th>\n",
       "      <th>2019</th>\n",
       "    </tr>\n",
       "  </thead>\n",
       "  <tbody>\n",
       "    <tr>\n",
       "      <th>1</th>\n",
       "      <td>Acute Respiratory Distress Syndrome</td>\n",
       "      <td>10482.0</td>\n",
       "      <td>126.0</td>\n",
       "    </tr>\n",
       "    <tr>\n",
       "      <th>5</th>\n",
       "      <td>Alcoholism, Alcohol Use and Health 1</td>\n",
       "      <td>87566.0</td>\n",
       "      <td>556.0</td>\n",
       "    </tr>\n",
       "    <tr>\n",
       "      <th>6</th>\n",
       "      <td>Allergic Rhinitis (Hay Fever)</td>\n",
       "      <td>98.0</td>\n",
       "      <td>7.0</td>\n",
       "    </tr>\n",
       "    <tr>\n",
       "      <th>8</th>\n",
       "      <td>Alzheimer's Disease</td>\n",
       "      <td>146659.0</td>\n",
       "      <td>2240.0</td>\n",
       "    </tr>\n",
       "    <tr>\n",
       "      <th>12</th>\n",
       "      <td>Anorexia</td>\n",
       "      <td>124.0</td>\n",
       "      <td>11.0</td>\n",
       "    </tr>\n",
       "    <tr>\n",
       "      <th>...</th>\n",
       "      <td>...</td>\n",
       "      <td>...</td>\n",
       "      <td>...</td>\n",
       "    </tr>\n",
       "    <tr>\n",
       "      <th>275</th>\n",
       "      <td>Transmissible Spongiform Encephalopathy (TSE)</td>\n",
       "      <td>658.0</td>\n",
       "      <td>34.0</td>\n",
       "    </tr>\n",
       "    <tr>\n",
       "      <th>277</th>\n",
       "      <td>Tuberculosis</td>\n",
       "      <td>982.0</td>\n",
       "      <td>488.0</td>\n",
       "    </tr>\n",
       "    <tr>\n",
       "      <th>279</th>\n",
       "      <td>Tuberous Sclerosis</td>\n",
       "      <td>59.0</td>\n",
       "      <td>25.0</td>\n",
       "    </tr>\n",
       "    <tr>\n",
       "      <th>284</th>\n",
       "      <td>Uterine Cancer</td>\n",
       "      <td>13036.0</td>\n",
       "      <td>36.0</td>\n",
       "    </tr>\n",
       "    <tr>\n",
       "      <th>294</th>\n",
       "      <td>West Nile Virus</td>\n",
       "      <td>90.0</td>\n",
       "      <td>24.0</td>\n",
       "    </tr>\n",
       "  </tbody>\n",
       "</table>\n",
       "<p>104 rows × 3 columns</p>\n",
       "</div>"
      ],
      "text/plain": [
       "                                  research_category  2019_US_Mortality_19  \\\n",
       "1              Acute Respiratory Distress Syndrome                10482.0   \n",
       "5              Alcoholism, Alcohol Use and Health 1               87566.0   \n",
       "6                    Allergic Rhinitis (Hay Fever)                   98.0   \n",
       "8                              Alzheimer's Disease               146659.0   \n",
       "12                                        Anorexia                  124.0   \n",
       "..                                              ...                   ...   \n",
       "275  Transmissible Spongiform Encephalopathy (TSE)                  658.0   \n",
       "277                                   Tuberculosis                  982.0   \n",
       "279                             Tuberous Sclerosis                   59.0   \n",
       "284                                 Uterine Cancer                13036.0   \n",
       "294                                West Nile Virus                   90.0   \n",
       "\n",
       "       2019  \n",
       "1     126.0  \n",
       "5     556.0  \n",
       "6       7.0  \n",
       "8    2240.0  \n",
       "12     11.0  \n",
       "..      ...  \n",
       "275    34.0  \n",
       "277   488.0  \n",
       "279    25.0  \n",
       "284    36.0  \n",
       "294    24.0  \n",
       "\n",
       "[104 rows x 3 columns]"
      ]
     },
     "execution_count": 19,
     "metadata": {},
     "output_type": "execute_result"
    }
   ],
   "source": [
    "# Use pandas again to read data from the hdf5 file to the pandas DataFrame\n",
    "df2019 = pd.read_hdf(h5File4, \"/data/cleaned_data\")\n",
    "\n",
    "# select only the sample with no missing values for mortality or funding level\n",
    "df2019.dropna()\n"
   ]
  },
  {
   "cell_type": "code",
   "execution_count": 32,
   "id": "6e0a411d-e4ee-420b-9b0c-d94d8e0e41b8",
   "metadata": {},
   "outputs": [
    {
     "data": {
      "application/vnd.plotly.v1+json": {
       "config": {
        "plotlyServerURL": "https://plot.ly"
       },
       "data": [
        {
         "customdata": [
          [
           "Acquired Cognitive Impairment "
          ],
          [
           "Acute Respiratory Distress Syndrome "
          ],
          [
           "Adolescent Sexual Activity "
          ],
          [
           "Agent Orange & Dioxin "
          ],
          [
           "Aging "
          ],
          [
           "Alcoholism, Alcohol Use and Health 1"
          ],
          [
           "Allergic Rhinitis (Hay Fever) "
          ],
          [
           "ALS "
          ],
          [
           "Alzheimer's Disease "
          ],
          [
           "Alzheimer's Disease including Alzheimer's Disease Related Dementias (AD/ADRD) 2"
          ],
          [
           "Alzheimer's Disease Related Dementias (ADRD) 2"
          ],
          [
           "American Indian or Alaska Native 22"
          ],
          [
           "Anorexia "
          ],
          [
           "Anthrax "
          ],
          [
           "Antimicrobial Resistance "
          ],
          [
           "Anxiety Disorders "
          ],
          [
           "Aphasia "
          ],
          [
           "Arctic "
          ],
          [
           "Arthritis "
          ],
          [
           "Assistive Technology "
          ],
          [
           "Asthma "
          ],
          [
           "Ataxia Telangiectasia "
          ],
          [
           "Atherosclerosis "
          ],
          [
           "Attention Deficit Disorder (ADD) "
          ],
          [
           "Autism "
          ],
          [
           "Autoimmune Disease "
          ],
          [
           "Back Pain "
          ],
          [
           "Basic Behavioral and Social Science "
          ],
          [
           "Batten Disease "
          ],
          [
           "Behavioral and Social Science "
          ],
          [
           "Biodefense 3"
          ],
          [
           "Bioengineering "
          ],
          [
           "Biomedical Imaging 23"
          ],
          [
           "Biotechnology "
          ],
          [
           "Bipolar Disorder "
          ],
          [
           "Brain Cancer "
          ],
          [
           "Brain Disorders "
          ],
          [
           "Breast Cancer "
          ],
          [
           "Breastfeeding, Lactation and Breast Milk "
          ],
          [
           "Burden of Illness "
          ],
          [
           "Cachexia "
          ],
          [
           "Cancer "
          ],
          [
           "Cancer Genomics "
          ],
          [
           "Cannabidiol Research "
          ],
          [
           "Cannabinoid Research "
          ],
          [
           "Cardiovascular "
          ],
          [
           "Caregiving Research "
          ],
          [
           "Cerebral Palsy "
          ],
          [
           "Cerebrovascular "
          ],
          [
           "Cervical Cancer "
          ],
          [
           "Charcot-Marie-Tooth Disease "
          ],
          [
           "Child Abuse and Neglect Research "
          ],
          [
           "Childhood Leukemia "
          ],
          [
           "Childhood Obesity "
          ],
          [
           "Chronic Fatigue Syndrome (ME/CFS) "
          ],
          [
           "Chronic Liver Disease and Cirrhosis "
          ],
          [
           "Chronic Obstructive Pulmonary Disease "
          ],
          [
           "Chronic Pain 14"
          ],
          [
           "Climate Change 12"
          ],
          [
           "Climate-Related Exposures and Conditions "
          ],
          [
           "Clinical Research "
          ],
          [
           "Clinical Trials and Supportive Activities 17"
          ],
          [
           "Colo-Rectal Cancer "
          ],
          [
           "Comparative Effectiveness Research "
          ],
          [
           "Complementary and Integrative Health 27"
          ],
          [
           "Conditions Affecting the Embryonic and Fetal Periods 15"
          ],
          [
           "Congenital Heart Disease "
          ],
          [
           "Congenital Muscular Dystrophy "
          ],
          [
           "Congenital Structural Anomalies "
          ],
          [
           "Contraception/Reproduction "
          ],
          [
           "Cooley's Anemia "
          ],
          [
           "Coronaviruses 28"
          ],
          [
           "Cost Effectiveness Research "
          ],
          [
           "Crohn's Disease "
          ],
          [
           "Cystic Fibrosis "
          ],
          [
           "Data Science "
          ],
          [
           "Dementia "
          ],
          [
           "Dental/Oral and Craniofacial Disease "
          ],
          [
           "Depression "
          ],
          [
           "Diabetes 4"
          ],
          [
           "Dietary Supplements "
          ],
          [
           "Diethylstilbestrol (DES) "
          ],
          [
           "Digestive Diseases "
          ],
          [
           "Digestive Diseases - (Gallbladder) "
          ],
          [
           "Digestive Diseases - (Peptic Ulcer) "
          ],
          [
           "Down Syndrome "
          ],
          [
           "Drug Abuse (NIDA only) 5"
          ],
          [
           "Duchenne/ Becker Muscular Dystrophy "
          ],
          [
           "Dystonia "
          ],
          [
           "Eating Disorders 6"
          ],
          [
           "Eczema / Atopic Dermatitis "
          ],
          [
           "Electronic Nicotine Delivery Systems "
          ],
          [
           "Emergency Care "
          ],
          [
           "Emerging Infectious Diseases "
          ],
          [
           "Emphysema "
          ],
          [
           "Endocannabinoid System Research "
          ],
          [
           "Endocrine Disruptors "
          ],
          [
           "Endometriosis "
          ],
          [
           "Epilepsy "
          ],
          [
           "Esophageal Cancer "
          ],
          [
           "Estrogen "
          ],
          [
           "Eye Disease and Disorders of Vision "
          ],
          [
           "Facioscapulohumeral Muscular Dystrophy "
          ],
          [
           "Fetal Alcohol Syndrome "
          ],
          [
           "Fibroid Tumors (Uterine) "
          ],
          [
           "Fibromyalgia "
          ],
          [
           "Firearms Research "
          ],
          [
           "Food Allergies "
          ],
          [
           "Foodborne Illness 7"
          ],
          [
           "Fragile X Syndrome "
          ],
          [
           "Frontotemporal Dementia (FTD) "
          ],
          [
           "Gene Therapy "
          ],
          [
           "Gene Therapy Clinical Trials "
          ],
          [
           "Genetic Testing "
          ],
          [
           "Genetics "
          ],
          [
           "Headaches "
          ],
          [
           "Health Disparities 8"
          ],
          [
           "Health Effects of Household Energy Combustion "
          ],
          [
           "Health Effects of Indoor Air Pollution "
          ],
          [
           "Health Services "
          ],
          [
           "Hearing Loss "
          ],
          [
           "Heart Disease "
          ],
          [
           "Heart Disease - Coronary Heart Disease "
          ],
          [
           "Hematology "
          ],
          [
           "Hepatitis "
          ],
          [
           "Hepatitis - A "
          ],
          [
           "Hepatitis - B "
          ],
          [
           "Hepatitis - C "
          ],
          [
           "HIV/AIDS 9"
          ],
          [
           "Hodgkin's Disease "
          ],
          [
           "Homelessness "
          ],
          [
           "Homicide and Legal Interventions "
          ],
          [
           "HPV and/or Cervical Cancer Vaccines "
          ],
          [
           "Human Fetal Tissue 11"
          ],
          [
           "Human Genome "
          ],
          [
           "Huntington's Disease "
          ],
          [
           "Hydrocephalus "
          ],
          [
           "Hyperbaric Oxygen "
          ],
          [
           "Hypertension "
          ],
          [
           "Immunization "
          ],
          [
           "Immunotherapy "
          ],
          [
           "Infant Mortality "
          ],
          [
           "Infectious Diseases "
          ],
          [
           "Infertility "
          ],
          [
           "Inflammatory Bowel Disease "
          ],
          [
           "Influenza "
          ],
          [
           "Injury - Childhood Injuries "
          ],
          [
           "Injury - Trauma - (Head and Spine) "
          ],
          [
           "Injury - Traumatic brain injury "
          ],
          [
           "Injury - Unintentional Childhood Injury "
          ],
          [
           "Intellectual and Developmental Disabilities (IDD) 15"
          ],
          [
           "Interstitial Cystitis "
          ],
          [
           "Kidney Disease "
          ],
          [
           "Lead Poisoning "
          ],
          [
           "Lewy Body Dementia "
          ],
          [
           "Liver Cancer "
          ],
          [
           "Liver Disease "
          ],
          [
           "Lung "
          ],
          [
           "Lung Cancer "
          ],
          [
           "Lupus "
          ],
          [
           "Lyme Disease "
          ],
          [
           "Lymphoma "
          ],
          [
           "Machine Learning and Artificial Intelligence "
          ],
          [
           "Macular Degeneration "
          ],
          [
           "Major Depressive Disorder "
          ],
          [
           "Malaria "
          ],
          [
           "Malaria Vaccine "
          ],
          [
           "Maternal Health "
          ],
          [
           "Maternal Morbidity and Mortality "
          ],
          [
           "Mental Health "
          ],
          [
           "Mental Illness "
          ],
          [
           "Methamphetamine "
          ],
          [
           "Microbiome "
          ],
          [
           "Migraines "
          ],
          [
           "Mind and Body "
          ],
          [
           "Minority Health 8"
          ],
          [
           "Mucopolysaccharidoses (MPS) "
          ],
          [
           "Multiple Sclerosis "
          ],
          [
           "Muscular Dystrophy "
          ],
          [
           "Myasthenia Gravis "
          ],
          [
           "Myotonic Dystrophy "
          ],
          [
           "Nanotechnology 12"
          ],
          [
           "Neck Pain "
          ],
          [
           "Neonatal Respiratory Distress 20"
          ],
          [
           "Networking and Information Technology R&D (NITRD) 12"
          ],
          [
           "Neuroblastoma "
          ],
          [
           "Neurodegenerative "
          ],
          [
           "Neurofibromatosis "
          ],
          [
           "Neurosciences "
          ],
          [
           "Nutrition "
          ],
          [
           "Obesity "
          ],
          [
           "Opioid Misuse and Addiction 26"
          ],
          [
           "Opioids 26"
          ],
          [
           "Organ Transplantation "
          ],
          [
           "Orphan Drug "
          ],
          [
           "Osteoarthritis "
          ],
          [
           "Osteogenesis Imperfecta "
          ],
          [
           "Osteoporosis "
          ],
          [
           "Otitis Media "
          ],
          [
           "Ovarian Cancer "
          ],
          [
           "Paget's Disease "
          ],
          [
           "Pain Research 26"
          ],
          [
           "Pancreatic Cancer "
          ],
          [
           "Parkinson's Disease "
          ],
          [
           "Patient Safety "
          ],
          [
           "Pediatric "
          ],
          [
           "Pediatric AIDS 9"
          ],
          [
           "Pediatric Cancer "
          ],
          [
           "Pediatric Cardiomyopathy "
          ],
          [
           "Pelvic Inflammatory Disease "
          ],
          [
           "Perinatal Period - Conditions Originating in Perinatal Period "
          ],
          [
           "Peripheral Neuropathy 18"
          ],
          [
           "Physical Activity "
          ],
          [
           "Physical Injury - Accidents and Adverse Effects 29"
          ],
          [
           "Physical Rehabilitation "
          ],
          [
           "Pick's Disease "
          ],
          [
           "Pneumonia "
          ],
          [
           "Pneumonia & Influenza "
          ],
          [
           "Polycystic Kidney Disease "
          ],
          [
           "Post-Traumatic Stress Disorder (PTSD) "
          ],
          [
           "Postural Orthostatic Tachycardia Syndrome "
          ],
          [
           "Precision Medicine "
          ],
          [
           "Pregnancy "
          ],
          [
           "Prescription Drug Abuse "
          ],
          [
           "Preterm, Low Birth Weight and Health of the Newborn 21"
          ],
          [
           "Prevention "
          ],
          [
           "Prostate Cancer "
          ],
          [
           "Psoriasis "
          ],
          [
           "Radiation Oncology "
          ],
          [
           "Rare Diseases "
          ],
          [
           "Regenerative Medicine "
          ],
          [
           "Rehabilitation "
          ],
          [
           "Rett Syndrome "
          ],
          [
           "Rheumatoid Arthritis "
          ],
          [
           "Rural Health "
          ],
          [
           "Sarcopenia "
          ],
          [
           "Schizophrenia "
          ],
          [
           "Scleroderma "
          ],
          [
           "Screening And Brief Intervention For Substance Abuse "
          ],
          [
           "Sepsis 15"
          ],
          [
           "Serious Mental Illness "
          ],
          [
           "Sexual and Gender Minorities (SGM/LGBT*) 10"
          ],
          [
           "Sexually Transmitted Infections 24"
          ],
          [
           "Sickle Cell Disease "
          ],
          [
           "Sleep Research "
          ],
          [
           "Small Pox "
          ],
          [
           "Social Determinants of Health "
          ],
          [
           "Spina Bifida "
          ],
          [
           "Spinal Cord Injury "
          ],
          [
           "Spinal Muscular Atrophy "
          ],
          [
           "Stem Cell Research "
          ],
          [
           "Stem Cell Research - Embryonic - Human "
          ],
          [
           "Stem Cell Research - Embryonic - Non-Human "
          ],
          [
           "Stem Cell Research - Induced Pluripotent Stem Cell "
          ],
          [
           "Stem Cell Research - Induced Pluripotent Stem Cell - Human "
          ],
          [
           "Stem Cell Research - Induced Pluripotent Stem Cell - Non-Human "
          ],
          [
           "Stem Cell Research - Nonembryonic - Human "
          ],
          [
           "Stem Cell Research - Nonembryonic - Non-Human "
          ],
          [
           "Stem Cell Research - Umbilical Cord Blood/ Placenta "
          ],
          [
           "Stem Cell Research - Umbilical Cord Blood/ Placenta - Human "
          ],
          [
           "Stem Cell Research - Umbilical Cord Blood/ Placenta - Non-Human "
          ],
          [
           "Stomach Cancer "
          ],
          [
           "Stroke "
          ],
          [
           "Substance Abuse 13"
          ],
          [
           "Substance Abuse Prevention "
          ],
          [
           "Sudden Infant Death Syndrome "
          ],
          [
           "Suicide "
          ],
          [
           "Suicide Prevention "
          ],
          [
           "Teenage Pregnancy "
          ],
          [
           "Temporomandibular Muscle/Joint Disorder (TMJD) "
          ],
          [
           "Therapeutic Cannabinoid Research "
          ],
          [
           "Tobacco "
          ],
          [
           "Tobacco Smoke and Health 25"
          ],
          [
           "Topical Microbicides "
          ],
          [
           "Tourette Syndrome "
          ],
          [
           "Transmissible Spongiform Encephalopathy (TSE) "
          ],
          [
           "Transplantation "
          ],
          [
           "Tuberculosis "
          ],
          [
           "Tuberculosis Vaccine "
          ],
          [
           "Tuberous Sclerosis "
          ],
          [
           "Underage Drinking "
          ],
          [
           "Underage Drinking - Prevention & Treatment (NIAAA Only) 16"
          ],
          [
           "Urologic Diseases "
          ],
          [
           "Usher Syndrome "
          ],
          [
           "Uterine Cancer "
          ],
          [
           "Vaccine Related "
          ],
          [
           "Vaccine Related (AIDS) 9"
          ],
          [
           "Vaginal Cancer "
          ],
          [
           "Valley Fever "
          ],
          [
           "Vascular Cognitive Impairment/Dementia "
          ],
          [
           "Vector-Borne Diseases "
          ],
          [
           "Violence Against Women "
          ],
          [
           "Violence Research "
          ],
          [
           "Vulvodynia "
          ],
          [
           "West Nile Virus "
          ],
          [
           "Women's Health 8"
          ],
          [
           "Wound Healing and Care "
          ],
          [
           "Youth Violence "
          ],
          [
           "Youth Violence Prevention "
          ]
         ],
         "hovertemplate": "Funding Amount (Millions)=%{x}<br>Total Mortality (2019)=%{y}<br>Research Category=%{customdata[0]}<extra></extra>",
         "legendgroup": "",
         "marker": {
          "color": "#636efa",
          "symbol": "circle"
         },
         "mode": "markers",
         "name": "",
         "orientation": "v",
         "showlegend": false,
         "type": "scatter",
         "x": [
          2423,
          126,
          102,
          8,
          4653,
          556,
          7,
          105,
          2240,
          2398,
          515,
          214,
          11,
          29,
          577,
          233,
          43,
          27,
          268,
          385,
          313,
          8,
          400,
          64,
          290,
          988,
          170,
          2561,
          6,
          6499,
          2353,
          5091,
          2352,
          7219,
          89,
          359,
          6954,
          709,
          85,
          110,
          19,
          6520,
          1018,
          31,
          189,
          2394,
          151,
          28,
          759,
          106,
          13,
          43,
          178,
          266,
          15,
          351,
          112,
          856,
          10,
          235,
          15868,
          6058,
          294,
          991,
          517,
          285,
          131,
          10,
          518,
          547,
          22,
          null,
          308,
          76,
          82,
          662,
          2326,
          613,
          578,
          1099,
          293,
          2,
          2173,
          16,
          8,
          86,
          1621,
          34,
          18,
          44,
          35,
          null,
          166,
          2950,
          27,
          73,
          187,
          13,
          188,
          null,
          243,
          985,
          10,
          34,
          17,
          13,
          null,
          62,
          141,
          37,
          158,
          391,
          46,
          183,
          9864,
          40,
          3381,
          20,
          112,
          2310,
          163,
          1443,
          421,
          1474,
          378,
          3,
          67,
          150,
          3037,
          12,
          17,
          3,
          40,
          109,
          3895,
          48,
          10,
          4,
          266,
          2351,
          1436,
          105,
          6313,
          151,
          163,
          384,
          169,
          262,
          134,
          67,
          564,
          11,
          649,
          11,
          66,
          127,
          851,
          1946,
          419,
          121,
          32,
          248,
          585,
          124,
          131,
          196,
          58,
          334,
          null,
          3296,
          1063,
          47,
          766,
          28,
          390,
          3188,
          8,
          111,
          83,
          5,
          12,
          650,
          2,
          79,
          1550,
          58,
          3578,
          36,
          9468,
          1931,
          1109,
          811,
          978,
          191,
          1999,
          85,
          12,
          151,
          13,
          168,
          2,
          1011,
          219,
          224,
          1454,
          4922,
          179,
          546,
          25,
          5,
          784,
          202,
          576,
          897,
          200,
          11,
          146,
          521,
          31,
          138,
          null,
          1795,
          487,
          223,
          374,
          9485,
          263,
          16,
          351,
          5655,
          1069,
          744,
          15,
          94,
          541,
          22,
          263,
          24,
          61,
          137,
          455,
          258,
          354,
          139,
          436,
          10,
          null,
          16,
          103,
          13,
          2014,
          306,
          140,
          607,
          563,
          74,
          569,
          781,
          38,
          36,
          2,
          null,
          350,
          2460,
          62,
          11,
          117,
          60,
          17,
          17,
          46,
          320,
          301,
          84,
          11,
          34,
          733,
          488,
          61,
          25,
          97,
          58,
          546,
          17,
          36,
          2236,
          598,
          4,
          16,
          299,
          611,
          37,
          141,
          2,
          24,
          4469,
          null,
          48,
          24
         ],
         "xaxis": "x",
         "y": [
          null,
          10482,
          null,
          null,
          null,
          87566,
          98,
          null,
          146659,
          null,
          null,
          null,
          124,
          null,
          null,
          null,
          2477,
          null,
          null,
          null,
          10753,
          14,
          28625,
          85,
          362,
          null,
          null,
          null,
          null,
          null,
          null,
          null,
          null,
          null,
          null,
          17862,
          null,
          52938,
          null,
          null,
          10313,
          690509,
          null,
          null,
          null,
          1574518,
          null,
          3822,
          256352,
          4687,
          null,
          null,
          null,
          null,
          16,
          76761,
          312688,
          null,
          null,
          null,
          null,
          null,
          61368,
          null,
          null,
          null,
          null,
          null,
          null,
          null,
          null,
          null,
          null,
          2182,
          451,
          null,
          null,
          null,
          18054,
          283378,
          null,
          null,
          null,
          6626,
          7114,
          2249,
          null,
          null,
          241,
          217,
          null,
          null,
          null,
          null,
          17786,
          null,
          null,
          40,
          7711,
          1181,
          null,
          null,
          null,
          19,
          100,
          592,
          null,
          null,
          null,
          38,
          2300,
          null,
          null,
          null,
          null,
          null,
          null,
          null,
          null,
          null,
          null,
          1592187,
          542903,
          null,
          null,
          225,
          1672,
          14242,
          7150,
          1446,
          null,
          null,
          null,
          null,
          null,
          1367,
          null,
          null,
          516955,
          null,
          null,
          null,
          null,
          null,
          3646,
          7611,
          null,
          null,
          null,
          null,
          null,
          39,
          null,
          2,
          null,
          30898,
          154284,
          null,
          150790,
          3554,
          96,
          27075,
          null,
          718,
          null,
          9,
          null,
          null,
          1820,
          null,
          null,
          null,
          null,
          null,
          null,
          null,
          73,
          6497,
          1208,
          2000,
          null,
          null,
          null,
          791,
          null,
          null,
          null,
          360,
          null,
          null,
          47466,
          68126,
          null,
          null,
          null,
          null,
          85,
          7252,
          91,
          14620,
          131,
          null,
          48250,
          52359,
          null,
          null,
          null,
          null,
          null,
          366,
          13712,
          null,
          null,
          null,
          null,
          null,
          140661,
          148272,
          801,
          1993,
          null,
          null,
          null,
          null,
          4854,
          null,
          44395,
          572,
          null,
          null,
          null,
          null,
          85,
          9211,
          null,
          null,
          4624,
          8,
          null,
          201142,
          null,
          null,
          null,
          975,
          null,
          null,
          null,
          408,
          1410,
          117,
          null,
          null,
          null,
          null,
          null,
          null,
          null,
          null,
          null,
          null,
          null,
          12030,
          214334,
          null,
          null,
          1277,
          47612,
          null,
          null,
          1,
          null,
          null,
          null,
          null,
          20,
          658,
          null,
          982,
          null,
          59,
          null,
          null,
          null,
          null,
          13036,
          null,
          null,
          null,
          null,
          null,
          null,
          null,
          null,
          null,
          90,
          null,
          null,
          null,
          null
         ],
         "yaxis": "y"
        },
        {
         "hovertemplate": "<b>OLS trendline</b><br>2019_US_Mortality_19 = 160.163 * 2019 + 23827.6<br>R<sup>2</sup>=0.270612<br><br>Funding Amount (Millions)=%{x}<br>Total Mortality (2019)=%{y} <b>(trend)</b><extra></extra>",
         "legendgroup": "",
         "marker": {
          "color": "#636efa",
          "symbol": "circle"
         },
         "mode": "lines",
         "name": "",
         "showlegend": false,
         "type": "scatter",
         "x": [
          2,
          3,
          5,
          5,
          7,
          8,
          8,
          8,
          11,
          11,
          11,
          11,
          11,
          12,
          12,
          13,
          13,
          13,
          13,
          15,
          15,
          16,
          16,
          16,
          17,
          17,
          18,
          19,
          24,
          24,
          25,
          27,
          28,
          31,
          32,
          34,
          34,
          36,
          36,
          37,
          43,
          44,
          48,
          64,
          67,
          76,
          79,
          82,
          83,
          86,
          94,
          103,
          106,
          111,
          112,
          117,
          121,
          124,
          126,
          127,
          137,
          138,
          139,
          146,
          150,
          151,
          158,
          163,
          168,
          188,
          196,
          219,
          224,
          248,
          263,
          263,
          266,
          290,
          294,
          313,
          350,
          351,
          359,
          374,
          384,
          400,
          419,
          421,
          488,
          521,
          556,
          578,
          709,
          759,
          784,
          811,
          851,
          1099,
          1109,
          1443,
          2240,
          2394,
          3037,
          6520
         ],
         "xaxis": "x",
         "y": [
          24147.97331540325,
          24308.136359310894,
          24628.46244712618,
          24628.46244712618,
          24948.78853494147,
          25108.95157884911,
          25108.95157884911,
          25108.95157884911,
          25589.440710572042,
          25589.440710572042,
          25589.440710572042,
          25589.440710572042,
          25589.440710572042,
          25749.603754479685,
          25749.603754479685,
          25909.76679838733,
          25909.76679838733,
          25909.76679838733,
          25909.76679838733,
          26230.092886202616,
          26230.092886202616,
          26390.25593011026,
          26390.25593011026,
          26390.25593011026,
          26550.418974017903,
          26550.418974017903,
          26710.582017925546,
          26870.745061833193,
          27671.560281371407,
          27671.560281371407,
          27831.723325279054,
          28152.04941309434,
          28312.212457001984,
          28792.701588724914,
          28952.864632632558,
          29273.190720447845,
          29273.190720447845,
          29593.51680826313,
          29593.51680826313,
          29753.679852170775,
          30714.658115616636,
          30874.82115952428,
          31515.473335154853,
          34078.08203767715,
          34558.57116940008,
          36000.03856456887,
          36480.5276962918,
          36961.01682801473,
          37121.17987192237,
          37601.66900364531,
          38882.973354906455,
          40324.44075007524,
          40804.929881798176,
          41605.7451013364,
          41765.908145244044,
          42566.72336478226,
          43207.37554041283,
          43687.864672135765,
          44008.190759951045,
          44168.35380385869,
          45769.98424293513,
          45930.147286842766,
          46090.31033075041,
          47211.451638103914,
          47852.103813734495,
          48012.26685764214,
          49133.40816499564,
          49934.22338453386,
          50735.03860407208,
          53938.299482224946,
          55219.60383348609,
          58903.353843361896,
          59704.16906290012,
          63548.08211668356,
          65950.52777529822,
          65950.52777529822,
          66431.01690702114,
          70274.92996080458,
          70915.58213643516,
          73958.67997068039,
          79884.7125952632,
          80044.87563917084,
          81326.17999043199,
          83728.62564904665,
          85330.25608812307,
          87892.86479064537,
          90935.9626248906,
          91256.2887127059,
          101987.212654518,
          107272.59310347024,
          112878.29964023776,
          116401.88660620592,
          137383.2453581072,
          145391.3975534894,
          149395.4736511805,
          153719.87583668687,
          160126.3975929926,
          199846.8324820882,
          201448.46292116464,
          254942.91958631758,
          382592.8655807094,
          407257.9743424866,
          510242.81157510134,
          1068090.6935054238
         ],
         "yaxis": "y"
        }
       ],
       "layout": {
        "height": 600,
        "legend": {
         "tracegroupgap": 0
        },
        "margin": {
         "t": 60
        },
        "template": {
         "data": {
          "bar": [
           {
            "error_x": {
             "color": "#2a3f5f"
            },
            "error_y": {
             "color": "#2a3f5f"
            },
            "marker": {
             "line": {
              "color": "#E5ECF6",
              "width": 0.5
             },
             "pattern": {
              "fillmode": "overlay",
              "size": 10,
              "solidity": 0.2
             }
            },
            "type": "bar"
           }
          ],
          "barpolar": [
           {
            "marker": {
             "line": {
              "color": "#E5ECF6",
              "width": 0.5
             },
             "pattern": {
              "fillmode": "overlay",
              "size": 10,
              "solidity": 0.2
             }
            },
            "type": "barpolar"
           }
          ],
          "carpet": [
           {
            "aaxis": {
             "endlinecolor": "#2a3f5f",
             "gridcolor": "white",
             "linecolor": "white",
             "minorgridcolor": "white",
             "startlinecolor": "#2a3f5f"
            },
            "baxis": {
             "endlinecolor": "#2a3f5f",
             "gridcolor": "white",
             "linecolor": "white",
             "minorgridcolor": "white",
             "startlinecolor": "#2a3f5f"
            },
            "type": "carpet"
           }
          ],
          "choropleth": [
           {
            "colorbar": {
             "outlinewidth": 0,
             "ticks": ""
            },
            "type": "choropleth"
           }
          ],
          "contour": [
           {
            "colorbar": {
             "outlinewidth": 0,
             "ticks": ""
            },
            "colorscale": [
             [
              0,
              "#0d0887"
             ],
             [
              0.1111111111111111,
              "#46039f"
             ],
             [
              0.2222222222222222,
              "#7201a8"
             ],
             [
              0.3333333333333333,
              "#9c179e"
             ],
             [
              0.4444444444444444,
              "#bd3786"
             ],
             [
              0.5555555555555556,
              "#d8576b"
             ],
             [
              0.6666666666666666,
              "#ed7953"
             ],
             [
              0.7777777777777778,
              "#fb9f3a"
             ],
             [
              0.8888888888888888,
              "#fdca26"
             ],
             [
              1,
              "#f0f921"
             ]
            ],
            "type": "contour"
           }
          ],
          "contourcarpet": [
           {
            "colorbar": {
             "outlinewidth": 0,
             "ticks": ""
            },
            "type": "contourcarpet"
           }
          ],
          "heatmap": [
           {
            "colorbar": {
             "outlinewidth": 0,
             "ticks": ""
            },
            "colorscale": [
             [
              0,
              "#0d0887"
             ],
             [
              0.1111111111111111,
              "#46039f"
             ],
             [
              0.2222222222222222,
              "#7201a8"
             ],
             [
              0.3333333333333333,
              "#9c179e"
             ],
             [
              0.4444444444444444,
              "#bd3786"
             ],
             [
              0.5555555555555556,
              "#d8576b"
             ],
             [
              0.6666666666666666,
              "#ed7953"
             ],
             [
              0.7777777777777778,
              "#fb9f3a"
             ],
             [
              0.8888888888888888,
              "#fdca26"
             ],
             [
              1,
              "#f0f921"
             ]
            ],
            "type": "heatmap"
           }
          ],
          "heatmapgl": [
           {
            "colorbar": {
             "outlinewidth": 0,
             "ticks": ""
            },
            "colorscale": [
             [
              0,
              "#0d0887"
             ],
             [
              0.1111111111111111,
              "#46039f"
             ],
             [
              0.2222222222222222,
              "#7201a8"
             ],
             [
              0.3333333333333333,
              "#9c179e"
             ],
             [
              0.4444444444444444,
              "#bd3786"
             ],
             [
              0.5555555555555556,
              "#d8576b"
             ],
             [
              0.6666666666666666,
              "#ed7953"
             ],
             [
              0.7777777777777778,
              "#fb9f3a"
             ],
             [
              0.8888888888888888,
              "#fdca26"
             ],
             [
              1,
              "#f0f921"
             ]
            ],
            "type": "heatmapgl"
           }
          ],
          "histogram": [
           {
            "marker": {
             "pattern": {
              "fillmode": "overlay",
              "size": 10,
              "solidity": 0.2
             }
            },
            "type": "histogram"
           }
          ],
          "histogram2d": [
           {
            "colorbar": {
             "outlinewidth": 0,
             "ticks": ""
            },
            "colorscale": [
             [
              0,
              "#0d0887"
             ],
             [
              0.1111111111111111,
              "#46039f"
             ],
             [
              0.2222222222222222,
              "#7201a8"
             ],
             [
              0.3333333333333333,
              "#9c179e"
             ],
             [
              0.4444444444444444,
              "#bd3786"
             ],
             [
              0.5555555555555556,
              "#d8576b"
             ],
             [
              0.6666666666666666,
              "#ed7953"
             ],
             [
              0.7777777777777778,
              "#fb9f3a"
             ],
             [
              0.8888888888888888,
              "#fdca26"
             ],
             [
              1,
              "#f0f921"
             ]
            ],
            "type": "histogram2d"
           }
          ],
          "histogram2dcontour": [
           {
            "colorbar": {
             "outlinewidth": 0,
             "ticks": ""
            },
            "colorscale": [
             [
              0,
              "#0d0887"
             ],
             [
              0.1111111111111111,
              "#46039f"
             ],
             [
              0.2222222222222222,
              "#7201a8"
             ],
             [
              0.3333333333333333,
              "#9c179e"
             ],
             [
              0.4444444444444444,
              "#bd3786"
             ],
             [
              0.5555555555555556,
              "#d8576b"
             ],
             [
              0.6666666666666666,
              "#ed7953"
             ],
             [
              0.7777777777777778,
              "#fb9f3a"
             ],
             [
              0.8888888888888888,
              "#fdca26"
             ],
             [
              1,
              "#f0f921"
             ]
            ],
            "type": "histogram2dcontour"
           }
          ],
          "mesh3d": [
           {
            "colorbar": {
             "outlinewidth": 0,
             "ticks": ""
            },
            "type": "mesh3d"
           }
          ],
          "parcoords": [
           {
            "line": {
             "colorbar": {
              "outlinewidth": 0,
              "ticks": ""
             }
            },
            "type": "parcoords"
           }
          ],
          "pie": [
           {
            "automargin": true,
            "type": "pie"
           }
          ],
          "scatter": [
           {
            "fillpattern": {
             "fillmode": "overlay",
             "size": 10,
             "solidity": 0.2
            },
            "type": "scatter"
           }
          ],
          "scatter3d": [
           {
            "line": {
             "colorbar": {
              "outlinewidth": 0,
              "ticks": ""
             }
            },
            "marker": {
             "colorbar": {
              "outlinewidth": 0,
              "ticks": ""
             }
            },
            "type": "scatter3d"
           }
          ],
          "scattercarpet": [
           {
            "marker": {
             "colorbar": {
              "outlinewidth": 0,
              "ticks": ""
             }
            },
            "type": "scattercarpet"
           }
          ],
          "scattergeo": [
           {
            "marker": {
             "colorbar": {
              "outlinewidth": 0,
              "ticks": ""
             }
            },
            "type": "scattergeo"
           }
          ],
          "scattergl": [
           {
            "marker": {
             "colorbar": {
              "outlinewidth": 0,
              "ticks": ""
             }
            },
            "type": "scattergl"
           }
          ],
          "scattermapbox": [
           {
            "marker": {
             "colorbar": {
              "outlinewidth": 0,
              "ticks": ""
             }
            },
            "type": "scattermapbox"
           }
          ],
          "scatterpolar": [
           {
            "marker": {
             "colorbar": {
              "outlinewidth": 0,
              "ticks": ""
             }
            },
            "type": "scatterpolar"
           }
          ],
          "scatterpolargl": [
           {
            "marker": {
             "colorbar": {
              "outlinewidth": 0,
              "ticks": ""
             }
            },
            "type": "scatterpolargl"
           }
          ],
          "scatterternary": [
           {
            "marker": {
             "colorbar": {
              "outlinewidth": 0,
              "ticks": ""
             }
            },
            "type": "scatterternary"
           }
          ],
          "surface": [
           {
            "colorbar": {
             "outlinewidth": 0,
             "ticks": ""
            },
            "colorscale": [
             [
              0,
              "#0d0887"
             ],
             [
              0.1111111111111111,
              "#46039f"
             ],
             [
              0.2222222222222222,
              "#7201a8"
             ],
             [
              0.3333333333333333,
              "#9c179e"
             ],
             [
              0.4444444444444444,
              "#bd3786"
             ],
             [
              0.5555555555555556,
              "#d8576b"
             ],
             [
              0.6666666666666666,
              "#ed7953"
             ],
             [
              0.7777777777777778,
              "#fb9f3a"
             ],
             [
              0.8888888888888888,
              "#fdca26"
             ],
             [
              1,
              "#f0f921"
             ]
            ],
            "type": "surface"
           }
          ],
          "table": [
           {
            "cells": {
             "fill": {
              "color": "#EBF0F8"
             },
             "line": {
              "color": "white"
             }
            },
            "header": {
             "fill": {
              "color": "#C8D4E3"
             },
             "line": {
              "color": "white"
             }
            },
            "type": "table"
           }
          ]
         },
         "layout": {
          "annotationdefaults": {
           "arrowcolor": "#2a3f5f",
           "arrowhead": 0,
           "arrowwidth": 1
          },
          "autotypenumbers": "strict",
          "coloraxis": {
           "colorbar": {
            "outlinewidth": 0,
            "ticks": ""
           }
          },
          "colorscale": {
           "diverging": [
            [
             0,
             "#8e0152"
            ],
            [
             0.1,
             "#c51b7d"
            ],
            [
             0.2,
             "#de77ae"
            ],
            [
             0.3,
             "#f1b6da"
            ],
            [
             0.4,
             "#fde0ef"
            ],
            [
             0.5,
             "#f7f7f7"
            ],
            [
             0.6,
             "#e6f5d0"
            ],
            [
             0.7,
             "#b8e186"
            ],
            [
             0.8,
             "#7fbc41"
            ],
            [
             0.9,
             "#4d9221"
            ],
            [
             1,
             "#276419"
            ]
           ],
           "sequential": [
            [
             0,
             "#0d0887"
            ],
            [
             0.1111111111111111,
             "#46039f"
            ],
            [
             0.2222222222222222,
             "#7201a8"
            ],
            [
             0.3333333333333333,
             "#9c179e"
            ],
            [
             0.4444444444444444,
             "#bd3786"
            ],
            [
             0.5555555555555556,
             "#d8576b"
            ],
            [
             0.6666666666666666,
             "#ed7953"
            ],
            [
             0.7777777777777778,
             "#fb9f3a"
            ],
            [
             0.8888888888888888,
             "#fdca26"
            ],
            [
             1,
             "#f0f921"
            ]
           ],
           "sequentialminus": [
            [
             0,
             "#0d0887"
            ],
            [
             0.1111111111111111,
             "#46039f"
            ],
            [
             0.2222222222222222,
             "#7201a8"
            ],
            [
             0.3333333333333333,
             "#9c179e"
            ],
            [
             0.4444444444444444,
             "#bd3786"
            ],
            [
             0.5555555555555556,
             "#d8576b"
            ],
            [
             0.6666666666666666,
             "#ed7953"
            ],
            [
             0.7777777777777778,
             "#fb9f3a"
            ],
            [
             0.8888888888888888,
             "#fdca26"
            ],
            [
             1,
             "#f0f921"
            ]
           ]
          },
          "colorway": [
           "#636efa",
           "#EF553B",
           "#00cc96",
           "#ab63fa",
           "#FFA15A",
           "#19d3f3",
           "#FF6692",
           "#B6E880",
           "#FF97FF",
           "#FECB52"
          ],
          "font": {
           "color": "#2a3f5f"
          },
          "geo": {
           "bgcolor": "white",
           "lakecolor": "white",
           "landcolor": "#E5ECF6",
           "showlakes": true,
           "showland": true,
           "subunitcolor": "white"
          },
          "hoverlabel": {
           "align": "left"
          },
          "hovermode": "closest",
          "mapbox": {
           "style": "light"
          },
          "paper_bgcolor": "white",
          "plot_bgcolor": "#E5ECF6",
          "polar": {
           "angularaxis": {
            "gridcolor": "white",
            "linecolor": "white",
            "ticks": ""
           },
           "bgcolor": "#E5ECF6",
           "radialaxis": {
            "gridcolor": "white",
            "linecolor": "white",
            "ticks": ""
           }
          },
          "scene": {
           "xaxis": {
            "backgroundcolor": "#E5ECF6",
            "gridcolor": "white",
            "gridwidth": 2,
            "linecolor": "white",
            "showbackground": true,
            "ticks": "",
            "zerolinecolor": "white"
           },
           "yaxis": {
            "backgroundcolor": "#E5ECF6",
            "gridcolor": "white",
            "gridwidth": 2,
            "linecolor": "white",
            "showbackground": true,
            "ticks": "",
            "zerolinecolor": "white"
           },
           "zaxis": {
            "backgroundcolor": "#E5ECF6",
            "gridcolor": "white",
            "gridwidth": 2,
            "linecolor": "white",
            "showbackground": true,
            "ticks": "",
            "zerolinecolor": "white"
           }
          },
          "shapedefaults": {
           "line": {
            "color": "#2a3f5f"
           }
          },
          "ternary": {
           "aaxis": {
            "gridcolor": "white",
            "linecolor": "white",
            "ticks": ""
           },
           "baxis": {
            "gridcolor": "white",
            "linecolor": "white",
            "ticks": ""
           },
           "bgcolor": "#E5ECF6",
           "caxis": {
            "gridcolor": "white",
            "linecolor": "white",
            "ticks": ""
           }
          },
          "title": {
           "x": 0.05
          },
          "xaxis": {
           "automargin": true,
           "gridcolor": "white",
           "linecolor": "white",
           "ticks": "",
           "title": {
            "standoff": 15
           },
           "zerolinecolor": "white",
           "zerolinewidth": 2
          },
          "yaxis": {
           "automargin": true,
           "gridcolor": "white",
           "linecolor": "white",
           "ticks": "",
           "title": {
            "standoff": 15
           },
           "zerolinecolor": "white",
           "zerolinewidth": 2
          }
         }
        },
        "title": {
         "text": "Comparison of Funding and Mortality Levels",
         "x": 0.5,
         "xanchor": "center",
         "y": 0.95,
         "yanchor": "top"
        },
        "width": 800,
        "xaxis": {
         "anchor": "y",
         "domain": [
          0,
          1
         ],
         "range": [
          0,
          7000
         ],
         "title": {
          "text": "Funding Amount (Millions)"
         },
         "type": "linear"
        },
        "yaxis": {
         "anchor": "x",
         "autorange": true,
         "domain": [
          0,
          1
         ],
         "range": [
          -104773.84747847478,
          1696961.8474784747
         ],
         "title": {
          "text": "Total Mortality (2019)"
         },
         "type": "linear"
        }
       }
      },
      "image/png": "[encoded data removed]",
      "text/html": [
       "<div>                            <div id=\"ed07278d-5f06-48db-8163-12a6a0f19eb4\" class=\"plotly-graph-div\" style=\"height:600px; width:800px;\"></div>            <script type=\"text/javascript\">                require([\"plotly\"], function(Plotly) {                    window.PLOTLYENV=window.PLOTLYENV || {};                                    if (document.getElementById(\"ed07278d-5f06-48db-8163-12a6a0f19eb4\")) {                    Plotly.newPlot(                        \"ed07278d-5f06-48db-8163-12a6a0f19eb4\",                        [{\"customdata\":[[\"Acquired Cognitive Impairment \"],[\"Acute Respiratory Distress Syndrome \"],[\"Adolescent Sexual Activity \"],[\"Agent Orange & Dioxin \"],[\"Aging \"],[\"Alcoholism, Alcohol Use and Health 1\"],[\"Allergic Rhinitis (Hay Fever) \"],[\"ALS \"],[\"Alzheimer's Disease \"],[\"Alzheimer's Disease including Alzheimer's Disease Related Dementias (AD/ADRD) 2\"],[\"Alzheimer's Disease Related Dementias (ADRD) 2\"],[\"American Indian or Alaska Native 22\"],[\"Anorexia \"],[\"Anthrax \"],[\"Antimicrobial Resistance \"],[\"Anxiety Disorders \"],[\"Aphasia \"],[\"Arctic \"],[\"Arthritis \"],[\"Assistive Technology \"],[\"Asthma \"],[\"Ataxia Telangiectasia \"],[\"Atherosclerosis \"],[\"Attention Deficit Disorder (ADD) \"],[\"Autism \"],[\"Autoimmune Disease \"],[\"Back Pain \"],[\"Basic Behavioral and Social Science \"],[\"Batten Disease \"],[\"Behavioral and Social Science \"],[\"Biodefense 3\"],[\"Bioengineering \"],[\"Biomedical Imaging 23\"],[\"Biotechnology \"],[\"Bipolar Disorder \"],[\"Brain Cancer \"],[\"Brain Disorders \"],[\"Breast Cancer \"],[\"Breastfeeding, Lactation and Breast Milk \"],[\"Burden of Illness \"],[\"Cachexia \"],[\"Cancer \"],[\"Cancer Genomics \"],[\"Cannabidiol Research \"],[\"Cannabinoid Research \"],[\"Cardiovascular \"],[\"Caregiving Research \"],[\"Cerebral Palsy \"],[\"Cerebrovascular \"],[\"Cervical Cancer \"],[\"Charcot-Marie-Tooth Disease \"],[\"Child Abuse and Neglect Research \"],[\"Childhood Leukemia \"],[\"Childhood Obesity \"],[\"Chronic Fatigue Syndrome (ME/CFS) \"],[\"Chronic Liver Disease and Cirrhosis \"],[\"Chronic Obstructive Pulmonary Disease \"],[\"Chronic Pain 14\"],[\"Climate Change 12\"],[\"Climate-Related Exposures and Conditions \"],[\"Clinical Research \"],[\"Clinical Trials and Supportive Activities 17\"],[\"Colo-Rectal Cancer \"],[\"Comparative Effectiveness Research \"],[\"Complementary and Integrative Health 27\"],[\"Conditions Affecting the Embryonic and Fetal Periods 15\"],[\"Congenital Heart Disease \"],[\"Congenital Muscular Dystrophy \"],[\"Congenital Structural Anomalies \"],[\"Contraception/Reproduction \"],[\"Cooley's Anemia \"],[\"Coronaviruses 28\"],[\"Cost Effectiveness Research \"],[\"Crohn's Disease \"],[\"Cystic Fibrosis \"],[\"Data Science \"],[\"Dementia \"],[\"Dental/Oral and Craniofacial Disease \"],[\"Depression \"],[\"Diabetes 4\"],[\"Dietary Supplements \"],[\"Diethylstilbestrol (DES) \"],[\"Digestive Diseases \"],[\"Digestive Diseases - (Gallbladder) \"],[\"Digestive Diseases - (Peptic Ulcer) \"],[\"Down Syndrome \"],[\"Drug Abuse (NIDA only) 5\"],[\"Duchenne/ Becker Muscular Dystrophy \"],[\"Dystonia \"],[\"Eating Disorders 6\"],[\"Eczema / Atopic Dermatitis \"],[\"Electronic Nicotine Delivery Systems \"],[\"Emergency Care \"],[\"Emerging Infectious Diseases \"],[\"Emphysema \"],[\"Endocannabinoid System Research \"],[\"Endocrine Disruptors \"],[\"Endometriosis \"],[\"Epilepsy \"],[\"Esophageal Cancer \"],[\"Estrogen \"],[\"Eye Disease and Disorders of Vision \"],[\"Facioscapulohumeral Muscular Dystrophy \"],[\"Fetal Alcohol Syndrome \"],[\"Fibroid Tumors (Uterine) \"],[\"Fibromyalgia \"],[\"Firearms Research \"],[\"Food Allergies \"],[\"Foodborne Illness 7\"],[\"Fragile X Syndrome \"],[\"Frontotemporal Dementia (FTD) \"],[\"Gene Therapy \"],[\"Gene Therapy Clinical Trials \"],[\"Genetic Testing \"],[\"Genetics \"],[\"Headaches \"],[\"Health Disparities 8\"],[\"Health Effects of Household Energy Combustion \"],[\"Health Effects of Indoor Air Pollution \"],[\"Health Services \"],[\"Hearing Loss \"],[\"Heart Disease \"],[\"Heart Disease - Coronary Heart Disease \"],[\"Hematology \"],[\"Hepatitis \"],[\"Hepatitis - A \"],[\"Hepatitis - B \"],[\"Hepatitis - C \"],[\"HIV/AIDS 9\"],[\"Hodgkin's Disease \"],[\"Homelessness \"],[\"Homicide and Legal Interventions \"],[\"HPV and/or Cervical Cancer Vaccines \"],[\"Human Fetal Tissue 11\"],[\"Human Genome \"],[\"Huntington's Disease \"],[\"Hydrocephalus \"],[\"Hyperbaric Oxygen \"],[\"Hypertension \"],[\"Immunization \"],[\"Immunotherapy \"],[\"Infant Mortality \"],[\"Infectious Diseases \"],[\"Infertility \"],[\"Inflammatory Bowel Disease \"],[\"Influenza \"],[\"Injury - Childhood Injuries \"],[\"Injury - Trauma - (Head and Spine) \"],[\"Injury - Traumatic brain injury \"],[\"Injury - Unintentional Childhood Injury \"],[\"Intellectual and Developmental Disabilities (IDD) 15\"],[\"Interstitial Cystitis \"],[\"Kidney Disease \"],[\"Lead Poisoning \"],[\"Lewy Body Dementia \"],[\"Liver Cancer \"],[\"Liver Disease \"],[\"Lung \"],[\"Lung Cancer \"],[\"Lupus \"],[\"Lyme Disease \"],[\"Lymphoma \"],[\"Machine Learning and Artificial Intelligence \"],[\"Macular Degeneration \"],[\"Major Depressive Disorder \"],[\"Malaria \"],[\"Malaria Vaccine \"],[\"Maternal Health \"],[\"Maternal Morbidity and Mortality \"],[\"Mental Health \"],[\"Mental Illness \"],[\"Methamphetamine \"],[\"Microbiome \"],[\"Migraines \"],[\"Mind and Body \"],[\"Minority Health 8\"],[\"Mucopolysaccharidoses (MPS) \"],[\"Multiple Sclerosis \"],[\"Muscular Dystrophy \"],[\"Myasthenia Gravis \"],[\"Myotonic Dystrophy \"],[\"Nanotechnology 12\"],[\"Neck Pain \"],[\"Neonatal Respiratory Distress 20\"],[\"Networking and Information Technology R&D (NITRD) 12\"],[\"Neuroblastoma \"],[\"Neurodegenerative \"],[\"Neurofibromatosis \"],[\"Neurosciences \"],[\"Nutrition \"],[\"Obesity \"],[\"Opioid Misuse and Addiction 26\"],[\"Opioids 26\"],[\"Organ Transplantation \"],[\"Orphan Drug \"],[\"Osteoarthritis \"],[\"Osteogenesis Imperfecta \"],[\"Osteoporosis \"],[\"Otitis Media \"],[\"Ovarian Cancer \"],[\"Paget's Disease \"],[\"Pain Research 26\"],[\"Pancreatic Cancer \"],[\"Parkinson's Disease \"],[\"Patient Safety \"],[\"Pediatric \"],[\"Pediatric AIDS 9\"],[\"Pediatric Cancer \"],[\"Pediatric Cardiomyopathy \"],[\"Pelvic Inflammatory Disease \"],[\"Perinatal Period - Conditions Originating in Perinatal Period \"],[\"Peripheral Neuropathy 18\"],[\"Physical Activity \"],[\"Physical Injury - Accidents and Adverse Effects 29\"],[\"Physical Rehabilitation \"],[\"Pick's Disease \"],[\"Pneumonia \"],[\"Pneumonia & Influenza \"],[\"Polycystic Kidney Disease \"],[\"Post-Traumatic Stress Disorder (PTSD) \"],[\"Postural Orthostatic Tachycardia Syndrome \"],[\"Precision Medicine \"],[\"Pregnancy \"],[\"Prescription Drug Abuse \"],[\"Preterm, Low Birth Weight and Health of the Newborn 21\"],[\"Prevention \"],[\"Prostate Cancer \"],[\"Psoriasis \"],[\"Radiation Oncology \"],[\"Rare Diseases \"],[\"Regenerative Medicine \"],[\"Rehabilitation \"],[\"Rett Syndrome \"],[\"Rheumatoid Arthritis \"],[\"Rural Health \"],[\"Sarcopenia \"],[\"Schizophrenia \"],[\"Scleroderma \"],[\"Screening And Brief Intervention For Substance Abuse \"],[\"Sepsis 15\"],[\"Serious Mental Illness \"],[\"Sexual and Gender Minorities (SGM/LGBT*) 10\"],[\"Sexually Transmitted Infections 24\"],[\"Sickle Cell Disease \"],[\"Sleep Research \"],[\"Small Pox \"],[\"Social Determinants of Health \"],[\"Spina Bifida \"],[\"Spinal Cord Injury \"],[\"Spinal Muscular Atrophy \"],[\"Stem Cell Research \"],[\"Stem Cell Research - Embryonic - Human \"],[\"Stem Cell Research - Embryonic - Non-Human \"],[\"Stem Cell Research - Induced Pluripotent Stem Cell \"],[\"Stem Cell Research - Induced Pluripotent Stem Cell - Human \"],[\"Stem Cell Research - Induced Pluripotent Stem Cell - Non-Human \"],[\"Stem Cell Research - Nonembryonic - Human \"],[\"Stem Cell Research - Nonembryonic - Non-Human \"],[\"Stem Cell Research - Umbilical Cord Blood/ Placenta \"],[\"Stem Cell Research - Umbilical Cord Blood/ Placenta - Human \"],[\"Stem Cell Research - Umbilical Cord Blood/ Placenta - Non-Human \"],[\"Stomach Cancer \"],[\"Stroke \"],[\"Substance Abuse 13\"],[\"Substance Abuse Prevention \"],[\"Sudden Infant Death Syndrome \"],[\"Suicide \"],[\"Suicide Prevention \"],[\"Teenage Pregnancy \"],[\"Temporomandibular Muscle/Joint Disorder (TMJD) \"],[\"Therapeutic Cannabinoid Research \"],[\"Tobacco \"],[\"Tobacco Smoke and Health 25\"],[\"Topical Microbicides \"],[\"Tourette Syndrome \"],[\"Transmissible Spongiform Encephalopathy (TSE) \"],[\"Transplantation \"],[\"Tuberculosis \"],[\"Tuberculosis Vaccine \"],[\"Tuberous Sclerosis \"],[\"Underage Drinking \"],[\"Underage Drinking - Prevention & Treatment (NIAAA Only) 16\"],[\"Urologic Diseases \"],[\"Usher Syndrome \"],[\"Uterine Cancer \"],[\"Vaccine Related \"],[\"Vaccine Related (AIDS) 9\"],[\"Vaginal Cancer \"],[\"Valley Fever \"],[\"Vascular Cognitive Impairment/Dementia \"],[\"Vector-Borne Diseases \"],[\"Violence Against Women \"],[\"Violence Research \"],[\"Vulvodynia \"],[\"West Nile Virus \"],[\"Women's Health 8\"],[\"Wound Healing and Care \"],[\"Youth Violence \"],[\"Youth Violence Prevention \"]],\"hovertemplate\":\"Funding Amount (Millions)=%{x}<br>Total Mortality (2019)=%{y}<br>Research Category=%{customdata[0]}<extra></extra>\",\"legendgroup\":\"\",\"marker\":{\"color\":\"#636efa\",\"symbol\":\"circle\"},\"mode\":\"markers\",\"name\":\"\",\"orientation\":\"v\",\"showlegend\":false,\"x\":[2423.0,126.0,102.0,8.0,4653.0,556.0,7.0,105.0,2240.0,2398.0,515.0,214.0,11.0,29.0,577.0,233.0,43.0,27.0,268.0,385.0,313.0,8.0,400.0,64.0,290.0,988.0,170.0,2561.0,6.0,6499.0,2353.0,5091.0,2352.0,7219.0,89.0,359.0,6954.0,709.0,85.0,110.0,19.0,6520.0,1018.0,31.0,189.0,2394.0,151.0,28.0,759.0,106.0,13.0,43.0,178.0,266.0,15.0,351.0,112.0,856.0,10.0,235.0,15868.0,6058.0,294.0,991.0,517.0,285.0,131.0,10.0,518.0,547.0,22.0,null,308.0,76.0,82.0,662.0,2326.0,613.0,578.0,1099.0,293.0,2.0,2173.0,16.0,8.0,86.0,1621.0,34.0,18.0,44.0,35.0,null,166.0,2950.0,27.0,73.0,187.0,13.0,188.0,null,243.0,985.0,10.0,34.0,17.0,13.0,null,62.0,141.0,37.0,158.0,391.0,46.0,183.0,9864.0,40.0,3381.0,20.0,112.0,2310.0,163.0,1443.0,421.0,1474.0,378.0,3.0,67.0,150.0,3037.0,12.0,17.0,3.0,40.0,109.0,3895.0,48.0,10.0,4.0,266.0,2351.0,1436.0,105.0,6313.0,151.0,163.0,384.0,169.0,262.0,134.0,67.0,564.0,11.0,649.0,11.0,66.0,127.0,851.0,1946.0,419.0,121.0,32.0,248.0,585.0,124.0,131.0,196.0,58.0,334.0,null,3296.0,1063.0,47.0,766.0,28.0,390.0,3188.0,8.0,111.0,83.0,5.0,12.0,650.0,2.0,79.0,1550.0,58.0,3578.0,36.0,9468.0,1931.0,1109.0,811.0,978.0,191.0,1999.0,85.0,12.0,151.0,13.0,168.0,2.0,1011.0,219.0,224.0,1454.0,4922.0,179.0,546.0,25.0,5.0,784.0,202.0,576.0,897.0,200.0,11.0,146.0,521.0,31.0,138.0,null,1795.0,487.0,223.0,374.0,9485.0,263.0,16.0,351.0,5655.0,1069.0,744.0,15.0,94.0,541.0,22.0,263.0,24.0,61.0,137.0,455.0,258.0,354.0,139.0,436.0,10.0,null,16.0,103.0,13.0,2014.0,306.0,140.0,607.0,563.0,74.0,569.0,781.0,38.0,36.0,2.0,null,350.0,2460.0,62.0,11.0,117.0,60.0,17.0,17.0,46.0,320.0,301.0,84.0,11.0,34.0,733.0,488.0,61.0,25.0,97.0,58.0,546.0,17.0,36.0,2236.0,598.0,4.0,16.0,299.0,611.0,37.0,141.0,2.0,24.0,4469.0,null,48.0,24.0],\"xaxis\":\"x\",\"y\":[null,10482.0,null,null,null,87566.0,98.0,null,146659.0,null,null,null,124.0,null,null,null,2477.0,null,null,null,10753.0,14.0,28625.0,85.0,362.0,null,null,null,null,null,null,null,null,null,null,17862.0,null,52938.0,null,null,10313.0,690509.0,null,null,null,1574518.0,null,3822.0,256352.0,4687.0,null,null,null,null,16.0,76761.0,312688.0,null,null,null,null,null,61368.0,null,null,null,null,null,null,null,null,null,null,2182.0,451.0,null,null,null,18054.0,283378.0,null,null,null,6626.0,7114.0,2249.0,null,null,241.0,217.0,null,null,null,null,17786.0,null,null,40.0,7711.0,1181.0,null,null,null,19.0,100.0,592.0,null,null,null,38.0,2300.0,null,null,null,null,null,null,null,null,null,null,1592187.0,542903.0,null,null,225.0,1672.0,14242.0,7150.0,1446.0,null,null,null,null,null,1367.0,null,null,516955.0,null,null,null,null,null,3646.0,7611.0,null,null,null,null,null,39.0,null,2.0,null,30898.0,154284.0,null,150790.0,3554.0,96.0,27075.0,null,718.0,null,9.0,null,null,1820.0,null,null,null,null,null,null,null,73.0,6497.0,1208.0,2000.0,null,null,null,791.0,null,null,null,360.0,null,null,47466.0,68126.0,null,null,null,null,85.0,7252.0,91.0,14620.0,131.0,null,48250.0,52359.0,null,null,null,null,null,366.0,13712.0,null,null,null,null,null,140661.0,148272.0,801.0,1993.0,null,null,null,null,4854.0,null,44395.0,572.0,null,null,null,null,85.0,9211.0,null,null,4624.0,8.0,null,201142.0,null,null,null,975.0,null,null,null,408.0,1410.0,117.0,null,null,null,null,null,null,null,null,null,null,null,12030.0,214334.0,null,null,1277.0,47612.0,null,null,1.0,null,null,null,null,20.0,658.0,null,982.0,null,59.0,null,null,null,null,13036.0,null,null,null,null,null,null,null,null,null,90.0,null,null,null,null],\"yaxis\":\"y\",\"type\":\"scatter\"},{\"hovertemplate\":\"<b>OLS trendline</b><br>2019_US_Mortality_19 = 160.163 * 2019 + 23827.6<br>R<sup>2</sup>=0.270612<br><br>Funding Amount (Millions)=%{x}<br>Total Mortality (2019)=%{y} <b>(trend)</b><extra></extra>\",\"legendgroup\":\"\",\"marker\":{\"color\":\"#636efa\",\"symbol\":\"circle\"},\"mode\":\"lines\",\"name\":\"\",\"showlegend\":false,\"x\":[2.0,3.0,5.0,5.0,7.0,8.0,8.0,8.0,11.0,11.0,11.0,11.0,11.0,12.0,12.0,13.0,13.0,13.0,13.0,15.0,15.0,16.0,16.0,16.0,17.0,17.0,18.0,19.0,24.0,24.0,25.0,27.0,28.0,31.0,32.0,34.0,34.0,36.0,36.0,37.0,43.0,44.0,48.0,64.0,67.0,76.0,79.0,82.0,83.0,86.0,94.0,103.0,106.0,111.0,112.0,117.0,121.0,124.0,126.0,127.0,137.0,138.0,139.0,146.0,150.0,151.0,158.0,163.0,168.0,188.0,196.0,219.0,224.0,248.0,263.0,263.0,266.0,290.0,294.0,313.0,350.0,351.0,359.0,374.0,384.0,400.0,419.0,421.0,488.0,521.0,556.0,578.0,709.0,759.0,784.0,811.0,851.0,1099.0,1109.0,1443.0,2240.0,2394.0,3037.0,6520.0],\"xaxis\":\"x\",\"y\":[24147.97331540325,24308.136359310894,24628.46244712618,24628.46244712618,24948.78853494147,25108.95157884911,25108.95157884911,25108.95157884911,25589.440710572042,25589.440710572042,25589.440710572042,25589.440710572042,25589.440710572042,25749.603754479685,25749.603754479685,25909.76679838733,25909.76679838733,25909.76679838733,25909.76679838733,26230.092886202616,26230.092886202616,26390.25593011026,26390.25593011026,26390.25593011026,26550.418974017903,26550.418974017903,26710.582017925546,26870.745061833193,27671.560281371407,27671.560281371407,27831.723325279054,28152.04941309434,28312.212457001984,28792.701588724914,28952.864632632558,29273.190720447845,29273.190720447845,29593.51680826313,29593.51680826313,29753.679852170775,30714.658115616636,30874.82115952428,31515.473335154853,34078.08203767715,34558.57116940008,36000.03856456887,36480.5276962918,36961.01682801473,37121.17987192237,37601.66900364531,38882.973354906455,40324.44075007524,40804.929881798176,41605.7451013364,41765.908145244044,42566.72336478226,43207.37554041283,43687.864672135765,44008.190759951045,44168.35380385869,45769.98424293513,45930.147286842766,46090.31033075041,47211.451638103914,47852.103813734495,48012.26685764214,49133.40816499564,49934.22338453386,50735.03860407208,53938.299482224946,55219.60383348609,58903.353843361896,59704.16906290012,63548.08211668356,65950.52777529822,65950.52777529822,66431.01690702114,70274.92996080458,70915.58213643516,73958.67997068039,79884.7125952632,80044.87563917084,81326.17999043199,83728.62564904665,85330.25608812307,87892.86479064537,90935.9626248906,91256.2887127059,101987.212654518,107272.59310347024,112878.29964023776,116401.88660620592,137383.2453581072,145391.3975534894,149395.4736511805,153719.87583668687,160126.3975929926,199846.8324820882,201448.46292116464,254942.91958631758,382592.8655807094,407257.9743424866,510242.81157510134,1068090.6935054238],\"yaxis\":\"y\",\"type\":\"scatter\"}],                        {\"template\":{\"data\":{\"histogram2dcontour\":[{\"type\":\"histogram2dcontour\",\"colorbar\":{\"outlinewidth\":0,\"ticks\":\"\"},\"colorscale\":[[0.0,\"#0d0887\"],[0.1111111111111111,\"#46039f\"],[0.2222222222222222,\"#7201a8\"],[0.3333333333333333,\"#9c179e\"],[0.4444444444444444,\"#bd3786\"],[0.5555555555555556,\"#d8576b\"],[0.6666666666666666,\"#ed7953\"],[0.7777777777777778,\"#fb9f3a\"],[0.8888888888888888,\"#fdca26\"],[1.0,\"#f0f921\"]]}],\"choropleth\":[{\"type\":\"choropleth\",\"colorbar\":{\"outlinewidth\":0,\"ticks\":\"\"}}],\"histogram2d\":[{\"type\":\"histogram2d\",\"colorbar\":{\"outlinewidth\":0,\"ticks\":\"\"},\"colorscale\":[[0.0,\"#0d0887\"],[0.1111111111111111,\"#46039f\"],[0.2222222222222222,\"#7201a8\"],[0.3333333333333333,\"#9c179e\"],[0.4444444444444444,\"#bd3786\"],[0.5555555555555556,\"#d8576b\"],[0.6666666666666666,\"#ed7953\"],[0.7777777777777778,\"#fb9f3a\"],[0.8888888888888888,\"#fdca26\"],[1.0,\"#f0f921\"]]}],\"heatmap\":[{\"type\":\"heatmap\",\"colorbar\":{\"outlinewidth\":0,\"ticks\":\"\"},\"colorscale\":[[0.0,\"#0d0887\"],[0.1111111111111111,\"#46039f\"],[0.2222222222222222,\"#7201a8\"],[0.3333333333333333,\"#9c179e\"],[0.4444444444444444,\"#bd3786\"],[0.5555555555555556,\"#d8576b\"],[0.6666666666666666,\"#ed7953\"],[0.7777777777777778,\"#fb9f3a\"],[0.8888888888888888,\"#fdca26\"],[1.0,\"#f0f921\"]]}],\"heatmapgl\":[{\"type\":\"heatmapgl\",\"colorbar\":{\"outlinewidth\":0,\"ticks\":\"\"},\"colorscale\":[[0.0,\"#0d0887\"],[0.1111111111111111,\"#46039f\"],[0.2222222222222222,\"#7201a8\"],[0.3333333333333333,\"#9c179e\"],[0.4444444444444444,\"#bd3786\"],[0.5555555555555556,\"#d8576b\"],[0.6666666666666666,\"#ed7953\"],[0.7777777777777778,\"#fb9f3a\"],[0.8888888888888888,\"#fdca26\"],[1.0,\"#f0f921\"]]}],\"contourcarpet\":[{\"type\":\"contourcarpet\",\"colorbar\":{\"outlinewidth\":0,\"ticks\":\"\"}}],\"contour\":[{\"type\":\"contour\",\"colorbar\":{\"outlinewidth\":0,\"ticks\":\"\"},\"colorscale\":[[0.0,\"#0d0887\"],[0.1111111111111111,\"#46039f\"],[0.2222222222222222,\"#7201a8\"],[0.3333333333333333,\"#9c179e\"],[0.4444444444444444,\"#bd3786\"],[0.5555555555555556,\"#d8576b\"],[0.6666666666666666,\"#ed7953\"],[0.7777777777777778,\"#fb9f3a\"],[0.8888888888888888,\"#fdca26\"],[1.0,\"#f0f921\"]]}],\"surface\":[{\"type\":\"surface\",\"colorbar\":{\"outlinewidth\":0,\"ticks\":\"\"},\"colorscale\":[[0.0,\"#0d0887\"],[0.1111111111111111,\"#46039f\"],[0.2222222222222222,\"#7201a8\"],[0.3333333333333333,\"#9c179e\"],[0.4444444444444444,\"#bd3786\"],[0.5555555555555556,\"#d8576b\"],[0.6666666666666666,\"#ed7953\"],[0.7777777777777778,\"#fb9f3a\"],[0.8888888888888888,\"#fdca26\"],[1.0,\"#f0f921\"]]}],\"mesh3d\":[{\"type\":\"mesh3d\",\"colorbar\":{\"outlinewidth\":0,\"ticks\":\"\"}}],\"scatter\":[{\"fillpattern\":{\"fillmode\":\"overlay\",\"size\":10,\"solidity\":0.2},\"type\":\"scatter\"}],\"parcoords\":[{\"type\":\"parcoords\",\"line\":{\"colorbar\":{\"outlinewidth\":0,\"ticks\":\"\"}}}],\"scatterpolargl\":[{\"type\":\"scatterpolargl\",\"marker\":{\"colorbar\":{\"outlinewidth\":0,\"ticks\":\"\"}}}],\"bar\":[{\"error_x\":{\"color\":\"#2a3f5f\"},\"error_y\":{\"color\":\"#2a3f5f\"},\"marker\":{\"line\":{\"color\":\"#E5ECF6\",\"width\":0.5},\"pattern\":{\"fillmode\":\"overlay\",\"size\":10,\"solidity\":0.2}},\"type\":\"bar\"}],\"scattergeo\":[{\"type\":\"scattergeo\",\"marker\":{\"colorbar\":{\"outlinewidth\":0,\"ticks\":\"\"}}}],\"scatterpolar\":[{\"type\":\"scatterpolar\",\"marker\":{\"colorbar\":{\"outlinewidth\":0,\"ticks\":\"\"}}}],\"histogram\":[{\"marker\":{\"pattern\":{\"fillmode\":\"overlay\",\"size\":10,\"solidity\":0.2}},\"type\":\"histogram\"}],\"scattergl\":[{\"type\":\"scattergl\",\"marker\":{\"colorbar\":{\"outlinewidth\":0,\"ticks\":\"\"}}}],\"scatter3d\":[{\"type\":\"scatter3d\",\"line\":{\"colorbar\":{\"outlinewidth\":0,\"ticks\":\"\"}},\"marker\":{\"colorbar\":{\"outlinewidth\":0,\"ticks\":\"\"}}}],\"scattermapbox\":[{\"type\":\"scattermapbox\",\"marker\":{\"colorbar\":{\"outlinewidth\":0,\"ticks\":\"\"}}}],\"scatterternary\":[{\"type\":\"scatterternary\",\"marker\":{\"colorbar\":{\"outlinewidth\":0,\"ticks\":\"\"}}}],\"scattercarpet\":[{\"type\":\"scattercarpet\",\"marker\":{\"colorbar\":{\"outlinewidth\":0,\"ticks\":\"\"}}}],\"carpet\":[{\"aaxis\":{\"endlinecolor\":\"#2a3f5f\",\"gridcolor\":\"white\",\"linecolor\":\"white\",\"minorgridcolor\":\"white\",\"startlinecolor\":\"#2a3f5f\"},\"baxis\":{\"endlinecolor\":\"#2a3f5f\",\"gridcolor\":\"white\",\"linecolor\":\"white\",\"minorgridcolor\":\"white\",\"startlinecolor\":\"#2a3f5f\"},\"type\":\"carpet\"}],\"table\":[{\"cells\":{\"fill\":{\"color\":\"#EBF0F8\"},\"line\":{\"color\":\"white\"}},\"header\":{\"fill\":{\"color\":\"#C8D4E3\"},\"line\":{\"color\":\"white\"}},\"type\":\"table\"}],\"barpolar\":[{\"marker\":{\"line\":{\"color\":\"#E5ECF6\",\"width\":0.5},\"pattern\":{\"fillmode\":\"overlay\",\"size\":10,\"solidity\":0.2}},\"type\":\"barpolar\"}],\"pie\":[{\"automargin\":true,\"type\":\"pie\"}]},\"layout\":{\"autotypenumbers\":\"strict\",\"colorway\":[\"#636efa\",\"#EF553B\",\"#00cc96\",\"#ab63fa\",\"#FFA15A\",\"#19d3f3\",\"#FF6692\",\"#B6E880\",\"#FF97FF\",\"#FECB52\"],\"font\":{\"color\":\"#2a3f5f\"},\"hovermode\":\"closest\",\"hoverlabel\":{\"align\":\"left\"},\"paper_bgcolor\":\"white\",\"plot_bgcolor\":\"#E5ECF6\",\"polar\":{\"bgcolor\":\"#E5ECF6\",\"angularaxis\":{\"gridcolor\":\"white\",\"linecolor\":\"white\",\"ticks\":\"\"},\"radialaxis\":{\"gridcolor\":\"white\",\"linecolor\":\"white\",\"ticks\":\"\"}},\"ternary\":{\"bgcolor\":\"#E5ECF6\",\"aaxis\":{\"gridcolor\":\"white\",\"linecolor\":\"white\",\"ticks\":\"\"},\"baxis\":{\"gridcolor\":\"white\",\"linecolor\":\"white\",\"ticks\":\"\"},\"caxis\":{\"gridcolor\":\"white\",\"linecolor\":\"white\",\"ticks\":\"\"}},\"coloraxis\":{\"colorbar\":{\"outlinewidth\":0,\"ticks\":\"\"}},\"colorscale\":{\"sequential\":[[0.0,\"#0d0887\"],[0.1111111111111111,\"#46039f\"],[0.2222222222222222,\"#7201a8\"],[0.3333333333333333,\"#9c179e\"],[0.4444444444444444,\"#bd3786\"],[0.5555555555555556,\"#d8576b\"],[0.6666666666666666,\"#ed7953\"],[0.7777777777777778,\"#fb9f3a\"],[0.8888888888888888,\"#fdca26\"],[1.0,\"#f0f921\"]],\"sequentialminus\":[[0.0,\"#0d0887\"],[0.1111111111111111,\"#46039f\"],[0.2222222222222222,\"#7201a8\"],[0.3333333333333333,\"#9c179e\"],[0.4444444444444444,\"#bd3786\"],[0.5555555555555556,\"#d8576b\"],[0.6666666666666666,\"#ed7953\"],[0.7777777777777778,\"#fb9f3a\"],[0.8888888888888888,\"#fdca26\"],[1.0,\"#f0f921\"]],\"diverging\":[[0,\"#8e0152\"],[0.1,\"#c51b7d\"],[0.2,\"#de77ae\"],[0.3,\"#f1b6da\"],[0.4,\"#fde0ef\"],[0.5,\"#f7f7f7\"],[0.6,\"#e6f5d0\"],[0.7,\"#b8e186\"],[0.8,\"#7fbc41\"],[0.9,\"#4d9221\"],[1,\"#276419\"]]},\"xaxis\":{\"gridcolor\":\"white\",\"linecolor\":\"white\",\"ticks\":\"\",\"title\":{\"standoff\":15},\"zerolinecolor\":\"white\",\"automargin\":true,\"zerolinewidth\":2},\"yaxis\":{\"gridcolor\":\"white\",\"linecolor\":\"white\",\"ticks\":\"\",\"title\":{\"standoff\":15},\"zerolinecolor\":\"white\",\"automargin\":true,\"zerolinewidth\":2},\"scene\":{\"xaxis\":{\"backgroundcolor\":\"#E5ECF6\",\"gridcolor\":\"white\",\"linecolor\":\"white\",\"showbackground\":true,\"ticks\":\"\",\"zerolinecolor\":\"white\",\"gridwidth\":2},\"yaxis\":{\"backgroundcolor\":\"#E5ECF6\",\"gridcolor\":\"white\",\"linecolor\":\"white\",\"showbackground\":true,\"ticks\":\"\",\"zerolinecolor\":\"white\",\"gridwidth\":2},\"zaxis\":{\"backgroundcolor\":\"#E5ECF6\",\"gridcolor\":\"white\",\"linecolor\":\"white\",\"showbackground\":true,\"ticks\":\"\",\"zerolinecolor\":\"white\",\"gridwidth\":2}},\"shapedefaults\":{\"line\":{\"color\":\"#2a3f5f\"}},\"annotationdefaults\":{\"arrowcolor\":\"#2a3f5f\",\"arrowhead\":0,\"arrowwidth\":1},\"geo\":{\"bgcolor\":\"white\",\"landcolor\":\"#E5ECF6\",\"subunitcolor\":\"white\",\"showland\":true,\"showlakes\":true,\"lakecolor\":\"white\"},\"title\":{\"x\":0.05},\"mapbox\":{\"style\":\"light\"}}},\"xaxis\":{\"anchor\":\"y\",\"domain\":[0.0,1.0],\"title\":{\"text\":\"Funding Amount (Millions)\"},\"range\":[0,7000]},\"yaxis\":{\"anchor\":\"x\",\"domain\":[0.0,1.0],\"title\":{\"text\":\"Total Mortality (2019)\"}},\"legend\":{\"tracegroupgap\":0},\"margin\":{\"t\":60},\"height\":600,\"width\":800,\"title\":{\"text\":\"Comparison of Funding and Mortality Levels\",\"y\":0.95,\"x\":0.5,\"xanchor\":\"center\",\"yanchor\":\"top\"}},                        {\"responsive\": true}                    ).then(function(){\n",
       "                            \n",
       "var gd = document.getElementById('ed07278d-5f06-48db-8163-12a6a0f19eb4');\n",
       "var x = new MutationObserver(function (mutations, observer) {{\n",
       "        var display = window.getComputedStyle(gd).display;\n",
       "        if (!display || display === 'none') {{\n",
       "            console.log([gd, 'removed!']);\n",
       "            Plotly.purge(gd);\n",
       "            observer.disconnect();\n",
       "        }}\n",
       "}});\n",
       "\n",
       "// Listen for the removal of the full notebook cells\n",
       "var notebookContainer = gd.closest('#notebook-container');\n",
       "if (notebookContainer) {{\n",
       "    x.observe(notebookContainer, {childList: true});\n",
       "}}\n",
       "\n",
       "// Listen for the clearing of the current output cell\n",
       "var outputEl = gd.closest('.output');\n",
       "if (outputEl) {{\n",
       "    x.observe(outputEl, {childList: true});\n",
       "}}\n",
       "\n",
       "                        })                };                });            </script>        </div>"
      ]
     },
     "metadata": {},
     "output_type": "display_data"
    }
   ],
   "source": [
    "fig = px.scatter(df2019, x=\"2019\", y=\"2019_US_Mortality_19\", hover_data=['research_category'], \n",
    "                trendline=\"ols\", \n",
    "                labels={\n",
    "                     \"2019_US_Mortality_19\": \"Total Mortality (2019)\",\n",
    "                     \"research_category\": \"Research Category\",\n",
    "                     \"2019\": \"Funding Amount (Millions)\"\n",
    "                 }, \n",
    "                width=800, height=600)\n",
    "\n",
    "\n",
    "fig.update_layout(\n",
    "    title={\n",
    "        'text': \"Comparison of Funding and Mortality Levels\",\n",
    "        'y':0.95,\n",
    "        'x':0.5,\n",
    "        'xanchor': 'center',\n",
    "        'yanchor': 'top'})\n",
    "\n",
    "fig.update_layout(xaxis_range=[0,7000])\n",
    "\n",
    "fig.show()"
   ]
  }
 ],
 "metadata": {
  "kernelspec": {
   "display_name": "Ipython - NIH",
   "language": "python",
   "name": "nih"
  },
  "language_info": {
   "codemirror_mode": {
    "name": "ipython",
    "version": 3
   },
   "file_extension": ".py",
   "mimetype": "text/x-python",
   "name": "python",
   "nbconvert_exporter": "python",
   "pygments_lexer": "ipython3",
   "version": "3.9.12"
  }
 },
 "nbformat": 4,
 "nbformat_minor": 5
}
