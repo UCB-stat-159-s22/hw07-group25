{
 "cells": [
  {
   "cell_type": "code",
   "execution_count": 19,
   "id": "06273da8-7eb2-44d0-9ec5-b787aacd6b93",
   "metadata": {},
   "outputs": [],
   "source": [
    "import pandas as pd\n",
    "import numpy as np\n",
    "import h5py\n",
    "\n",
    "# load data\n",
    "df = pd.read_csv (r'data/raw_data/funding_data.csv')\n",
    "\n",
    "# replace + and - so they are coded as missing\n",
    "df = df.replace('+', np.NaN, regex=False)\n",
    "df = df.replace('-', np.NaN, regex=False)\n",
    "\n",
    "# Export the pandas DataFrame into HDF5\n",
    "h5File = \"data/cleaned_data/funding_data.hdf5\";\n",
    "df.to_hdf(h5File, \"/data/cleaned_data\");"
   ]
  },
  {
   "cell_type": "code",
   "execution_count": 20,
   "id": "19bef547-0b08-4b30-ae34-7a55bd3f9de5",
   "metadata": {},
   "outputs": [],
   "source": [
    "# Use pandas again to read data from the hdf5 file to the pandas DataFrame\n",
    "df = pd.read_hdf(h5File, \"/data/cleaned_data\");"
   ]
  }
 ],
 "metadata": {
  "kernelspec": {
   "display_name": "Python 3 (ipykernel)",
   "language": "python",
   "name": "python3"
  },
  "language_info": {
   "codemirror_mode": {
    "name": "ipython",
    "version": 3
   },
   "file_extension": ".py",
   "mimetype": "text/x-python",
   "name": "python",
   "nbconvert_exporter": "python",
   "pygments_lexer": "ipython3",
   "version": "3.9.9"
  }
 },
 "nbformat": 4,
 "nbformat_minor": 5
}
